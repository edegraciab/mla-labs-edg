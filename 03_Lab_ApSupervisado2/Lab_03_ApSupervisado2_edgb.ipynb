{
 "cells": [
  {
   "cell_type": "markdown",
   "metadata": {},
   "source": [
    "<h3 style=\"text-align: center;\"> <strong> UNIVERSIDAD TECNOLÓGICA DE PANAMÁ </strong></h3>\n",
    "<h3 style=\"text-align: center;\">FACULTAD DE INGENIERÍA DE SISTEMAS COMPUTACIONALES</h3>\n",
    "<h3 style=\"text-align: center;\">MAESTRÍA EN ANALÍTICA DE DATOS</h3>\n",
    "    \n",
    "<h1 style=\"text-align: center;\"><strong>-----LABORATORIO N°3:  APRENDIZAJE SUPERVISADO 2-----</strong></h1>\n",
    "<h3 style=\"text-align: center;\">MACHINE LEARNING Y ANALITICA PRESCRIPTIVA - S108</h3>\n",
    "\n",
    "\n",
    "\n",
    "\n",
    "|  **FACILITADOR** | Dr. José Carlos Rangel Ortiz          |\n",
    "|-----------------|---------------------------------------|\n",
    "| **MÓDULO 2**    | Clasificadores  |\n",
    "|  **UNIDAD 1**    | Algoritmos de Aprendizaje Supervisado |\n",
    "    \n",
    "\n",
    "| **NOMBRE DEL ESTUDIANTE:** | STEPHANIE DE LEON 8-856-600______________________________|\n",
    "|----------------------------|-----------------------------------------------------------------------------------------|"
   ]
  },
  {
   "cell_type": "markdown",
   "metadata": {},
   "source": [
    "# Introducción \n",
    "\n",
    "\n",
    "El Aprendizaje Automático(ML) y la Ciencia de Datos se entrelazan como dos piezas de un rompecabezas, formando una poderosa herramienta para la extracción de conocimiento a partir de datos. El ML enriquece el campo de la Ciencia de Datos, impulsando el análisis y la toma de decisiones informadas.\n",
    "\n",
    "El ML dota a los científicos de datos de algoritmos inteligentes que pueden aprender de grandes conjuntos de datos sin necesidad de una programación explícita. Estos algoritmos son capaces de identificar patrones complejos, realizar predicciones y tomar decisiones autónomas, lo que permite a los científicos de datos:\n",
    "\n",
    "- Automatizar tareas tediosas\n",
    "- Descubrir patrones ocultos\n",
    "- Realizar predicciones precisas\n",
    "- Realizar predicciones precisas\n",
    "\n",
    "**Casos de uso del Aprendizaje Automático en la Ciencia de Datos**\n",
    "\n",
    "- Análisis de fraude\n",
    "- Recomendación de productos\n",
    "- Detección de anomalías\n",
    "- Segmentación de clientes\n",
    "- Reconocimiento de imágenes\n",
    "\n",
    "En este laboratorio se utilizarán los algoritmos de Support Vector Machines y de Redes Neuronales (Perceptron Multicapa). Estos algoritmos forman parte del grupo de los algoritmos supervisados y pueden ser utilizados en enfoques de regresión y clasificación. \n",
    "En el caso del desarrollo de Redes Neuronales, se estarán utilizando códigos de SciKitLearn así como también TensorFlow, haciendo enfásis en las diferencias de estos al momento de obtener nuestros resultados. El algoritmo de Regresión Lineal de SciKitLearn calcula estos parámetros que representan los datos de entrenamiento. Estas librerías aportan diferentes niveles de control sobre los paramétros y opciones del algoritmo. \n",
    "\n"
   ]
  },
  {
   "cell_type": "markdown",
   "metadata": {},
   "source": [
    "<div class=\"alert alert-success\", role=\"alert\">\n",
    "    <h1 style=\"font-size: 1.5em;\">Parte 1 </h1>\n",
    "    <h2 style=\"font-size: 1.5em; \"><strong>Support Vectors Machines</strong></h2>\n",
    "</div>\n"
   ]
  },
  {
   "cell_type": "markdown",
   "metadata": {},
   "source": [
    "## Importar Librerias"
   ]
  },
  {
   "cell_type": "code",
   "execution_count": 2,
   "metadata": {},
   "outputs": [
    {
     "name": "stdout",
     "output_type": "stream",
     "text": [
      "Collecting palmerpenguins\n",
      "  Using cached palmerpenguins-0.1.4-py3-none-any.whl.metadata (2.0 kB)\n",
      "Requirement already satisfied: pandas in c:\\users\\steph\\anaconda3\\lib\\site-packages (from palmerpenguins) (2.1.4)\n",
      "Requirement already satisfied: numpy in c:\\users\\steph\\anaconda3\\lib\\site-packages (from palmerpenguins) (1.26.4)\n",
      "Requirement already satisfied: python-dateutil>=2.8.2 in c:\\users\\steph\\anaconda3\\lib\\site-packages (from pandas->palmerpenguins) (2.8.2)\n",
      "Requirement already satisfied: pytz>=2020.1 in c:\\users\\steph\\anaconda3\\lib\\site-packages (from pandas->palmerpenguins) (2023.3.post1)\n",
      "Requirement already satisfied: tzdata>=2022.1 in c:\\users\\steph\\anaconda3\\lib\\site-packages (from pandas->palmerpenguins) (2023.3)\n",
      "Requirement already satisfied: six>=1.5 in c:\\users\\steph\\anaconda3\\lib\\site-packages (from python-dateutil>=2.8.2->pandas->palmerpenguins) (1.16.0)\n",
      "Using cached palmerpenguins-0.1.4-py3-none-any.whl (17 kB)\n",
      "Installing collected packages: palmerpenguins\n",
      "Successfully installed palmerpenguins-0.1.4\n"
     ]
    }
   ],
   "source": [
    "!pip install palmerpenguins"
   ]
  },
  {
   "cell_type": "code",
   "execution_count": 88,
   "metadata": {
    "tags": []
   },
   "outputs": [],
   "source": [
    "import pandas as pd\n",
    "import seaborn as sns\n",
    "import numpy as np\n",
    "\n",
    "import matplotlib.pyplot as plt \n",
    "\n",
    "from sklearn import preprocessing \n",
    "from sklearn.preprocessing import StandardScaler, LabelEncoder, OneHotEncoder\n",
    "\n",
    "\n",
    "from sklearn.model_selection import train_test_split\n",
    "from sklearn.linear_model import LinearRegression\n",
    "from sklearn.svm import SVC\n",
    "\n",
    "import sklearn.metrics\n",
    "from sklearn.metrics import ConfusionMatrixDisplay, classification_report, confusion_matrix\n",
    "from sklearn.neural_network import MLPClassifier\n",
    "\n",
    "import palmerpenguins\n"
   ]
  },
  {
   "cell_type": "markdown",
   "metadata": {},
   "source": [
    "<div class=\"alert alert-info\", role=\"success\">\n",
    "    <h1 style=\"font-size: 2em;\">Entrene un modelo de SVM para la predicción de la Especie del Pinguino usando solo los datos numéricos presentes en el dataset. </h1>\n",
    "</div>\n",
    "\n",
    "**obs.** Retirar también la variable 'year' del dataset"
   ]
  },
  {
   "cell_type": "markdown",
   "metadata": {},
   "source": [
    "## **[1]** Cargue el dataset y elimine los NaNs si existen"
   ]
  },
  {
   "cell_type": "code",
   "execution_count": 6,
   "metadata": {
    "tags": []
   },
   "outputs": [
    {
     "data": {
      "text/html": [
       "<div>\n",
       "<style scoped>\n",
       "    .dataframe tbody tr th:only-of-type {\n",
       "        vertical-align: middle;\n",
       "    }\n",
       "\n",
       "    .dataframe tbody tr th {\n",
       "        vertical-align: top;\n",
       "    }\n",
       "\n",
       "    .dataframe thead th {\n",
       "        text-align: right;\n",
       "    }\n",
       "</style>\n",
       "<table border=\"1\" class=\"dataframe\">\n",
       "  <thead>\n",
       "    <tr style=\"text-align: right;\">\n",
       "      <th></th>\n",
       "      <th>species</th>\n",
       "      <th>island</th>\n",
       "      <th>culmen_length_mm</th>\n",
       "      <th>culmen_depth_mm</th>\n",
       "      <th>flipper_length_mm</th>\n",
       "      <th>body_mass_g</th>\n",
       "      <th>sex</th>\n",
       "    </tr>\n",
       "  </thead>\n",
       "  <tbody>\n",
       "    <tr>\n",
       "      <th>0</th>\n",
       "      <td>Adelie</td>\n",
       "      <td>Torgersen</td>\n",
       "      <td>39.1</td>\n",
       "      <td>18.7</td>\n",
       "      <td>181.0</td>\n",
       "      <td>3750.0</td>\n",
       "      <td>MALE</td>\n",
       "    </tr>\n",
       "    <tr>\n",
       "      <th>1</th>\n",
       "      <td>Adelie</td>\n",
       "      <td>Torgersen</td>\n",
       "      <td>39.5</td>\n",
       "      <td>17.4</td>\n",
       "      <td>186.0</td>\n",
       "      <td>3800.0</td>\n",
       "      <td>FEMALE</td>\n",
       "    </tr>\n",
       "    <tr>\n",
       "      <th>2</th>\n",
       "      <td>Adelie</td>\n",
       "      <td>Torgersen</td>\n",
       "      <td>40.3</td>\n",
       "      <td>18.0</td>\n",
       "      <td>195.0</td>\n",
       "      <td>3250.0</td>\n",
       "      <td>FEMALE</td>\n",
       "    </tr>\n",
       "    <tr>\n",
       "      <th>3</th>\n",
       "      <td>Adelie</td>\n",
       "      <td>Torgersen</td>\n",
       "      <td>NaN</td>\n",
       "      <td>NaN</td>\n",
       "      <td>NaN</td>\n",
       "      <td>NaN</td>\n",
       "      <td>NaN</td>\n",
       "    </tr>\n",
       "    <tr>\n",
       "      <th>4</th>\n",
       "      <td>Adelie</td>\n",
       "      <td>Torgersen</td>\n",
       "      <td>36.7</td>\n",
       "      <td>19.3</td>\n",
       "      <td>193.0</td>\n",
       "      <td>3450.0</td>\n",
       "      <td>FEMALE</td>\n",
       "    </tr>\n",
       "  </tbody>\n",
       "</table>\n",
       "</div>"
      ],
      "text/plain": [
       "  species     island  culmen_length_mm  culmen_depth_mm  flipper_length_mm  \\\n",
       "0  Adelie  Torgersen              39.1             18.7              181.0   \n",
       "1  Adelie  Torgersen              39.5             17.4              186.0   \n",
       "2  Adelie  Torgersen              40.3             18.0              195.0   \n",
       "3  Adelie  Torgersen               NaN              NaN                NaN   \n",
       "4  Adelie  Torgersen              36.7             19.3              193.0   \n",
       "\n",
       "   body_mass_g     sex  \n",
       "0       3750.0    MALE  \n",
       "1       3800.0  FEMALE  \n",
       "2       3250.0  FEMALE  \n",
       "3          NaN     NaN  \n",
       "4       3450.0  FEMALE  "
      ]
     },
     "execution_count": 6,
     "metadata": {},
     "output_type": "execute_result"
    }
   ],
   "source": [
    "penguins_file = pd.read_csv('penguins_size.csv')\n",
    "penguins_file.head()\n",
    "\n"
   ]
  },
  {
   "cell_type": "code",
   "execution_count": 7,
   "metadata": {},
   "outputs": [
    {
     "name": "stdout",
     "output_type": "stream",
     "text": [
      "Filas originales: 344\n",
      "Filas después de eliminar nulos(NaN): 334\n"
     ]
    }
   ],
   "source": [
    "penguins_clean_df = penguins_file.dropna()\n",
    "print(f\"Filas originales: {len(penguins_file)}\")\n",
    "print(f\"Filas después de eliminar nulos(NaN): {len(penguins_clean_df)}\")"
   ]
  },
  {
   "cell_type": "markdown",
   "metadata": {},
   "source": [
    "## **[2]** Genere el dataset solo con las variables numéricas (función **.drop()**), separe X & Y para el entrenamiento"
   ]
  },
  {
   "cell_type": "code",
   "execution_count": 8,
   "metadata": {},
   "outputs": [
    {
     "data": {
      "text/plain": [
       "species               object\n",
       "island                object\n",
       "culmen_length_mm     float64\n",
       "culmen_depth_mm      float64\n",
       "flipper_length_mm    float64\n",
       "body_mass_g          float64\n",
       "sex                   object\n",
       "dtype: object"
      ]
     },
     "execution_count": 8,
     "metadata": {},
     "output_type": "execute_result"
    }
   ],
   "source": [
    "penguins_clean_df.dtypes"
   ]
  },
  {
   "cell_type": "code",
   "execution_count": 9,
   "metadata": {},
   "outputs": [
    {
     "name": "stdout",
     "output_type": "stream",
     "text": [
      "   culmen_length_mm  culmen_depth_mm  flipper_length_mm  body_mass_g\n",
      "0              39.1             18.7              181.0       3750.0\n",
      "1              39.5             17.4              186.0       3800.0\n",
      "2              40.3             18.0              195.0       3250.0\n",
      "4              36.7             19.3              193.0       3450.0\n",
      "5              39.3             20.6              190.0       3650.0\n"
     ]
    }
   ],
   "source": [
    "penguins_no = penguins_clean_df.drop(columns=penguins_clean_df.select_dtypes(exclude=['number']).columns)\n",
    "print(penguins_no.head())"
   ]
  },
  {
   "cell_type": "code",
   "execution_count": 11,
   "metadata": {},
   "outputs": [
    {
     "name": "stdout",
     "output_type": "stream",
     "text": [
      "Forma de X: (334, 4)\n",
      "Forma de y: (334,)\n"
     ]
    }
   ],
   "source": [
    "# X: Descriptores \n",
    "X = penguins_no\n",
    "\n",
    "# y: objetivo \n",
    "y = penguins_clean_df['species']\n",
    "\n",
    "print(\"Forma de X:\", X.shape)  \n",
    "print(\"Forma de y:\", y.shape)  "
   ]
  },
  {
   "cell_type": "code",
   "execution_count": 12,
   "metadata": {},
   "outputs": [],
   "source": [
    "# Dividir en 80% train y 20% test\n",
    "X_train, X_test, y_train, y_test = train_test_split(X, y, test_size=0.2, random_state=42)"
   ]
  },
  {
   "cell_type": "markdown",
   "metadata": {},
   "source": [
    "## **[3]** Aplique el Escalado a los datos"
   ]
  },
  {
   "cell_type": "code",
   "execution_count": 16,
   "metadata": {
    "tags": []
   },
   "outputs": [
    {
     "name": "stdout",
     "output_type": "stream",
     "text": [
      "     culmen_length_mm  culmen_depth_mm  flipper_length_mm  body_mass_g\n",
      "230         -0.596447        -1.743053           0.921649       4650.0\n",
      "84          -1.265806         0.327614          -0.724133       3350.0\n",
      "303          1.095541        -0.631963           1.637206       5350.0\n",
      "22          -1.526111         1.034672          -0.867245       3800.0\n",
      "29          -0.670821         0.883159          -1.511246       3950.0\n"
     ]
    }
   ],
   "source": [
    "scaler = StandardScaler()\n",
    "penguins_no = ['culmen_length_mm', 'culmen_depth_mm', 'flipper_length_mm']\n",
    "X_train[penguins_no] = scaler.fit_transform(X_train[penguins_no])\n",
    "X_test[penguins_no] = scaler.transform(X_test[penguins_no])\n",
    "\n",
    "print(X_train.head())"
   ]
  },
  {
   "cell_type": "markdown",
   "metadata": {},
   "source": [
    "## **[4]** Entrene el modelo de predicción mediante SVM"
   ]
  },
  {
   "cell_type": "code",
   "execution_count": null,
   "metadata": {
    "tags": []
   },
   "outputs": [],
   "source": [
    "svm = SVC(kernel=\"poly\", C=1, gamma=\"scale\")  \n",
    "svm.fit(X_train, y_train)\n",
    "output = svm.predict(X_test)"
   ]
  },
  {
   "cell_type": "markdown",
   "metadata": {},
   "source": [
    "## **[5]** Calcule el *score* de su modelo"
   ]
  },
  {
   "cell_type": "code",
   "execution_count": 19,
   "metadata": {
    "tags": []
   },
   "outputs": [
    {
     "name": "stdout",
     "output_type": "stream",
     "text": [
      "Test Accuracy: 0.7313432835820896\n"
     ]
    }
   ],
   "source": [
    "test_score = svm.score(X_test, y_test)\n",
    "\n",
    "print(\"Test Accuracy:\", test_score)"
   ]
  },
  {
   "cell_type": "markdown",
   "metadata": {},
   "source": [
    "## **[6]** Imprima las predicciones de categorías para las instancias usadas para el entrenamiento"
   ]
  },
  {
   "cell_type": "code",
   "execution_count": 21,
   "metadata": {
    "tags": []
   },
   "outputs": [
    {
     "name": "stdout",
     "output_type": "stream",
     "text": [
      "Predicciones de categorias del entrenamiento:\n",
      "['Gentoo' 'Adelie' 'Gentoo' 'Adelie' 'Adelie' 'Gentoo' 'Gentoo' 'Gentoo'\n",
      " 'Adelie' 'Adelie' 'Adelie' 'Adelie' 'Gentoo' 'Adelie' 'Adelie' 'Adelie'\n",
      " 'Adelie' 'Gentoo' 'Gentoo' 'Adelie' 'Gentoo' 'Gentoo' 'Adelie' 'Gentoo'\n",
      " 'Gentoo' 'Adelie' 'Adelie' 'Adelie' 'Adelie' 'Gentoo' 'Adelie' 'Adelie'\n",
      " 'Adelie' 'Adelie' 'Gentoo' 'Gentoo' 'Adelie' 'Gentoo' 'Adelie' 'Gentoo'\n",
      " 'Gentoo' 'Adelie' 'Adelie' 'Adelie' 'Gentoo' 'Adelie' 'Adelie' 'Adelie'\n",
      " 'Adelie' 'Adelie' 'Adelie' 'Adelie' 'Adelie' 'Adelie' 'Adelie' 'Gentoo'\n",
      " 'Adelie' 'Adelie' 'Gentoo' 'Adelie' 'Adelie' 'Adelie' 'Adelie' 'Adelie'\n",
      " 'Adelie' 'Adelie' 'Adelie' 'Adelie' 'Adelie' 'Gentoo' 'Adelie' 'Gentoo'\n",
      " 'Adelie' 'Adelie' 'Gentoo' 'Adelie' 'Gentoo' 'Adelie' 'Gentoo' 'Adelie'\n",
      " 'Gentoo' 'Gentoo' 'Adelie' 'Adelie' 'Gentoo' 'Adelie' 'Adelie' 'Gentoo'\n",
      " 'Adelie' 'Adelie' 'Adelie' 'Adelie' 'Adelie' 'Adelie' 'Gentoo' 'Gentoo'\n",
      " 'Gentoo' 'Adelie' 'Gentoo' 'Gentoo' 'Adelie' 'Gentoo' 'Adelie' 'Adelie'\n",
      " 'Adelie' 'Gentoo' 'Adelie' 'Gentoo' 'Gentoo' 'Gentoo' 'Adelie' 'Adelie'\n",
      " 'Adelie' 'Gentoo' 'Adelie' 'Gentoo' 'Gentoo' 'Adelie' 'Adelie' 'Gentoo'\n",
      " 'Adelie' 'Gentoo' 'Adelie' 'Gentoo' 'Adelie' 'Adelie' 'Adelie' 'Adelie'\n",
      " 'Gentoo' 'Adelie' 'Adelie' 'Adelie' 'Adelie' 'Gentoo' 'Adelie' 'Gentoo'\n",
      " 'Adelie' 'Gentoo' 'Gentoo' 'Adelie' 'Adelie' 'Adelie' 'Adelie' 'Adelie'\n",
      " 'Gentoo' 'Adelie' 'Adelie' 'Adelie' 'Gentoo' 'Adelie' 'Gentoo' 'Adelie'\n",
      " 'Gentoo' 'Gentoo' 'Gentoo' 'Adelie' 'Adelie' 'Gentoo' 'Gentoo' 'Adelie'\n",
      " 'Gentoo' 'Adelie' 'Adelie' 'Adelie' 'Adelie' 'Adelie' 'Adelie' 'Adelie'\n",
      " 'Gentoo' 'Gentoo' 'Adelie' 'Gentoo' 'Adelie' 'Gentoo' 'Adelie' 'Gentoo'\n",
      " 'Adelie' 'Gentoo' 'Adelie' 'Adelie' 'Adelie' 'Gentoo' 'Adelie' 'Gentoo'\n",
      " 'Gentoo' 'Gentoo' 'Adelie' 'Adelie' 'Gentoo' 'Adelie' 'Adelie' 'Adelie'\n",
      " 'Adelie' 'Adelie' 'Adelie' 'Gentoo' 'Gentoo' 'Gentoo' 'Gentoo' 'Gentoo'\n",
      " 'Adelie' 'Adelie' 'Adelie' 'Gentoo' 'Adelie' 'Adelie' 'Gentoo' 'Adelie'\n",
      " 'Adelie' 'Adelie' 'Adelie' 'Gentoo' 'Adelie' 'Adelie' 'Gentoo' 'Adelie'\n",
      " 'Adelie' 'Adelie' 'Adelie' 'Adelie' 'Gentoo' 'Gentoo' 'Adelie' 'Adelie'\n",
      " 'Gentoo' 'Gentoo' 'Adelie' 'Adelie' 'Adelie' 'Adelie' 'Gentoo' 'Adelie'\n",
      " 'Gentoo' 'Gentoo' 'Adelie' 'Adelie' 'Adelie' 'Adelie' 'Gentoo' 'Adelie'\n",
      " 'Adelie' 'Adelie' 'Adelie' 'Gentoo' 'Gentoo' 'Adelie' 'Gentoo' 'Adelie'\n",
      " 'Gentoo' 'Gentoo' 'Gentoo' 'Gentoo' 'Gentoo' 'Adelie' 'Adelie' 'Adelie'\n",
      " 'Adelie' 'Gentoo' 'Gentoo' 'Adelie' 'Gentoo' 'Adelie' 'Adelie' 'Adelie'\n",
      " 'Adelie' 'Gentoo' 'Adelie']\n"
     ]
    }
   ],
   "source": [
    "y_train_pred = svm.predict(X_train)\n",
    "\n",
    "print(\"Predicciones de categorias del entrenamiento:\")\n",
    "print(y_train_pred)"
   ]
  },
  {
   "cell_type": "code",
   "execution_count": 22,
   "metadata": {},
   "outputs": [
    {
     "name": "stdout",
     "output_type": "stream",
     "text": [
      "          Real Predicho\n",
      "230     Gentoo   Gentoo\n",
      "84      Adelie   Adelie\n",
      "303     Gentoo   Gentoo\n",
      "22      Adelie   Adelie\n",
      "29      Adelie   Adelie\n",
      "257     Gentoo   Gentoo\n",
      "335     Gentoo   Gentoo\n",
      "244     Gentoo   Gentoo\n",
      "183  Chinstrap   Adelie\n",
      "88      Adelie   Adelie\n",
      "117     Adelie   Adelie\n",
      "149     Adelie   Adelie\n",
      "247     Gentoo   Gentoo\n",
      "122     Adelie   Adelie\n",
      "146     Adelie   Adelie\n",
      "182  Chinstrap   Adelie\n",
      "96      Adelie   Adelie\n",
      "322     Gentoo   Gentoo\n",
      "265     Gentoo   Gentoo\n",
      "36      Adelie   Adelie\n"
     ]
    }
   ],
   "source": [
    "output_train = pd.DataFrame({\n",
    "    \"Real\": y_train,\n",
    "    \"Predicho\": y_train_pred\n",
    "})\n",
    "\n",
    "print(output_train.head(20))  "
   ]
  },
  {
   "cell_type": "markdown",
   "metadata": {},
   "source": [
    "## **[7]** Genere la matriz de confusión del modelo"
   ]
  },
  {
   "cell_type": "code",
   "execution_count": 24,
   "metadata": {
    "tags": []
   },
   "outputs": [
    {
     "data": {
      "image/png": "[encoded data removed]",
      "text/plain": [
       "<Figure size 640x480 with 2 Axes>"
      ]
     },
     "metadata": {},
     "output_type": "display_data"
    }
   ],
   "source": [
    "categorias = [\"Adelie\", \"Chinstrap\", \"Gentoo\"]\n",
    "\n",
    "fig = ConfusionMatrixDisplay.from_estimator(\n",
    "    svm,              \n",
    "    X_test,           # features from test set\n",
    "    y_test,           # true labels from test set\n",
    "    display_labels=categorias,\n",
    "    cmap=\"Blues\"\n",
    ")\n",
    "\n",
    "fig.figure_.suptitle(\"Confusion Matrix - Penguin Species\")\n",
    "plt.show()"
   ]
  },
  {
   "cell_type": "markdown",
   "metadata": {},
   "source": [
    "<div class=\"alert alert-info\", role=\"success\">\n",
    "    <h1 style=\"font-size: 2em;\">Convierta las variables categóricas Sex e Isla a un formato numérico y entrene un nuevo clasificador para la especie del pinguino </h1>\n",
    "</div>\n"
   ]
  },
  {
   "cell_type": "markdown",
   "metadata": {},
   "source": [
    "## **[8]** Cargue el Dataset y separe las secuencias X & Y para el entrenamiento."
   ]
  },
  {
   "cell_type": "code",
   "execution_count": 25,
   "metadata": {
    "tags": []
   },
   "outputs": [
    {
     "data": {
      "text/html": [
       "<div>\n",
       "<style scoped>\n",
       "    .dataframe tbody tr th:only-of-type {\n",
       "        vertical-align: middle;\n",
       "    }\n",
       "\n",
       "    .dataframe tbody tr th {\n",
       "        vertical-align: top;\n",
       "    }\n",
       "\n",
       "    .dataframe thead th {\n",
       "        text-align: right;\n",
       "    }\n",
       "</style>\n",
       "<table border=\"1\" class=\"dataframe\">\n",
       "  <thead>\n",
       "    <tr style=\"text-align: right;\">\n",
       "      <th></th>\n",
       "      <th>species</th>\n",
       "      <th>island</th>\n",
       "      <th>culmen_length_mm</th>\n",
       "      <th>culmen_depth_mm</th>\n",
       "      <th>flipper_length_mm</th>\n",
       "      <th>body_mass_g</th>\n",
       "      <th>sex</th>\n",
       "    </tr>\n",
       "  </thead>\n",
       "  <tbody>\n",
       "    <tr>\n",
       "      <th>0</th>\n",
       "      <td>Adelie</td>\n",
       "      <td>Torgersen</td>\n",
       "      <td>39.1</td>\n",
       "      <td>18.7</td>\n",
       "      <td>181.0</td>\n",
       "      <td>3750.0</td>\n",
       "      <td>MALE</td>\n",
       "    </tr>\n",
       "    <tr>\n",
       "      <th>1</th>\n",
       "      <td>Adelie</td>\n",
       "      <td>Torgersen</td>\n",
       "      <td>39.5</td>\n",
       "      <td>17.4</td>\n",
       "      <td>186.0</td>\n",
       "      <td>3800.0</td>\n",
       "      <td>FEMALE</td>\n",
       "    </tr>\n",
       "    <tr>\n",
       "      <th>2</th>\n",
       "      <td>Adelie</td>\n",
       "      <td>Torgersen</td>\n",
       "      <td>40.3</td>\n",
       "      <td>18.0</td>\n",
       "      <td>195.0</td>\n",
       "      <td>3250.0</td>\n",
       "      <td>FEMALE</td>\n",
       "    </tr>\n",
       "    <tr>\n",
       "      <th>4</th>\n",
       "      <td>Adelie</td>\n",
       "      <td>Torgersen</td>\n",
       "      <td>36.7</td>\n",
       "      <td>19.3</td>\n",
       "      <td>193.0</td>\n",
       "      <td>3450.0</td>\n",
       "      <td>FEMALE</td>\n",
       "    </tr>\n",
       "    <tr>\n",
       "      <th>5</th>\n",
       "      <td>Adelie</td>\n",
       "      <td>Torgersen</td>\n",
       "      <td>39.3</td>\n",
       "      <td>20.6</td>\n",
       "      <td>190.0</td>\n",
       "      <td>3650.0</td>\n",
       "      <td>MALE</td>\n",
       "    </tr>\n",
       "  </tbody>\n",
       "</table>\n",
       "</div>"
      ],
      "text/plain": [
       "  species     island  culmen_length_mm  culmen_depth_mm  flipper_length_mm  \\\n",
       "0  Adelie  Torgersen              39.1             18.7              181.0   \n",
       "1  Adelie  Torgersen              39.5             17.4              186.0   \n",
       "2  Adelie  Torgersen              40.3             18.0              195.0   \n",
       "4  Adelie  Torgersen              36.7             19.3              193.0   \n",
       "5  Adelie  Torgersen              39.3             20.6              190.0   \n",
       "\n",
       "   body_mass_g     sex  \n",
       "0       3750.0    MALE  \n",
       "1       3800.0  FEMALE  \n",
       "2       3250.0  FEMALE  \n",
       "4       3450.0  FEMALE  \n",
       "5       3650.0    MALE  "
      ]
     },
     "execution_count": 25,
     "metadata": {},
     "output_type": "execute_result"
    }
   ],
   "source": [
    "penguins_file2 = pd.read_csv('penguins_size.csv')\n",
    "penguins_file2 = penguins_file2.dropna()\n",
    "penguins_file2.head()"
   ]
  },
  {
   "cell_type": "code",
   "execution_count": 31,
   "metadata": {},
   "outputs": [
    {
     "data": {
      "text/html": [
       "<div>\n",
       "<style scoped>\n",
       "    .dataframe tbody tr th:only-of-type {\n",
       "        vertical-align: middle;\n",
       "    }\n",
       "\n",
       "    .dataframe tbody tr th {\n",
       "        vertical-align: top;\n",
       "    }\n",
       "\n",
       "    .dataframe thead th {\n",
       "        text-align: right;\n",
       "    }\n",
       "</style>\n",
       "<table border=\"1\" class=\"dataframe\">\n",
       "  <thead>\n",
       "    <tr style=\"text-align: right;\">\n",
       "      <th></th>\n",
       "      <th>island</th>\n",
       "      <th>culmen_length_mm</th>\n",
       "      <th>culmen_depth_mm</th>\n",
       "      <th>flipper_length_mm</th>\n",
       "      <th>body_mass_g</th>\n",
       "      <th>sex</th>\n",
       "    </tr>\n",
       "  </thead>\n",
       "  <tbody>\n",
       "    <tr>\n",
       "      <th>0</th>\n",
       "      <td>Torgersen</td>\n",
       "      <td>39.1</td>\n",
       "      <td>18.7</td>\n",
       "      <td>181.0</td>\n",
       "      <td>3750.0</td>\n",
       "      <td>MALE</td>\n",
       "    </tr>\n",
       "    <tr>\n",
       "      <th>1</th>\n",
       "      <td>Torgersen</td>\n",
       "      <td>39.5</td>\n",
       "      <td>17.4</td>\n",
       "      <td>186.0</td>\n",
       "      <td>3800.0</td>\n",
       "      <td>FEMALE</td>\n",
       "    </tr>\n",
       "    <tr>\n",
       "      <th>2</th>\n",
       "      <td>Torgersen</td>\n",
       "      <td>40.3</td>\n",
       "      <td>18.0</td>\n",
       "      <td>195.0</td>\n",
       "      <td>3250.0</td>\n",
       "      <td>FEMALE</td>\n",
       "    </tr>\n",
       "    <tr>\n",
       "      <th>4</th>\n",
       "      <td>Torgersen</td>\n",
       "      <td>36.7</td>\n",
       "      <td>19.3</td>\n",
       "      <td>193.0</td>\n",
       "      <td>3450.0</td>\n",
       "      <td>FEMALE</td>\n",
       "    </tr>\n",
       "    <tr>\n",
       "      <th>5</th>\n",
       "      <td>Torgersen</td>\n",
       "      <td>39.3</td>\n",
       "      <td>20.6</td>\n",
       "      <td>190.0</td>\n",
       "      <td>3650.0</td>\n",
       "      <td>MALE</td>\n",
       "    </tr>\n",
       "    <tr>\n",
       "      <th>...</th>\n",
       "      <td>...</td>\n",
       "      <td>...</td>\n",
       "      <td>...</td>\n",
       "      <td>...</td>\n",
       "      <td>...</td>\n",
       "      <td>...</td>\n",
       "    </tr>\n",
       "    <tr>\n",
       "      <th>338</th>\n",
       "      <td>Biscoe</td>\n",
       "      <td>47.2</td>\n",
       "      <td>13.7</td>\n",
       "      <td>214.0</td>\n",
       "      <td>4925.0</td>\n",
       "      <td>FEMALE</td>\n",
       "    </tr>\n",
       "    <tr>\n",
       "      <th>340</th>\n",
       "      <td>Biscoe</td>\n",
       "      <td>46.8</td>\n",
       "      <td>14.3</td>\n",
       "      <td>215.0</td>\n",
       "      <td>4850.0</td>\n",
       "      <td>FEMALE</td>\n",
       "    </tr>\n",
       "    <tr>\n",
       "      <th>341</th>\n",
       "      <td>Biscoe</td>\n",
       "      <td>50.4</td>\n",
       "      <td>15.7</td>\n",
       "      <td>222.0</td>\n",
       "      <td>5750.0</td>\n",
       "      <td>MALE</td>\n",
       "    </tr>\n",
       "    <tr>\n",
       "      <th>342</th>\n",
       "      <td>Biscoe</td>\n",
       "      <td>45.2</td>\n",
       "      <td>14.8</td>\n",
       "      <td>212.0</td>\n",
       "      <td>5200.0</td>\n",
       "      <td>FEMALE</td>\n",
       "    </tr>\n",
       "    <tr>\n",
       "      <th>343</th>\n",
       "      <td>Biscoe</td>\n",
       "      <td>49.9</td>\n",
       "      <td>16.1</td>\n",
       "      <td>213.0</td>\n",
       "      <td>5400.0</td>\n",
       "      <td>MALE</td>\n",
       "    </tr>\n",
       "  </tbody>\n",
       "</table>\n",
       "<p>334 rows × 6 columns</p>\n",
       "</div>"
      ],
      "text/plain": [
       "        island  culmen_length_mm  culmen_depth_mm  flipper_length_mm  \\\n",
       "0    Torgersen              39.1             18.7              181.0   \n",
       "1    Torgersen              39.5             17.4              186.0   \n",
       "2    Torgersen              40.3             18.0              195.0   \n",
       "4    Torgersen              36.7             19.3              193.0   \n",
       "5    Torgersen              39.3             20.6              190.0   \n",
       "..         ...               ...              ...                ...   \n",
       "338     Biscoe              47.2             13.7              214.0   \n",
       "340     Biscoe              46.8             14.3              215.0   \n",
       "341     Biscoe              50.4             15.7              222.0   \n",
       "342     Biscoe              45.2             14.8              212.0   \n",
       "343     Biscoe              49.9             16.1              213.0   \n",
       "\n",
       "     body_mass_g     sex  \n",
       "0         3750.0    MALE  \n",
       "1         3800.0  FEMALE  \n",
       "2         3250.0  FEMALE  \n",
       "4         3450.0  FEMALE  \n",
       "5         3650.0    MALE  \n",
       "..           ...     ...  \n",
       "338       4925.0  FEMALE  \n",
       "340       4850.0  FEMALE  \n",
       "341       5750.0    MALE  \n",
       "342       5200.0  FEMALE  \n",
       "343       5400.0    MALE  \n",
       "\n",
       "[334 rows x 6 columns]"
      ]
     },
     "execution_count": 31,
     "metadata": {},
     "output_type": "execute_result"
    }
   ],
   "source": [
    "# Separación secuencia X\n",
    "X_penguins2 = penguins_file2.drop(['species'],  axis='columns')\n",
    "X_penguins2\n"
   ]
  },
  {
   "cell_type": "code",
   "execution_count": 27,
   "metadata": {},
   "outputs": [
    {
     "data": {
      "text/plain": [
       "0      Adelie\n",
       "1      Adelie\n",
       "2      Adelie\n",
       "4      Adelie\n",
       "5      Adelie\n",
       "        ...  \n",
       "338    Gentoo\n",
       "340    Gentoo\n",
       "341    Gentoo\n",
       "342    Gentoo\n",
       "343    Gentoo\n",
       "Name: species, Length: 334, dtype: object"
      ]
     },
     "execution_count": 27,
     "metadata": {},
     "output_type": "execute_result"
    }
   ],
   "source": [
    "# Separación secuencia y\n",
    "y_penguins2 = penguins_file2.species\n",
    "y_penguins2"
   ]
  },
  {
   "cell_type": "markdown",
   "metadata": {},
   "source": [
    "## **[9]** Aplique el LabelEncoder"
   ]
  },
  {
   "cell_type": "code",
   "execution_count": 37,
   "metadata": {
    "tags": []
   },
   "outputs": [
    {
     "data": {
      "text/html": [
       "<div>\n",
       "<style scoped>\n",
       "    .dataframe tbody tr th:only-of-type {\n",
       "        vertical-align: middle;\n",
       "    }\n",
       "\n",
       "    .dataframe tbody tr th {\n",
       "        vertical-align: top;\n",
       "    }\n",
       "\n",
       "    .dataframe thead th {\n",
       "        text-align: right;\n",
       "    }\n",
       "</style>\n",
       "<table border=\"1\" class=\"dataframe\">\n",
       "  <thead>\n",
       "    <tr style=\"text-align: right;\">\n",
       "      <th></th>\n",
       "      <th>island</th>\n",
       "      <th>culmen_length_mm</th>\n",
       "      <th>culmen_depth_mm</th>\n",
       "      <th>flipper_length_mm</th>\n",
       "      <th>body_mass_g</th>\n",
       "      <th>sex</th>\n",
       "    </tr>\n",
       "  </thead>\n",
       "  <tbody>\n",
       "    <tr>\n",
       "      <th>0</th>\n",
       "      <td>2</td>\n",
       "      <td>39.1</td>\n",
       "      <td>18.7</td>\n",
       "      <td>181.0</td>\n",
       "      <td>3750.0</td>\n",
       "      <td>2</td>\n",
       "    </tr>\n",
       "    <tr>\n",
       "      <th>1</th>\n",
       "      <td>2</td>\n",
       "      <td>39.5</td>\n",
       "      <td>17.4</td>\n",
       "      <td>186.0</td>\n",
       "      <td>3800.0</td>\n",
       "      <td>1</td>\n",
       "    </tr>\n",
       "    <tr>\n",
       "      <th>2</th>\n",
       "      <td>2</td>\n",
       "      <td>40.3</td>\n",
       "      <td>18.0</td>\n",
       "      <td>195.0</td>\n",
       "      <td>3250.0</td>\n",
       "      <td>1</td>\n",
       "    </tr>\n",
       "    <tr>\n",
       "      <th>4</th>\n",
       "      <td>2</td>\n",
       "      <td>36.7</td>\n",
       "      <td>19.3</td>\n",
       "      <td>193.0</td>\n",
       "      <td>3450.0</td>\n",
       "      <td>1</td>\n",
       "    </tr>\n",
       "    <tr>\n",
       "      <th>5</th>\n",
       "      <td>2</td>\n",
       "      <td>39.3</td>\n",
       "      <td>20.6</td>\n",
       "      <td>190.0</td>\n",
       "      <td>3650.0</td>\n",
       "      <td>2</td>\n",
       "    </tr>\n",
       "    <tr>\n",
       "      <th>...</th>\n",
       "      <td>...</td>\n",
       "      <td>...</td>\n",
       "      <td>...</td>\n",
       "      <td>...</td>\n",
       "      <td>...</td>\n",
       "      <td>...</td>\n",
       "    </tr>\n",
       "    <tr>\n",
       "      <th>338</th>\n",
       "      <td>0</td>\n",
       "      <td>47.2</td>\n",
       "      <td>13.7</td>\n",
       "      <td>214.0</td>\n",
       "      <td>4925.0</td>\n",
       "      <td>1</td>\n",
       "    </tr>\n",
       "    <tr>\n",
       "      <th>340</th>\n",
       "      <td>0</td>\n",
       "      <td>46.8</td>\n",
       "      <td>14.3</td>\n",
       "      <td>215.0</td>\n",
       "      <td>4850.0</td>\n",
       "      <td>1</td>\n",
       "    </tr>\n",
       "    <tr>\n",
       "      <th>341</th>\n",
       "      <td>0</td>\n",
       "      <td>50.4</td>\n",
       "      <td>15.7</td>\n",
       "      <td>222.0</td>\n",
       "      <td>5750.0</td>\n",
       "      <td>2</td>\n",
       "    </tr>\n",
       "    <tr>\n",
       "      <th>342</th>\n",
       "      <td>0</td>\n",
       "      <td>45.2</td>\n",
       "      <td>14.8</td>\n",
       "      <td>212.0</td>\n",
       "      <td>5200.0</td>\n",
       "      <td>1</td>\n",
       "    </tr>\n",
       "    <tr>\n",
       "      <th>343</th>\n",
       "      <td>0</td>\n",
       "      <td>49.9</td>\n",
       "      <td>16.1</td>\n",
       "      <td>213.0</td>\n",
       "      <td>5400.0</td>\n",
       "      <td>2</td>\n",
       "    </tr>\n",
       "  </tbody>\n",
       "</table>\n",
       "<p>334 rows × 6 columns</p>\n",
       "</div>"
      ],
      "text/plain": [
       "     island  culmen_length_mm  culmen_depth_mm  flipper_length_mm  \\\n",
       "0         2              39.1             18.7              181.0   \n",
       "1         2              39.5             17.4              186.0   \n",
       "2         2              40.3             18.0              195.0   \n",
       "4         2              36.7             19.3              193.0   \n",
       "5         2              39.3             20.6              190.0   \n",
       "..      ...               ...              ...                ...   \n",
       "338       0              47.2             13.7              214.0   \n",
       "340       0              46.8             14.3              215.0   \n",
       "341       0              50.4             15.7              222.0   \n",
       "342       0              45.2             14.8              212.0   \n",
       "343       0              49.9             16.1              213.0   \n",
       "\n",
       "     body_mass_g  sex  \n",
       "0         3750.0    2  \n",
       "1         3800.0    1  \n",
       "2         3250.0    1  \n",
       "4         3450.0    1  \n",
       "5         3650.0    2  \n",
       "..           ...  ...  \n",
       "338       4925.0    1  \n",
       "340       4850.0    1  \n",
       "341       5750.0    2  \n",
       "342       5200.0    1  \n",
       "343       5400.0    2  \n",
       "\n",
       "[334 rows x 6 columns]"
      ]
     },
     "execution_count": 37,
     "metadata": {},
     "output_type": "execute_result"
    }
   ],
   "source": [
    "label_encoder = preprocessing.LabelEncoder()\n",
    "X_penguins2_encoded = X_penguins2.copy()\n",
    "X_penguins2_encoded['island'] = label_encoder.fit_transform(X_penguins2['island'])\n",
    "X_penguins2_encoded['sex'] = label_encoder.fit_transform(X_penguins2['sex'])\n",
    "X_penguins2_encoded"
   ]
  },
  {
   "cell_type": "markdown",
   "metadata": {},
   "source": [
    "## **[10]** Aplique el Escalado a los datos"
   ]
  },
  {
   "cell_type": "code",
   "execution_count": 39,
   "metadata": {},
   "outputs": [
    {
     "name": "stdout",
     "output_type": "stream",
     "text": [
      "Datos procesados:\n",
      "   island  culmen_length_mm  culmen_depth_mm  flipper_length_mm  body_mass_g  \\\n",
      "0       2         -0.897653         0.783487          -1.429521    -0.571229   \n",
      "1       2         -0.824290         0.121896          -1.072408    -0.509011   \n",
      "2       2         -0.677564         0.427246          -0.429605    -1.193405   \n",
      "4       2         -1.337831         1.088836          -0.572450    -0.944535   \n",
      "5       2         -0.860972         1.750427          -0.786718    -0.695664   \n",
      "\n",
      "   sex  \n",
      "0    2  \n",
      "1    1  \n",
      "2    1  \n",
      "4    1  \n",
      "5    2  \n",
      "\n",
      "Tipos de datos:\n",
      "island                 int32\n",
      "culmen_length_mm     float64\n",
      "culmen_depth_mm      float64\n",
      "flipper_length_mm    float64\n",
      "body_mass_g          float64\n",
      "sex                    int32\n",
      "dtype: object\n"
     ]
    }
   ],
   "source": [
    "# Identificar columnas numéricas (excluyendo las ya codificadas)\n",
    "numeric_columns = ['culmen_length_mm', 'culmen_depth_mm', 'flipper_length_mm', 'body_mass_g']\n",
    "categorical_columns = ['island', 'sex']\n",
    "\n",
    "# Aplicar escalado solo a las columnas numéricas\n",
    "scaler = StandardScaler()\n",
    "X_penguins2_scaled = X_penguins2_encoded.copy()\n",
    "X_penguins2_scaled[numeric_columns] = scaler.fit_transform(X_penguins2_encoded[numeric_columns])\n",
    "\n",
    "# Mostrar resultados\n",
    "print(\"Datos procesados:\")\n",
    "print(X_penguins2_scaled.head())\n",
    "print(\"\\nTipos de datos:\")\n",
    "print(X_penguins2_scaled.dtypes)\n"
   ]
  },
  {
   "cell_type": "markdown",
   "metadata": {
    "tags": []
   },
   "source": [
    "## **[11]** Divida esta secuencia en Train/Test "
   ]
  },
  {
   "cell_type": "code",
   "execution_count": null,
   "metadata": {
    "tags": []
   },
   "outputs": [],
   "source": [
    "X_train, X_test, y_train, y_test = train_test_split(\n",
    "    X_penguins2_scaled,  # Datos escalados\n",
    "    y_penguins2,         # Variable objetivo\n",
    "    test_size=0.2,       # 20% para test\n",
    "    random_state=42,     # Semilla para reproducibilidad\n",
    ")"
   ]
  },
  {
   "cell_type": "markdown",
   "metadata": {},
   "source": [
    "## **[12]** Entrene el modelo de predicción mediante SVM, con kernel RBF"
   ]
  },
  {
   "cell_type": "code",
   "execution_count": 41,
   "metadata": {
    "tags": []
   },
   "outputs": [],
   "source": [
    "svm_peng = SVC(kernel=\"rbf\", C=1, gamma=\"scale\", random_state=42)\n",
    "svm_peng.fit(X_train, y_train)\n",
    "\n",
    "y_pred = svm_peng.predict(X_test)"
   ]
  },
  {
   "cell_type": "markdown",
   "metadata": {},
   "source": [
    "## **[13]** Genere Predicciones basadas en su conjunto de prueba"
   ]
  },
  {
   "cell_type": "code",
   "execution_count": 42,
   "metadata": {
    "tags": []
   },
   "outputs": [
    {
     "name": "stdout",
     "output_type": "stream",
     "text": [
      "Predicciones de categorias del entrenamiento:\n",
      "['Gentoo' 'Adelie' 'Gentoo' 'Adelie' 'Adelie' 'Gentoo' 'Gentoo' 'Gentoo'\n",
      " 'Chinstrap' 'Adelie' 'Adelie' 'Adelie' 'Gentoo' 'Adelie' 'Adelie'\n",
      " 'Adelie' 'Adelie' 'Gentoo' 'Gentoo' 'Adelie' 'Gentoo' 'Chinstrap'\n",
      " 'Chinstrap' 'Gentoo' 'Gentoo' 'Adelie' 'Adelie' 'Adelie' 'Adelie'\n",
      " 'Adelie' 'Chinstrap' 'Adelie' 'Adelie' 'Adelie' 'Gentoo' 'Gentoo'\n",
      " 'Adelie' 'Chinstrap' 'Adelie' 'Gentoo' 'Gentoo' 'Adelie' 'Chinstrap'\n",
      " 'Adelie' 'Gentoo' 'Adelie' 'Chinstrap' 'Chinstrap' 'Chinstrap' 'Adelie'\n",
      " 'Gentoo' 'Adelie' 'Chinstrap' 'Adelie' 'Chinstrap' 'Gentoo' 'Adelie'\n",
      " 'Adelie' 'Gentoo' 'Adelie' 'Adelie' 'Adelie' 'Chinstrap' 'Adelie'\n",
      " 'Adelie' 'Chinstrap' 'Adelie' 'Adelie' 'Adelie' 'Gentoo' 'Adelie'\n",
      " 'Gentoo' 'Adelie' 'Adelie' 'Gentoo' 'Adelie' 'Gentoo' 'Chinstrap'\n",
      " 'Gentoo' 'Chinstrap' 'Gentoo' 'Gentoo' 'Gentoo' 'Chinstrap' 'Gentoo'\n",
      " 'Adelie' 'Adelie' 'Gentoo' 'Chinstrap' 'Chinstrap' 'Adelie' 'Chinstrap'\n",
      " 'Chinstrap' 'Adelie' 'Gentoo' 'Gentoo' 'Gentoo' 'Chinstrap' 'Gentoo'\n",
      " 'Gentoo' 'Chinstrap' 'Gentoo' 'Adelie' 'Adelie' 'Chinstrap' 'Gentoo'\n",
      " 'Adelie' 'Gentoo' 'Gentoo' 'Adelie' 'Adelie' 'Adelie' 'Adelie' 'Gentoo'\n",
      " 'Adelie' 'Chinstrap' 'Gentoo' 'Adelie' 'Chinstrap' 'Gentoo' 'Adelie'\n",
      " 'Gentoo' 'Adelie' 'Gentoo' 'Adelie' 'Chinstrap' 'Adelie' 'Chinstrap'\n",
      " 'Adelie' 'Adelie' 'Adelie' 'Chinstrap' 'Adelie' 'Gentoo' 'Adelie'\n",
      " 'Gentoo' 'Adelie' 'Adelie' 'Gentoo' 'Chinstrap' 'Chinstrap' 'Adelie'\n",
      " 'Adelie' 'Adelie' 'Gentoo' 'Chinstrap' 'Adelie' 'Adelie' 'Gentoo'\n",
      " 'Adelie' 'Gentoo' 'Adelie' 'Gentoo' 'Gentoo' 'Gentoo' 'Adelie'\n",
      " 'Chinstrap' 'Gentoo' 'Gentoo' 'Chinstrap' 'Adelie' 'Chinstrap' 'Adelie'\n",
      " 'Adelie' 'Gentoo' 'Adelie' 'Chinstrap' 'Adelie' 'Gentoo' 'Gentoo'\n",
      " 'Adelie' 'Gentoo' 'Chinstrap' 'Gentoo' 'Adelie' 'Gentoo' 'Gentoo'\n",
      " 'Gentoo' 'Adelie' 'Adelie' 'Adelie' 'Gentoo' 'Chinstrap' 'Gentoo'\n",
      " 'Gentoo' 'Gentoo' 'Adelie' 'Adelie' 'Gentoo' 'Adelie' 'Adelie' 'Adelie'\n",
      " 'Adelie' 'Adelie' 'Chinstrap' 'Adelie' 'Gentoo' 'Gentoo' 'Gentoo'\n",
      " 'Gentoo' 'Gentoo' 'Chinstrap' 'Chinstrap' 'Gentoo' 'Gentoo' 'Gentoo'\n",
      " 'Gentoo' 'Gentoo' 'Chinstrap' 'Chinstrap' 'Adelie' 'Gentoo' 'Chinstrap'\n",
      " 'Gentoo' 'Adelie' 'Adelie' 'Adelie' 'Adelie' 'Adelie' 'Chinstrap'\n",
      " 'Adelie' 'Gentoo' 'Adelie' 'Adelie' 'Gentoo' 'Gentoo' 'Adelie' 'Adelie'\n",
      " 'Gentoo' 'Adelie' 'Gentoo' 'Adelie' 'Gentoo' 'Gentoo' 'Adelie' 'Adelie'\n",
      " 'Chinstrap' 'Chinstrap' 'Gentoo' 'Chinstrap' 'Chinstrap' 'Adelie'\n",
      " 'Adelie' 'Gentoo' 'Gentoo' 'Adelie' 'Gentoo' 'Chinstrap' 'Gentoo'\n",
      " 'Chinstrap' 'Gentoo' 'Gentoo' 'Gentoo' 'Chinstrap' 'Adelie' 'Chinstrap'\n",
      " 'Adelie' 'Adelie' 'Gentoo' 'Adelie' 'Gentoo' 'Adelie' 'Chinstrap'\n",
      " 'Adelie' 'Adelie' 'Gentoo' 'Adelie']\n"
     ]
    }
   ],
   "source": [
    "y_train_pred = svm_peng.predict(X_train)\n",
    "\n",
    "print(\"Predicciones de categorias del entrenamiento:\")\n",
    "print(y_train_pred)"
   ]
  },
  {
   "cell_type": "code",
   "execution_count": 43,
   "metadata": {},
   "outputs": [
    {
     "name": "stdout",
     "output_type": "stream",
     "text": [
      "          Real   Predicho\n",
      "230     Gentoo     Gentoo\n",
      "84      Adelie     Adelie\n",
      "303     Gentoo     Gentoo\n",
      "22      Adelie     Adelie\n",
      "29      Adelie     Adelie\n",
      "257     Gentoo     Gentoo\n",
      "335     Gentoo     Gentoo\n",
      "244     Gentoo     Gentoo\n",
      "183  Chinstrap  Chinstrap\n",
      "88      Adelie     Adelie\n",
      "117     Adelie     Adelie\n",
      "149     Adelie     Adelie\n",
      "247     Gentoo     Gentoo\n",
      "122     Adelie     Adelie\n",
      "146     Adelie     Adelie\n",
      "182  Chinstrap     Adelie\n",
      "96      Adelie     Adelie\n",
      "322     Gentoo     Gentoo\n",
      "265     Gentoo     Gentoo\n",
      "36      Adelie     Adelie\n"
     ]
    }
   ],
   "source": [
    "# Validación de predicciones contra lo real. \n",
    "\n",
    "output_train = pd.DataFrame({\n",
    "    \"Real\": y_train,\n",
    "    \"Predicho\": y_train_pred\n",
    "})\n",
    "\n",
    "print(output_train.head(20))  "
   ]
  },
  {
   "cell_type": "markdown",
   "metadata": {},
   "source": [
    "## **[14]** Calcule el *score* de su modelo "
   ]
  },
  {
   "cell_type": "code",
   "execution_count": 44,
   "metadata": {
    "tags": []
   },
   "outputs": [
    {
     "name": "stdout",
     "output_type": "stream",
     "text": [
      "Test Accuracy: 1.0\n"
     ]
    }
   ],
   "source": [
    "test_score = svm_peng.score(X_test, y_test)\n",
    "\n",
    "print(\"Test Accuracy:\", test_score)"
   ]
  },
  {
   "cell_type": "markdown",
   "metadata": {},
   "source": [
    "## **[15]** Genere la matriz de confusión de los datos de test "
   ]
  },
  {
   "cell_type": "code",
   "execution_count": 45,
   "metadata": {
    "tags": []
   },
   "outputs": [
    {
     "data": {
      "image/png": "[encoded data removed]",
      "text/plain": [
       "<Figure size 640x480 with 2 Axes>"
      ]
     },
     "metadata": {},
     "output_type": "display_data"
    }
   ],
   "source": [
    "\n",
    "categorias = [\"Adelie\", \"Chinstrap\", \"Gentoo\"]\n",
    "\n",
    "fig = ConfusionMatrixDisplay.from_estimator(\n",
    "    svm_peng,              # your trained SVM model\n",
    "    X_test,           # features from test set\n",
    "    y_test,           # true labels from test set\n",
    "    display_labels=categorias,\n",
    "    cmap=\"Blues\"\n",
    ")\n",
    "\n",
    "fig.figure_.suptitle(\"Confusion Matrix - Penguin Species\")\n",
    "plt.show()"
   ]
  },
  {
   "cell_type": "markdown",
   "metadata": {
    "tags": []
   },
   "source": [
    "<div class=\"alert alert-success\", role=\"alert\">\n",
    "    <h1 style=\"font-size: 1.5em;\">Parte 2 </h1>\n",
    "    <h2 style=\"font-size: 1.5em; \"><strong>Redes Neuronales</strong></h2>\n",
    "</div>\n"
   ]
  },
  {
   "cell_type": "markdown",
   "metadata": {},
   "source": [
    "<div class=\"alert alert-info\", role=\"success\">\n",
    "    <h1 style=\"font-size: 2em;\">Utilizando el dataset Cáncer de Seno entrene un modelo mediante una Red Neuronal con SKLearn que permita diagnosticar la enfermedad basada en datos de entrada\n",
    " </h1>\n",
    "</div>\n"
   ]
  },
  {
   "cell_type": "markdown",
   "metadata": {},
   "source": [
    "## **[16]** Cargue el dataset y elimine los NaNs de ser necesario"
   ]
  },
  {
   "cell_type": "code",
   "execution_count": 46,
   "metadata": {
    "tags": []
   },
   "outputs": [
    {
     "data": {
      "text/html": [
       "<div>\n",
       "<style scoped>\n",
       "    .dataframe tbody tr th:only-of-type {\n",
       "        vertical-align: middle;\n",
       "    }\n",
       "\n",
       "    .dataframe tbody tr th {\n",
       "        vertical-align: top;\n",
       "    }\n",
       "\n",
       "    .dataframe thead th {\n",
       "        text-align: right;\n",
       "    }\n",
       "</style>\n",
       "<table border=\"1\" class=\"dataframe\">\n",
       "  <thead>\n",
       "    <tr style=\"text-align: right;\">\n",
       "      <th></th>\n",
       "      <th>mean_radius</th>\n",
       "      <th>mean_texture</th>\n",
       "      <th>mean_perimeter</th>\n",
       "      <th>mean_area</th>\n",
       "      <th>mean_smoothness</th>\n",
       "      <th>diagnosis</th>\n",
       "    </tr>\n",
       "  </thead>\n",
       "  <tbody>\n",
       "    <tr>\n",
       "      <th>0</th>\n",
       "      <td>17.99</td>\n",
       "      <td>10.38</td>\n",
       "      <td>122.80</td>\n",
       "      <td>1001.0</td>\n",
       "      <td>0.11840</td>\n",
       "      <td>0</td>\n",
       "    </tr>\n",
       "    <tr>\n",
       "      <th>1</th>\n",
       "      <td>20.57</td>\n",
       "      <td>17.77</td>\n",
       "      <td>132.90</td>\n",
       "      <td>1326.0</td>\n",
       "      <td>0.08474</td>\n",
       "      <td>0</td>\n",
       "    </tr>\n",
       "    <tr>\n",
       "      <th>2</th>\n",
       "      <td>19.69</td>\n",
       "      <td>21.25</td>\n",
       "      <td>130.00</td>\n",
       "      <td>1203.0</td>\n",
       "      <td>0.10960</td>\n",
       "      <td>0</td>\n",
       "    </tr>\n",
       "    <tr>\n",
       "      <th>3</th>\n",
       "      <td>11.42</td>\n",
       "      <td>20.38</td>\n",
       "      <td>77.58</td>\n",
       "      <td>386.1</td>\n",
       "      <td>0.14250</td>\n",
       "      <td>0</td>\n",
       "    </tr>\n",
       "    <tr>\n",
       "      <th>4</th>\n",
       "      <td>20.29</td>\n",
       "      <td>14.34</td>\n",
       "      <td>135.10</td>\n",
       "      <td>1297.0</td>\n",
       "      <td>0.10030</td>\n",
       "      <td>0</td>\n",
       "    </tr>\n",
       "  </tbody>\n",
       "</table>\n",
       "</div>"
      ],
      "text/plain": [
       "   mean_radius  mean_texture  mean_perimeter  mean_area  mean_smoothness  \\\n",
       "0        17.99         10.38          122.80     1001.0          0.11840   \n",
       "1        20.57         17.77          132.90     1326.0          0.08474   \n",
       "2        19.69         21.25          130.00     1203.0          0.10960   \n",
       "3        11.42         20.38           77.58      386.1          0.14250   \n",
       "4        20.29         14.34          135.10     1297.0          0.10030   \n",
       "\n",
       "   diagnosis  \n",
       "0          0  \n",
       "1          0  \n",
       "2          0  \n",
       "3          0  \n",
       "4          0  "
      ]
     },
     "execution_count": 46,
     "metadata": {},
     "output_type": "execute_result"
    }
   ],
   "source": [
    "b_cancer_df = pd.read_csv('Breast_cancer_data.csv')\n",
    "b_cancer_df.head()"
   ]
  },
  {
   "cell_type": "code",
   "execution_count": 47,
   "metadata": {},
   "outputs": [
    {
     "name": "stdout",
     "output_type": "stream",
     "text": [
      "Filas originales: 569\n",
      "Filas después de eliminar nulos(NaN): 569\n"
     ]
    }
   ],
   "source": [
    "b_cancer__cleandf = b_cancer_df.dropna()\n",
    "print(f\"Filas originales: {len(b_cancer_df)}\")\n",
    "print(f\"Filas después de eliminar nulos(NaN): {len(b_cancer__cleandf)}\")"
   ]
  },
  {
   "cell_type": "markdown",
   "metadata": {},
   "source": [
    "## **[17]** Genere el las secuencias X & Y para entrenar el modelo"
   ]
  },
  {
   "cell_type": "code",
   "execution_count": 48,
   "metadata": {
    "tags": []
   },
   "outputs": [],
   "source": [
    "X= b_cancer__cleandf.drop(['diagnosis'],  axis='columns')\n",
    "y= b_cancer__cleandf.diagnosis"
   ]
  },
  {
   "cell_type": "markdown",
   "metadata": {},
   "source": [
    "## **[18]** Aplique el escalado a los datos"
   ]
  },
  {
   "cell_type": "code",
   "execution_count": 49,
   "metadata": {
    "tags": []
   },
   "outputs": [],
   "source": [
    "scaler_bc = StandardScaler()\n",
    "X_train = scaler_bc.fit_transform(X_train)\n",
    "X_test = scaler_bc.transform(X_test)"
   ]
  },
  {
   "cell_type": "markdown",
   "metadata": {},
   "source": [
    "## **[19]** Divida el dataset en conjunto de Train y Test"
   ]
  },
  {
   "cell_type": "code",
   "execution_count": 50,
   "metadata": {
    "tags": []
   },
   "outputs": [],
   "source": [
    "X_train, X_test, y_train, y_test = train_test_split(X, y, test_size=0.2, random_state=42)"
   ]
  },
  {
   "cell_type": "markdown",
   "metadata": {},
   "source": [
    "## **[20]** Entrene el modelo de predicción mediante MLP de SKLearn"
   ]
  },
  {
   "cell_type": "code",
   "execution_count": 52,
   "metadata": {
    "tags": []
   },
   "outputs": [],
   "source": [
    "mlp = MLPClassifier(\n",
    "    hidden_layer_sizes=(100,),  # one hidden layer with 100 neurons\n",
    "    activation=\"relu\",\n",
    "    solver=\"adam\",\n",
    "    max_iter=1000,\n",
    "    random_state=42\n",
    ")\n",
    "mlp.fit(X_train, y_train)\n",
    "\n",
    "#Predictions\n",
    "y_pred = mlp.predict(X_test)"
   ]
  },
  {
   "cell_type": "markdown",
   "metadata": {},
   "source": [
    "## **[21]** Calcule el *score* de su modelo"
   ]
  },
  {
   "cell_type": "code",
   "execution_count": 53,
   "metadata": {
    "tags": []
   },
   "outputs": [
    {
     "name": "stdout",
     "output_type": "stream",
     "text": [
      "Training Accuracy: 0.8571428571428571\n",
      "Test Accuracy: 0.9210526315789473\n"
     ]
    }
   ],
   "source": [
    "train_score = mlp.score(X_train, y_train)\n",
    "test_score = mlp.score(X_test, y_test)\n",
    "\n",
    "print(\"Training Accuracy:\", train_score)\n",
    "print(\"Test Accuracy:\", test_score)"
   ]
  },
  {
   "cell_type": "markdown",
   "metadata": {},
   "source": [
    "## **[22]** Genere la matriz de confusión de los datos de test "
   ]
  },
  {
   "cell_type": "code",
   "execution_count": 55,
   "metadata": {
    "tags": []
   },
   "outputs": [
    {
     "data": {
      "image/png": "[encoded data removed]",
      "text/plain": [
       "<Figure size 640x480 with 2 Axes>"
      ]
     },
     "metadata": {},
     "output_type": "display_data"
    }
   ],
   "source": [
    "disp = ConfusionMatrixDisplay.from_estimator(\n",
    "    mlp, X_test, y_test, cmap=\"Blues\"\n",
    ")\n",
    "disp.figure_.suptitle(\"Confusion Matrix - MLP Breast CanceR Predictions\")\n",
    "plt.show()"
   ]
  },
  {
   "cell_type": "markdown",
   "metadata": {},
   "source": [
    "<div class=\"alert alert-info\", role=\"success\">\n",
    "    <h1 style=\"font-size: 2em;\">Utilizando el dataset Cancer de Seno entrene un modelo mediante una Red Neuronal con TensorFlow que permita diagnosticar la enfermedad basada en datos de entrada\n",
    " </h1>\n",
    "</div>\n"
   ]
  },
  {
   "cell_type": "markdown",
   "metadata": {},
   "source": [
    "## **[23]** Defina el modelo de la Arquitectura del la red"
   ]
  },
  {
   "cell_type": "code",
   "execution_count": 58,
   "metadata": {},
   "outputs": [
    {
     "name": "stdout",
     "output_type": "stream",
     "text": [
      "Collecting tensorflow\n",
      "  Downloading tensorflow-2.20.0-cp311-cp311-win_amd64.whl.metadata (4.6 kB)\n",
      "Collecting absl-py>=1.0.0 (from tensorflow)\n",
      "  Using cached absl_py-2.3.1-py3-none-any.whl.metadata (3.3 kB)\n",
      "Collecting astunparse>=1.6.0 (from tensorflow)\n",
      "  Using cached astunparse-1.6.3-py2.py3-none-any.whl.metadata (4.4 kB)\n",
      "Collecting flatbuffers>=24.3.25 (from tensorflow)\n",
      "  Using cached flatbuffers-25.2.10-py2.py3-none-any.whl.metadata (875 bytes)\n",
      "Collecting gast!=0.5.0,!=0.5.1,!=0.5.2,>=0.2.1 (from tensorflow)\n",
      "  Using cached gast-0.6.0-py3-none-any.whl.metadata (1.3 kB)\n",
      "Collecting google_pasta>=0.1.1 (from tensorflow)\n",
      "  Using cached google_pasta-0.2.0-py3-none-any.whl.metadata (814 bytes)\n",
      "Collecting libclang>=13.0.0 (from tensorflow)\n",
      "  Using cached libclang-18.1.1-py2.py3-none-win_amd64.whl.metadata (5.3 kB)\n",
      "Collecting opt_einsum>=2.3.2 (from tensorflow)\n",
      "  Using cached opt_einsum-3.4.0-py3-none-any.whl.metadata (6.3 kB)\n",
      "Requirement already satisfied: packaging in c:\\users\\steph\\anaconda3\\lib\\site-packages (from tensorflow) (23.1)\n",
      "Collecting protobuf>=5.28.0 (from tensorflow)\n",
      "  Downloading protobuf-6.32.0-cp310-abi3-win_amd64.whl.metadata (593 bytes)\n",
      "Requirement already satisfied: requests<3,>=2.21.0 in c:\\users\\steph\\anaconda3\\lib\\site-packages (from tensorflow) (2.31.0)\n",
      "Requirement already satisfied: setuptools in c:\\users\\steph\\anaconda3\\lib\\site-packages (from tensorflow) (68.2.2)\n",
      "Requirement already satisfied: six>=1.12.0 in c:\\users\\steph\\anaconda3\\lib\\site-packages (from tensorflow) (1.16.0)\n",
      "Collecting termcolor>=1.1.0 (from tensorflow)\n",
      "  Using cached termcolor-3.1.0-py3-none-any.whl.metadata (6.4 kB)\n",
      "Requirement already satisfied: typing_extensions>=3.6.6 in c:\\users\\steph\\anaconda3\\lib\\site-packages (from tensorflow) (4.12.2)\n",
      "Requirement already satisfied: wrapt>=1.11.0 in c:\\users\\steph\\anaconda3\\lib\\site-packages (from tensorflow) (1.14.1)\n",
      "Collecting grpcio<2.0,>=1.24.3 (from tensorflow)\n",
      "  Downloading grpcio-1.74.0-cp311-cp311-win_amd64.whl.metadata (4.0 kB)\n",
      "Collecting tensorboard~=2.20.0 (from tensorflow)\n",
      "  Using cached tensorboard-2.20.0-py3-none-any.whl.metadata (1.8 kB)\n",
      "Collecting keras>=3.10.0 (from tensorflow)\n",
      "  Downloading keras-3.11.3-py3-none-any.whl.metadata (5.9 kB)\n",
      "Requirement already satisfied: numpy>=1.26.0 in c:\\users\\steph\\anaconda3\\lib\\site-packages (from tensorflow) (1.26.4)\n",
      "Collecting h5py>=3.11.0 (from tensorflow)\n",
      "  Downloading h5py-3.14.0-cp311-cp311-win_amd64.whl.metadata (2.7 kB)\n",
      "Collecting ml_dtypes<1.0.0,>=0.5.1 (from tensorflow)\n",
      "  Downloading ml_dtypes-0.5.3-cp311-cp311-win_amd64.whl.metadata (9.2 kB)\n",
      "Requirement already satisfied: wheel<1.0,>=0.23.0 in c:\\users\\steph\\anaconda3\\lib\\site-packages (from astunparse>=1.6.0->tensorflow) (0.41.2)\n",
      "Requirement already satisfied: rich in c:\\users\\steph\\anaconda3\\lib\\site-packages (from keras>=3.10.0->tensorflow) (13.3.5)\n",
      "Collecting namex (from keras>=3.10.0->tensorflow)\n",
      "  Using cached namex-0.1.0-py3-none-any.whl.metadata (322 bytes)\n",
      "Collecting optree (from keras>=3.10.0->tensorflow)\n",
      "  Downloading optree-0.17.0-cp311-cp311-win_amd64.whl.metadata (34 kB)\n",
      "Requirement already satisfied: charset-normalizer<4,>=2 in c:\\users\\steph\\anaconda3\\lib\\site-packages (from requests<3,>=2.21.0->tensorflow) (2.0.4)\n",
      "Requirement already satisfied: idna<4,>=2.5 in c:\\users\\steph\\anaconda3\\lib\\site-packages (from requests<3,>=2.21.0->tensorflow) (3.4)\n",
      "Requirement already satisfied: urllib3<3,>=1.21.1 in c:\\users\\steph\\anaconda3\\lib\\site-packages (from requests<3,>=2.21.0->tensorflow) (2.0.7)\n",
      "Requirement already satisfied: certifi>=2017.4.17 in c:\\users\\steph\\anaconda3\\lib\\site-packages (from requests<3,>=2.21.0->tensorflow) (2025.1.31)\n",
      "Requirement already satisfied: markdown>=2.6.8 in c:\\users\\steph\\anaconda3\\lib\\site-packages (from tensorboard~=2.20.0->tensorflow) (3.4.1)\n",
      "Requirement already satisfied: pillow in c:\\users\\steph\\anaconda3\\lib\\site-packages (from tensorboard~=2.20.0->tensorflow) (10.2.0)\n",
      "Collecting tensorboard-data-server<0.8.0,>=0.7.0 (from tensorboard~=2.20.0->tensorflow)\n",
      "  Using cached tensorboard_data_server-0.7.2-py3-none-any.whl.metadata (1.1 kB)\n",
      "Requirement already satisfied: werkzeug>=1.0.1 in c:\\users\\steph\\anaconda3\\lib\\site-packages (from tensorboard~=2.20.0->tensorflow) (2.2.3)\n",
      "Requirement already satisfied: MarkupSafe>=2.1.1 in c:\\users\\steph\\anaconda3\\lib\\site-packages (from werkzeug>=1.0.1->tensorboard~=2.20.0->tensorflow) (2.1.3)\n",
      "Requirement already satisfied: markdown-it-py<3.0.0,>=2.2.0 in c:\\users\\steph\\anaconda3\\lib\\site-packages (from rich->keras>=3.10.0->tensorflow) (2.2.0)\n",
      "Requirement already satisfied: pygments<3.0.0,>=2.13.0 in c:\\users\\steph\\anaconda3\\lib\\site-packages (from rich->keras>=3.10.0->tensorflow) (2.15.1)\n",
      "Requirement already satisfied: mdurl~=0.1 in c:\\users\\steph\\anaconda3\\lib\\site-packages (from markdown-it-py<3.0.0,>=2.2.0->rich->keras>=3.10.0->tensorflow) (0.1.0)\n",
      "Downloading tensorflow-2.20.0-cp311-cp311-win_amd64.whl (331.8 MB)\n",
      "   ---------------------------------------- 0.0/331.8 MB ? eta -:--:--\n",
      "   ---------------------------------------- 0.0/331.8 MB 1.9 MB/s eta 0:02:53\n",
      "   ---------------------------------------- 0.2/331.8 MB 2.0 MB/s eta 0:02:49\n",
      "   ---------------------------------------- 0.3/331.8 MB 2.0 MB/s eta 0:02:49\n",
      "   ---------------------------------------- 0.5/331.8 MB 2.8 MB/s eta 0:01:59\n",
      "   ---------------------------------------- 1.0/331.8 MB 4.5 MB/s eta 0:01:14\n",
      "   ---------------------------------------- 1.9/331.8 MB 7.2 MB/s eta 0:00:47\n",
      "   ---------------------------------------- 3.1/331.8 MB 9.9 MB/s eta 0:00:34\n",
      "    --------------------------------------- 4.7/331.8 MB 13.1 MB/s eta 0:00:25\n",
      "    --------------------------------------- 7.1/331.8 MB 17.3 MB/s eta 0:00:19\n",
      "   - -------------------------------------- 9.5/331.8 MB 20.9 MB/s eta 0:00:16\n",
      "   - -------------------------------------- 11.7/331.8 MB 40.9 MB/s eta 0:00:08\n",
      "   - -------------------------------------- 14.0/331.8 MB 46.7 MB/s eta 0:00:07\n",
      "   - -------------------------------------- 14.1/331.8 MB 46.7 MB/s eta 0:00:07\n",
      "   - -------------------------------------- 14.1/331.8 MB 46.7 MB/s eta 0:00:07\n",
      "   - -------------------------------------- 14.1/331.8 MB 46.7 MB/s eta 0:00:07\n",
      "   - -------------------------------------- 14.1/331.8 MB 46.7 MB/s eta 0:00:07\n",
      "   -- ------------------------------------- 18.3/331.8 MB 28.4 MB/s eta 0:00:12\n",
      "   -- ------------------------------------- 19.0/331.8 MB 27.3 MB/s eta 0:00:12\n",
      "   -- ------------------------------------- 20.4/331.8 MB 26.2 MB/s eta 0:00:12\n",
      "   -- ------------------------------------- 21.2/331.8 MB 24.2 MB/s eta 0:00:13\n",
      "   -- ------------------------------------- 22.1/331.8 MB 22.6 MB/s eta 0:00:14\n",
      "   -- ------------------------------------- 23.7/331.8 MB 21.9 MB/s eta 0:00:15\n",
      "   --- ------------------------------------ 24.9/331.8 MB 36.4 MB/s eta 0:00:09\n",
      "   --- ------------------------------------ 26.8/331.8 MB 31.2 MB/s eta 0:00:10\n",
      "   --- ------------------------------------ 29.5/331.8 MB 34.4 MB/s eta 0:00:09\n",
      "   --- ------------------------------------ 32.0/331.8 MB 43.5 MB/s eta 0:00:07\n",
      "   ---- ----------------------------------- 34.8/331.8 MB 50.4 MB/s eta 0:00:06\n",
      "   ---- ----------------------------------- 37.6/331.8 MB 59.5 MB/s eta 0:00:05\n",
      "   ---- ----------------------------------- 39.9/331.8 MB 54.7 MB/s eta 0:00:06\n",
      "   ----- ---------------------------------- 42.3/331.8 MB 54.7 MB/s eta 0:00:06\n",
      "   ----- ---------------------------------- 44.2/331.8 MB 50.4 MB/s eta 0:00:06\n",
      "   ----- ---------------------------------- 46.4/331.8 MB 46.7 MB/s eta 0:00:07\n",
      "   ----- ---------------------------------- 47.7/331.8 MB 50.4 MB/s eta 0:00:06\n",
      "   ----- ---------------------------------- 48.0/331.8 MB 38.5 MB/s eta 0:00:08\n",
      "   ----- ---------------------------------- 49.2/331.8 MB 34.4 MB/s eta 0:00:09\n",
      "   ------ --------------------------------- 54.8/331.8 MB 43.5 MB/s eta 0:00:07\n",
      "   ------ --------------------------------- 56.6/331.8 MB 43.7 MB/s eta 0:00:07\n",
      "   ------- -------------------------------- 58.6/331.8 MB 54.7 MB/s eta 0:00:05\n",
      "   ------- -------------------------------- 60.3/331.8 MB 54.7 MB/s eta 0:00:05\n",
      "   ------- -------------------------------- 62.0/331.8 MB 46.9 MB/s eta 0:00:06\n",
      "   ------- -------------------------------- 63.9/331.8 MB 40.9 MB/s eta 0:00:07\n",
      "   ------- -------------------------------- 66.1/331.8 MB 43.7 MB/s eta 0:00:07\n",
      "   -------- ------------------------------- 67.9/331.8 MB 40.9 MB/s eta 0:00:07\n",
      "   -------- ------------------------------- 70.1/331.8 MB 43.7 MB/s eta 0:00:06\n",
      "   -------- ------------------------------- 72.3/331.8 MB 46.7 MB/s eta 0:00:06\n",
      "   -------- ------------------------------- 72.3/331.8 MB 46.7 MB/s eta 0:00:06\n",
      "   -------- ------------------------------- 72.3/331.8 MB 46.7 MB/s eta 0:00:06\n",
      "   -------- ------------------------------- 72.3/331.8 MB 46.7 MB/s eta 0:00:06\n",
      "   -------- ------------------------------- 72.3/331.8 MB 46.7 MB/s eta 0:00:06\n",
      "   -------- ------------------------------- 72.3/331.8 MB 46.7 MB/s eta 0:00:06\n",
      "   -------- ------------------------------- 72.3/331.8 MB 46.7 MB/s eta 0:00:06\n",
      "   -------- ------------------------------- 72.3/331.8 MB 46.7 MB/s eta 0:00:06\n",
      "   -------- ------------------------------- 72.3/331.8 MB 46.7 MB/s eta 0:00:06\n",
      "   -------- ------------------------------- 72.3/331.8 MB 46.7 MB/s eta 0:00:06\n",
      "   -------- ------------------------------- 72.3/331.8 MB 46.7 MB/s eta 0:00:06\n",
      "   -------- ------------------------------- 72.3/331.8 MB 46.7 MB/s eta 0:00:06\n",
      "   -------- ------------------------------- 72.3/331.8 MB 46.7 MB/s eta 0:00:06\n",
      "   -------- ------------------------------- 72.3/331.8 MB 46.7 MB/s eta 0:00:06\n",
      "   -------- ------------------------------- 72.3/331.8 MB 46.7 MB/s eta 0:00:06\n",
      "   -------- ------------------------------- 72.3/331.8 MB 46.7 MB/s eta 0:00:06\n",
      "   -------- ------------------------------- 72.3/331.8 MB 46.7 MB/s eta 0:00:06\n",
      "   -------- ------------------------------- 72.3/331.8 MB 46.7 MB/s eta 0:00:06\n",
      "   -------- ------------------------------- 72.3/331.8 MB 46.7 MB/s eta 0:00:06\n",
      "   -------- ------------------------------- 72.3/331.8 MB 46.7 MB/s eta 0:00:06\n",
      "   -------- ------------------------------- 72.3/331.8 MB 46.7 MB/s eta 0:00:06\n",
      "   -------- ------------------------------- 72.3/331.8 MB 46.7 MB/s eta 0:00:06\n",
      "   -------- ------------------------------- 72.3/331.8 MB 46.7 MB/s eta 0:00:06\n",
      "   -------- ------------------------------- 72.3/331.8 MB 46.7 MB/s eta 0:00:06\n",
      "   -------- ------------------------------- 72.3/331.8 MB 46.7 MB/s eta 0:00:06\n",
      "   -------- ------------------------------- 72.3/331.8 MB 46.7 MB/s eta 0:00:06\n",
      "   -------- ------------------------------- 72.3/331.8 MB 46.7 MB/s eta 0:00:06\n",
      "   -------- ------------------------------- 72.3/331.8 MB 46.7 MB/s eta 0:00:06\n",
      "   -------- ------------------------------- 72.3/331.8 MB 46.7 MB/s eta 0:00:06\n",
      "   -------- ------------------------------- 72.3/331.8 MB 46.7 MB/s eta 0:00:06\n",
      "   -------- ------------------------------- 72.3/331.8 MB 46.7 MB/s eta 0:00:06\n",
      "   -------- ------------------------------- 72.3/331.8 MB 46.7 MB/s eta 0:00:06\n",
      "   -------- ------------------------------- 72.3/331.8 MB 46.7 MB/s eta 0:00:06\n",
      "   -------- ------------------------------- 72.3/331.8 MB 46.7 MB/s eta 0:00:06\n",
      "   -------- ------------------------------- 72.3/331.8 MB 46.7 MB/s eta 0:00:06\n",
      "   -------- ------------------------------- 72.3/331.8 MB 46.7 MB/s eta 0:00:06\n",
      "   -------- ------------------------------- 72.3/331.8 MB 46.7 MB/s eta 0:00:06\n",
      "   -------- ------------------------------- 72.3/331.8 MB 46.7 MB/s eta 0:00:06\n",
      "   -------- ------------------------------- 72.3/331.8 MB 46.7 MB/s eta 0:00:06\n",
      "   --------- ------------------------------ 77.9/331.8 MB 5.4 MB/s eta 0:00:48\n",
      "   --------- ------------------------------ 81.3/331.8 MB 5.4 MB/s eta 0:00:47\n",
      "   ---------- ----------------------------- 83.7/331.8 MB 93.9 MB/s eta 0:00:03\n",
      "   ---------- ----------------------------- 86.3/331.8 MB 72.6 MB/s eta 0:00:04\n",
      "   ---------- ----------------------------- 88.2/331.8 MB 54.4 MB/s eta 0:00:05\n",
      "   ---------- ----------------------------- 90.9/331.8 MB 46.7 MB/s eta 0:00:06\n",
      "   ----------- ---------------------------- 92.6/331.8 MB 50.1 MB/s eta 0:00:05\n",
      "   ----------- ---------------------------- 95.3/331.8 MB 50.4 MB/s eta 0:00:05\n",
      "   ----------- ---------------------------- 97.2/331.8 MB 46.9 MB/s eta 0:00:05\n",
      "   ----------- ---------------------------- 99.5/331.8 MB 46.7 MB/s eta 0:00:05\n",
      "   ----------- --------------------------- 101.8/331.8 MB 46.7 MB/s eta 0:00:05\n",
      "   ------------ -------------------------- 104.0/331.8 MB 46.7 MB/s eta 0:00:05\n",
      "   ------------ -------------------------- 106.0/331.8 MB 46.7 MB/s eta 0:00:05\n",
      "   ------------ -------------------------- 108.1/331.8 MB 46.7 MB/s eta 0:00:05\n",
      "   ------------- ------------------------- 110.8/331.8 MB 46.7 MB/s eta 0:00:05\n",
      "   ------------- ------------------------- 112.2/331.8 MB 43.7 MB/s eta 0:00:06\n",
      "   ------------- ------------------------- 115.0/331.8 MB 46.9 MB/s eta 0:00:05\n",
      "   ------------- ------------------------- 117.0/331.8 MB 43.7 MB/s eta 0:00:05\n",
      "   -------------- ------------------------ 119.6/331.8 MB 46.7 MB/s eta 0:00:05\n",
      "   -------------- ------------------------ 120.4/331.8 MB 43.7 MB/s eta 0:00:05\n",
      "   -------------- ------------------------ 123.2/331.8 MB 50.4 MB/s eta 0:00:05\n",
      "   -------------- ------------------------ 125.2/331.8 MB 46.7 MB/s eta 0:00:05\n",
      "   --------------- ----------------------- 127.9/331.8 MB 46.7 MB/s eta 0:00:05\n",
      "   --------------- ----------------------- 130.1/331.8 MB 46.7 MB/s eta 0:00:05\n",
      "   --------------- ----------------------- 132.6/331.8 MB 54.4 MB/s eta 0:00:04\n",
      "   --------------- ----------------------- 134.9/331.8 MB 54.4 MB/s eta 0:00:04\n",
      "   ---------------- ---------------------- 137.4/331.8 MB 54.7 MB/s eta 0:00:04\n",
      "   ---------------- ---------------------- 139.8/331.8 MB 50.4 MB/s eta 0:00:04\n",
      "   ---------------- ---------------------- 142.0/331.8 MB 50.4 MB/s eta 0:00:04\n",
      "   ---------------- ---------------------- 144.3/331.8 MB 50.4 MB/s eta 0:00:04\n",
      "   ----------------- --------------------- 146.4/331.8 MB 50.4 MB/s eta 0:00:04\n",
      "   ----------------- --------------------- 149.0/331.8 MB 50.4 MB/s eta 0:00:04\n",
      "   ----------------- --------------------- 151.1/331.8 MB 46.7 MB/s eta 0:00:04\n",
      "   ------------------ -------------------- 153.9/331.8 MB 50.1 MB/s eta 0:00:04\n",
      "   ------------------ -------------------- 154.8/331.8 MB 43.7 MB/s eta 0:00:05\n",
      "   ------------------ -------------------- 157.6/331.8 MB 46.9 MB/s eta 0:00:04\n",
      "   ------------------ -------------------- 160.0/331.8 MB 46.7 MB/s eta 0:00:04\n",
      "   ------------------- ------------------- 162.2/331.8 MB 50.4 MB/s eta 0:00:04\n",
      "   ------------------- ------------------- 164.9/331.8 MB 54.7 MB/s eta 0:00:04\n",
      "   ------------------- ------------------- 167.4/331.8 MB 54.7 MB/s eta 0:00:04\n",
      "   ------------------- ------------------- 169.7/331.8 MB 54.7 MB/s eta 0:00:03\n",
      "   -------------------- ------------------ 172.0/331.8 MB 54.4 MB/s eta 0:00:03\n",
      "   -------------------- ------------------ 174.6/331.8 MB 54.4 MB/s eta 0:00:03\n",
      "   -------------------- ------------------ 176.9/331.8 MB 54.4 MB/s eta 0:00:03\n",
      "   --------------------- ----------------- 179.4/331.8 MB 50.1 MB/s eta 0:00:04\n",
      "   --------------------- ----------------- 181.7/331.8 MB 54.7 MB/s eta 0:00:03\n",
      "   --------------------- ----------------- 184.2/331.8 MB 54.7 MB/s eta 0:00:03\n",
      "   --------------------- ----------------- 185.9/331.8 MB 50.4 MB/s eta 0:00:03\n",
      "   ---------------------- ---------------- 188.6/331.8 MB 50.4 MB/s eta 0:00:03\n",
      "   ---------------------- ---------------- 191.1/331.8 MB 50.4 MB/s eta 0:00:03\n",
      "   ---------------------- ---------------- 193.7/331.8 MB 50.4 MB/s eta 0:00:03\n",
      "   ----------------------- --------------- 196.1/331.8 MB 50.4 MB/s eta 0:00:03\n",
      "   ----------------------- --------------- 198.8/331.8 MB 59.5 MB/s eta 0:00:03\n",
      "   ----------------------- --------------- 200.8/331.8 MB 54.4 MB/s eta 0:00:03\n",
      "   ----------------------- --------------- 203.2/331.8 MB 50.4 MB/s eta 0:00:03\n",
      "   ------------------------ -------------- 205.8/331.8 MB 54.4 MB/s eta 0:00:03\n",
      "   ------------------------ -------------- 207.5/331.8 MB 50.4 MB/s eta 0:00:03\n",
      "   ------------------------ -------------- 210.4/331.8 MB 54.7 MB/s eta 0:00:03\n",
      "   ------------------------ -------------- 212.5/331.8 MB 50.4 MB/s eta 0:00:03\n",
      "   ------------------------- ------------- 215.1/331.8 MB 50.4 MB/s eta 0:00:03\n",
      "   ------------------------- ------------- 217.3/331.8 MB 50.4 MB/s eta 0:00:03\n",
      "   ------------------------- ------------- 219.8/331.8 MB 54.4 MB/s eta 0:00:03\n",
      "   -------------------------- ------------ 222.4/331.8 MB 54.4 MB/s eta 0:00:03\n",
      "   -------------------------- ------------ 224.4/331.8 MB 50.1 MB/s eta 0:00:03\n",
      "   -------------------------- ------------ 227.0/331.8 MB 54.7 MB/s eta 0:00:02\n",
      "   -------------------------- ------------ 229.6/331.8 MB 54.7 MB/s eta 0:00:02\n",
      "   --------------------------- ----------- 232.3/331.8 MB 54.7 MB/s eta 0:00:02\n",
      "   --------------------------- ----------- 233.7/331.8 MB 54.7 MB/s eta 0:00:02\n",
      "   --------------------------- ----------- 235.4/331.8 MB 46.7 MB/s eta 0:00:03\n",
      "   --------------------------- ----------- 238.2/331.8 MB 46.7 MB/s eta 0:00:03\n",
      "   ---------------------------- ---------- 239.7/331.8 MB 43.5 MB/s eta 0:00:03\n",
      "   ---------------------------- ---------- 242.4/331.8 MB 43.5 MB/s eta 0:00:03\n",
      "   ---------------------------- ---------- 244.7/331.8 MB 50.4 MB/s eta 0:00:02\n",
      "   ----------------------------- --------- 247.3/331.8 MB 50.4 MB/s eta 0:00:02\n",
      "   ----------------------------- --------- 248.9/331.8 MB 50.4 MB/s eta 0:00:02\n",
      "   ----------------------------- --------- 251.3/331.8 MB 50.4 MB/s eta 0:00:02\n",
      "   ----------------------------- --------- 253.3/331.8 MB 50.4 MB/s eta 0:00:02\n",
      "   ----------------------------- --------- 255.0/331.8 MB 46.7 MB/s eta 0:00:02\n",
      "   ------------------------------ -------- 256.9/331.8 MB 43.7 MB/s eta 0:00:02\n",
      "   ------------------------------ -------- 258.1/331.8 MB 46.9 MB/s eta 0:00:02\n",
      "   ------------------------------ -------- 258.5/331.8 MB 36.4 MB/s eta 0:00:03\n",
      "   ------------------------------ -------- 263.0/331.8 MB 43.5 MB/s eta 0:00:02\n",
      "   ------------------------------- ------- 265.0/331.8 MB 43.5 MB/s eta 0:00:02\n",
      "   ------------------------------- ------- 266.7/331.8 MB 43.7 MB/s eta 0:00:02\n",
      "   ------------------------------- ------- 268.4/331.8 MB 54.7 MB/s eta 0:00:02\n",
      "   ------------------------------- ------- 269.4/331.8 MB 50.1 MB/s eta 0:00:02\n",
      "   ------------------------------- ------- 269.4/331.8 MB 50.1 MB/s eta 0:00:02\n",
      "   ------------------------------- ------- 269.4/331.8 MB 50.1 MB/s eta 0:00:02\n",
      "   ------------------------------- ------- 269.4/331.8 MB 50.1 MB/s eta 0:00:02\n",
      "   ------------------------------- ------- 269.4/331.8 MB 50.1 MB/s eta 0:00:02\n",
      "   ------------------------------- ------- 269.4/331.8 MB 50.1 MB/s eta 0:00:02\n",
      "   ------------------------------- ------- 269.4/331.8 MB 50.1 MB/s eta 0:00:02\n",
      "   ------------------------------- ------- 269.4/331.8 MB 50.1 MB/s eta 0:00:02\n",
      "   ------------------------------- ------- 269.4/331.8 MB 50.1 MB/s eta 0:00:02\n",
      "   ------------------------------- ------- 269.4/331.8 MB 50.1 MB/s eta 0:00:02\n",
      "   ------------------------------- ------- 269.4/331.8 MB 50.1 MB/s eta 0:00:02\n",
      "   ------------------------------- ------- 269.4/331.8 MB 50.1 MB/s eta 0:00:02\n",
      "   ------------------------------- ------- 269.4/331.8 MB 50.1 MB/s eta 0:00:02\n",
      "   ------------------------------- ------- 269.4/331.8 MB 50.1 MB/s eta 0:00:02\n",
      "   ------------------------------- ------- 269.4/331.8 MB 50.1 MB/s eta 0:00:02\n",
      "   ------------------------------- ------- 269.4/331.8 MB 50.1 MB/s eta 0:00:02\n",
      "   ------------------------------- ------- 269.4/331.8 MB 50.1 MB/s eta 0:00:02\n",
      "   ------------------------------- ------- 269.4/331.8 MB 50.1 MB/s eta 0:00:02\n",
      "   ------------------------------- ------- 269.4/331.8 MB 50.1 MB/s eta 0:00:02\n",
      "   ------------------------------- ------- 269.4/331.8 MB 50.1 MB/s eta 0:00:02\n",
      "   ------------------------------- ------- 269.4/331.8 MB 50.1 MB/s eta 0:00:02\n",
      "   ------------------------------- ------- 269.4/331.8 MB 50.1 MB/s eta 0:00:02\n",
      "   ------------------------------- ------- 269.4/331.8 MB 50.1 MB/s eta 0:00:02\n",
      "   ------------------------------- ------- 269.4/331.8 MB 50.1 MB/s eta 0:00:02\n",
      "   ------------------------------- ------- 269.4/331.8 MB 50.1 MB/s eta 0:00:02\n",
      "   ------------------------------- ------- 269.4/331.8 MB 50.1 MB/s eta 0:00:02\n",
      "   ------------------------------- ------- 269.4/331.8 MB 50.1 MB/s eta 0:00:02\n",
      "   ------------------------------- ------- 269.4/331.8 MB 50.1 MB/s eta 0:00:02\n",
      "   ------------------------------- ------- 269.4/331.8 MB 50.1 MB/s eta 0:00:02\n",
      "   ------------------------------- ------- 269.4/331.8 MB 50.1 MB/s eta 0:00:02\n",
      "   ------------------------------- ------- 269.4/331.8 MB 50.1 MB/s eta 0:00:02\n",
      "   ------------------------------- ------- 269.4/331.8 MB 50.1 MB/s eta 0:00:02\n",
      "   ------------------------------- ------- 269.4/331.8 MB 50.1 MB/s eta 0:00:02\n",
      "   ------------------------------- ------- 269.4/331.8 MB 50.1 MB/s eta 0:00:02\n",
      "   ------------------------------- ------- 269.4/331.8 MB 50.1 MB/s eta 0:00:02\n",
      "   ------------------------------- ------- 269.4/331.8 MB 50.1 MB/s eta 0:00:02\n",
      "   --------------------------------- ------ 274.5/331.8 MB 5.6 MB/s eta 0:00:11\n",
      "   -------------------------------- ----- 286.6/331.8 MB 217.7 MB/s eta 0:00:01\n",
      "   --------------------------------- ---- 289.1/331.8 MB 131.2 MB/s eta 0:00:01\n",
      "   ---------------------------------- ---- 291.0/331.8 MB 81.8 MB/s eta 0:00:01\n",
      "   ---------------------------------- ---- 292.6/331.8 MB 65.2 MB/s eta 0:00:01\n",
      "   ---------------------------------- ---- 294.7/331.8 MB 50.4 MB/s eta 0:00:01\n",
      "   ---------------------------------- ---- 296.6/331.8 MB 43.7 MB/s eta 0:00:01\n",
      "   ----------------------------------- --- 298.3/331.8 MB 38.6 MB/s eta 0:00:01\n",
      "   ----------------------------------- --- 300.3/331.8 MB 43.7 MB/s eta 0:00:01\n",
      "   ----------------------------------- --- 302.3/331.8 MB 40.9 MB/s eta 0:00:01\n",
      "   ----------------------------------- --- 304.5/331.8 MB 43.7 MB/s eta 0:00:01\n",
      "   ----------------------------------- --- 306.2/331.8 MB 40.9 MB/s eta 0:00:01\n",
      "   ------------------------------------ -- 308.1/331.8 MB 43.7 MB/s eta 0:00:01\n",
      "   ------------------------------------ -- 309.8/331.8 MB 40.9 MB/s eta 0:00:01\n",
      "   ------------------------------------ -- 311.7/331.8 MB 40.9 MB/s eta 0:00:01\n",
      "   ------------------------------------ -- 313.0/331.8 MB 38.5 MB/s eta 0:00:01\n",
      "   ------------------------------------- - 315.2/331.8 MB 38.6 MB/s eta 0:00:01\n",
      "   ------------------------------------- - 315.5/331.8 MB 34.4 MB/s eta 0:00:01\n",
      "   ------------------------------------- - 318.0/331.8 MB 34.4 MB/s eta 0:00:01\n",
      "   ------------------------------------- - 319.2/331.8 MB 32.8 MB/s eta 0:00:01\n",
      "   ------------------------------------- - 320.7/331.8 MB 32.7 MB/s eta 0:00:01\n",
      "   ------------------------------------- - 322.8/331.8 MB 36.4 MB/s eta 0:00:01\n",
      "   --------------------------------------  324.5/331.8 MB 34.4 MB/s eta 0:00:01\n",
      "   --------------------------------------  326.5/331.8 MB 40.9 MB/s eta 0:00:01\n",
      "   --------------------------------------  327.7/331.8 MB 34.6 MB/s eta 0:00:01\n",
      "   --------------------------------------  329.7/331.8 MB 38.5 MB/s eta 0:00:01\n",
      "   --------------------------------------  331.8/331.8 MB 40.9 MB/s eta 0:00:01\n",
      "   --------------------------------------  331.8/331.8 MB 38.6 MB/s eta 0:00:01\n",
      "   --------------------------------------  331.8/331.8 MB 38.6 MB/s eta 0:00:01\n",
      "   --------------------------------------  331.8/331.8 MB 38.6 MB/s eta 0:00:01\n",
      "   --------------------------------------  331.8/331.8 MB 38.6 MB/s eta 0:00:01\n",
      "   --------------------------------------  331.8/331.8 MB 38.6 MB/s eta 0:00:01\n",
      "   --------------------------------------  331.8/331.8 MB 38.6 MB/s eta 0:00:01\n",
      "   --------------------------------------  331.8/331.8 MB 38.6 MB/s eta 0:00:01\n",
      "   --------------------------------------  331.8/331.8 MB 38.6 MB/s eta 0:00:01\n",
      "   --------------------------------------  331.8/331.8 MB 38.6 MB/s eta 0:00:01\n",
      "   --------------------------------------- 331.8/331.8 MB 14.5 MB/s eta 0:00:00\n",
      "Using cached absl_py-2.3.1-py3-none-any.whl (135 kB)\n",
      "Using cached astunparse-1.6.3-py2.py3-none-any.whl (12 kB)\n",
      "Using cached flatbuffers-25.2.10-py2.py3-none-any.whl (30 kB)\n",
      "Using cached gast-0.6.0-py3-none-any.whl (21 kB)\n",
      "Using cached google_pasta-0.2.0-py3-none-any.whl (57 kB)\n",
      "Downloading grpcio-1.74.0-cp311-cp311-win_amd64.whl (4.5 MB)\n",
      "   ---------------------------------------- 0.0/4.5 MB ? eta -:--:--\n",
      "   ----------------- ---------------------- 2.0/4.5 MB 63.1 MB/s eta 0:00:01\n",
      "   ------------------------------ --------- 3.4/4.5 MB 43.8 MB/s eta 0:00:01\n",
      "   ---------------------------------------- 4.5/4.5 MB 40.8 MB/s eta 0:00:00\n",
      "Downloading h5py-3.14.0-cp311-cp311-win_amd64.whl (2.9 MB)\n",
      "   ---------------------------------------- 0.0/2.9 MB ? eta -:--:--\n",
      "   ------------------------------------- -- 2.7/2.9 MB 86.2 MB/s eta 0:00:01\n",
      "   ---------------------------------------- 2.9/2.9 MB 60.9 MB/s eta 0:00:00\n",
      "Downloading keras-3.11.3-py3-none-any.whl (1.4 MB)\n",
      "   ---------------------------------------- 0.0/1.4 MB ? eta -:--:--\n",
      "   ---------------------------------------- 1.4/1.4 MB 45.1 MB/s eta 0:00:00\n",
      "Using cached libclang-18.1.1-py2.py3-none-win_amd64.whl (26.4 MB)\n",
      "Downloading ml_dtypes-0.5.3-cp311-cp311-win_amd64.whl (206 kB)\n",
      "   ---------------------------------------- 0.0/206.3 kB ? eta -:--:--\n",
      "   ---------------------------------------- 206.3/206.3 kB 6.3 MB/s eta 0:00:00\n",
      "Using cached opt_einsum-3.4.0-py3-none-any.whl (71 kB)\n",
      "Downloading protobuf-6.32.0-cp310-abi3-win_amd64.whl (435 kB)\n",
      "   ---------------------------------------- 0.0/435.7 kB ? eta -:--:--\n",
      "   --------------------------------------- 435.7/435.7 kB 13.3 MB/s eta 0:00:00\n",
      "Using cached tensorboard-2.20.0-py3-none-any.whl (5.5 MB)\n",
      "Using cached termcolor-3.1.0-py3-none-any.whl (7.7 kB)\n",
      "Using cached tensorboard_data_server-0.7.2-py3-none-any.whl (2.4 kB)\n",
      "Using cached namex-0.1.0-py3-none-any.whl (5.9 kB)\n",
      "Downloading optree-0.17.0-cp311-cp311-win_amd64.whl (313 kB)\n",
      "   ---------------------------------------- 0.0/313.8 kB ? eta -:--:--\n",
      "   --------------------------------------- 313.8/313.8 kB 20.2 MB/s eta 0:00:00\n",
      "Installing collected packages: namex, libclang, flatbuffers, termcolor, tensorboard-data-server, protobuf, optree, opt_einsum, ml_dtypes, h5py, grpcio, google_pasta, gast, astunparse, absl-py, tensorboard, keras, tensorflow\n",
      "  Attempting uninstall: protobuf\n",
      "    Found existing installation: protobuf 3.20.3\n",
      "    Uninstalling protobuf-3.20.3:\n",
      "      Successfully uninstalled protobuf-3.20.3\n",
      "  Attempting uninstall: h5py\n",
      "    Found existing installation: h5py 3.9.0\n",
      "    Uninstalling h5py-3.9.0:\n",
      "      Successfully uninstalled h5py-3.9.0\n",
      "Successfully installed absl-py-2.3.1 astunparse-1.6.3 flatbuffers-25.2.10 gast-0.6.0 google_pasta-0.2.0 grpcio-1.74.0 h5py-3.14.0 keras-3.11.3 libclang-18.1.1 ml_dtypes-0.5.3 namex-0.1.0 opt_einsum-3.4.0 optree-0.17.0 protobuf-6.32.0 tensorboard-2.20.0 tensorboard-data-server-0.7.2 tensorflow-2.20.0 termcolor-3.1.0\n"
     ]
    },
    {
     "name": "stderr",
     "output_type": "stream",
     "text": [
      "ERROR: pip's dependency resolver does not currently take into account all the packages that are installed. This behaviour is the source of the following dependency conflicts.\n",
      "streamlit 1.30.0 requires protobuf<5,>=3.20, but you have protobuf 6.32.0 which is incompatible.\n"
     ]
    }
   ],
   "source": [
    "!pip install tensorflow"
   ]
  },
  {
   "cell_type": "code",
   "execution_count": 64,
   "metadata": {
    "tags": []
   },
   "outputs": [
    {
     "data": {
      "text/html": [
       "<pre style=\"white-space:pre;overflow-x:auto;line-height:normal;font-family:Menlo,'DejaVu Sans Mono',consolas,'Courier New',monospace\"><span style=\"font-weight: bold\">Model: \"sequential_1\"</span>\n",
       "</pre>\n"
      ],
      "text/plain": [
       "\u001b[1mModel: \"sequential_1\"\u001b[0m\n"
      ]
     },
     "metadata": {},
     "output_type": "display_data"
    },
    {
     "data": {
      "text/html": [
       "<pre style=\"white-space:pre;overflow-x:auto;line-height:normal;font-family:Menlo,'DejaVu Sans Mono',consolas,'Courier New',monospace\">┏━━━━━━━━━━━━━━━━━━━━━━━━━━━━━━━━━┳━━━━━━━━━━━━━━━━━━━━━━━━┳━━━━━━━━━━━━━━━┓\n",
       "┃<span style=\"font-weight: bold\"> Layer (type)                    </span>┃<span style=\"font-weight: bold\"> Output Shape           </span>┃<span style=\"font-weight: bold\">       Param # </span>┃\n",
       "┡━━━━━━━━━━━━━━━━━━━━━━━━━━━━━━━━━╇━━━━━━━━━━━━━━━━━━━━━━━━╇━━━━━━━━━━━━━━━┩\n",
       "│ dense_3 (<span style=\"color: #0087ff; text-decoration-color: #0087ff\">Dense</span>)                 │ (<span style=\"color: #00d7ff; text-decoration-color: #00d7ff\">None</span>, <span style=\"color: #00af00; text-decoration-color: #00af00\">12</span>)             │            <span style=\"color: #00af00; text-decoration-color: #00af00\">72</span> │\n",
       "├─────────────────────────────────┼────────────────────────┼───────────────┤\n",
       "│ dense_4 (<span style=\"color: #0087ff; text-decoration-color: #0087ff\">Dense</span>)                 │ (<span style=\"color: #00d7ff; text-decoration-color: #00d7ff\">None</span>, <span style=\"color: #00af00; text-decoration-color: #00af00\">8</span>)              │           <span style=\"color: #00af00; text-decoration-color: #00af00\">104</span> │\n",
       "├─────────────────────────────────┼────────────────────────┼───────────────┤\n",
       "│ dense_5 (<span style=\"color: #0087ff; text-decoration-color: #0087ff\">Dense</span>)                 │ (<span style=\"color: #00d7ff; text-decoration-color: #00d7ff\">None</span>, <span style=\"color: #00af00; text-decoration-color: #00af00\">1</span>)              │             <span style=\"color: #00af00; text-decoration-color: #00af00\">9</span> │\n",
       "└─────────────────────────────────┴────────────────────────┴───────────────┘\n",
       "</pre>\n"
      ],
      "text/plain": [
       "┏━━━━━━━━━━━━━━━━━━━━━━━━━━━━━━━━━┳━━━━━━━━━━━━━━━━━━━━━━━━┳━━━━━━━━━━━━━━━┓\n",
       "┃\u001b[1m \u001b[0m\u001b[1mLayer (type)                   \u001b[0m\u001b[1m \u001b[0m┃\u001b[1m \u001b[0m\u001b[1mOutput Shape          \u001b[0m\u001b[1m \u001b[0m┃\u001b[1m \u001b[0m\u001b[1m      Param #\u001b[0m\u001b[1m \u001b[0m┃\n",
       "┡━━━━━━━━━━━━━━━━━━━━━━━━━━━━━━━━━╇━━━━━━━━━━━━━━━━━━━━━━━━╇━━━━━━━━━━━━━━━┩\n",
       "│ dense_3 (\u001b[38;5;33mDense\u001b[0m)                 │ (\u001b[38;5;45mNone\u001b[0m, \u001b[38;5;34m12\u001b[0m)             │            \u001b[38;5;34m72\u001b[0m │\n",
       "├─────────────────────────────────┼────────────────────────┼───────────────┤\n",
       "│ dense_4 (\u001b[38;5;33mDense\u001b[0m)                 │ (\u001b[38;5;45mNone\u001b[0m, \u001b[38;5;34m8\u001b[0m)              │           \u001b[38;5;34m104\u001b[0m │\n",
       "├─────────────────────────────────┼────────────────────────┼───────────────┤\n",
       "│ dense_5 (\u001b[38;5;33mDense\u001b[0m)                 │ (\u001b[38;5;45mNone\u001b[0m, \u001b[38;5;34m1\u001b[0m)              │             \u001b[38;5;34m9\u001b[0m │\n",
       "└─────────────────────────────────┴────────────────────────┴───────────────┘\n"
      ]
     },
     "metadata": {},
     "output_type": "display_data"
    },
    {
     "data": {
      "text/html": [
       "<pre style=\"white-space:pre;overflow-x:auto;line-height:normal;font-family:Menlo,'DejaVu Sans Mono',consolas,'Courier New',monospace\"><span style=\"font-weight: bold\"> Total params: </span><span style=\"color: #00af00; text-decoration-color: #00af00\">185</span> (740.00 B)\n",
       "</pre>\n"
      ],
      "text/plain": [
       "\u001b[1m Total params: \u001b[0m\u001b[38;5;34m185\u001b[0m (740.00 B)\n"
      ]
     },
     "metadata": {},
     "output_type": "display_data"
    },
    {
     "data": {
      "text/html": [
       "<pre style=\"white-space:pre;overflow-x:auto;line-height:normal;font-family:Menlo,'DejaVu Sans Mono',consolas,'Courier New',monospace\"><span style=\"font-weight: bold\"> Trainable params: </span><span style=\"color: #00af00; text-decoration-color: #00af00\">185</span> (740.00 B)\n",
       "</pre>\n"
      ],
      "text/plain": [
       "\u001b[1m Trainable params: \u001b[0m\u001b[38;5;34m185\u001b[0m (740.00 B)\n"
      ]
     },
     "metadata": {},
     "output_type": "display_data"
    },
    {
     "data": {
      "text/html": [
       "<pre style=\"white-space:pre;overflow-x:auto;line-height:normal;font-family:Menlo,'DejaVu Sans Mono',consolas,'Courier New',monospace\"><span style=\"font-weight: bold\"> Non-trainable params: </span><span style=\"color: #00af00; text-decoration-color: #00af00\">0</span> (0.00 B)\n",
       "</pre>\n"
      ],
      "text/plain": [
       "\u001b[1m Non-trainable params: \u001b[0m\u001b[38;5;34m0\u001b[0m (0.00 B)\n"
      ]
     },
     "metadata": {},
     "output_type": "display_data"
    }
   ],
   "source": [
    "from tensorflow.keras.models import Sequential\n",
    "from tensorflow.keras.layers import Dense\n",
    "from sklearn.preprocessing import StandardScaler\n",
    "from tensorflow import keras\n",
    "\n",
    "\n",
    "model = Sequential()\n",
    "model.add(keras.Input(shape=(5,)))\n",
    "model.add(Dense(12,  kernel_initializer='uniform' , activation= 'relu' ))\n",
    "model.add(Dense(8, kernel_initializer='uniform' , activation= 'relu' ))\n",
    "model.add(Dense(1, kernel_initializer='uniform' , activation= 'sigmoid' ))\n",
    "model.summary()"
   ]
  },
  {
   "cell_type": "markdown",
   "metadata": {},
   "source": [
    "## **[24]** Compile el modelo "
   ]
  },
  {
   "cell_type": "code",
   "execution_count": 65,
   "metadata": {
    "tags": []
   },
   "outputs": [],
   "source": [
    "# Compilar modelo\n",
    "model.compile(loss= 'binary_crossentropy' , optimizer= 'adam' , metrics=[ 'accuracy' ])"
   ]
  },
  {
   "cell_type": "markdown",
   "metadata": {},
   "source": [
    "## **[25]** Entrene su modelo de MLP"
   ]
  },
  {
   "cell_type": "code",
   "execution_count": 66,
   "metadata": {
    "collapsed": true,
    "jupyter": {
     "outputs_hidden": true
    },
    "tags": []
   },
   "outputs": [
    {
     "name": "stdout",
     "output_type": "stream",
     "text": [
      "Epoch 1/250\n",
      "\u001b[1m46/46\u001b[0m \u001b[32m━━━━━━━━━━━━━━━━━━━━\u001b[0m\u001b[37m\u001b[0m \u001b[1m1s\u001b[0m 2ms/step - accuracy: 0.7143 - loss: 0.6917 \n",
      "Epoch 2/250\n",
      "\u001b[1m46/46\u001b[0m \u001b[32m━━━━━━━━━━━━━━━━━━━━\u001b[0m\u001b[37m\u001b[0m \u001b[1m0s\u001b[0m 1ms/step - accuracy: 0.5626 - loss: 0.6792 \n",
      "Epoch 3/250\n",
      "\u001b[1m46/46\u001b[0m \u001b[32m━━━━━━━━━━━━━━━━━━━━\u001b[0m\u001b[37m\u001b[0m \u001b[1m0s\u001b[0m 1ms/step - accuracy: 0.6418 - loss: 0.6540\n",
      "Epoch 4/250\n",
      "\u001b[1m46/46\u001b[0m \u001b[32m━━━━━━━━━━━━━━━━━━━━\u001b[0m\u001b[37m\u001b[0m \u001b[1m0s\u001b[0m 2ms/step - accuracy: 0.8176 - loss: 0.5831\n",
      "Epoch 5/250\n",
      "\u001b[1m46/46\u001b[0m \u001b[32m━━━━━━━━━━━━━━━━━━━━\u001b[0m\u001b[37m\u001b[0m \u001b[1m0s\u001b[0m 1ms/step - accuracy: 0.8308 - loss: 0.4767 \n",
      "Epoch 6/250\n",
      "\u001b[1m46/46\u001b[0m \u001b[32m━━━━━━━━━━━━━━━━━━━━\u001b[0m\u001b[37m\u001b[0m \u001b[1m0s\u001b[0m 1ms/step - accuracy: 0.8154 - loss: 0.4187\n",
      "Epoch 7/250\n",
      "\u001b[1m46/46\u001b[0m \u001b[32m━━━━━━━━━━━━━━━━━━━━\u001b[0m\u001b[37m\u001b[0m \u001b[1m0s\u001b[0m 1ms/step - accuracy: 0.8132 - loss: 0.4169 \n",
      "Epoch 8/250\n",
      "\u001b[1m46/46\u001b[0m \u001b[32m━━━━━━━━━━━━━━━━━━━━\u001b[0m\u001b[37m\u001b[0m \u001b[1m0s\u001b[0m 2ms/step - accuracy: 0.8396 - loss: 0.3817\n",
      "Epoch 9/250\n",
      "\u001b[1m46/46\u001b[0m \u001b[32m━━━━━━━━━━━━━━━━━━━━\u001b[0m\u001b[37m\u001b[0m \u001b[1m0s\u001b[0m 2ms/step - accuracy: 0.8286 - loss: 0.3863\n",
      "Epoch 10/250\n",
      "\u001b[1m46/46\u001b[0m \u001b[32m━━━━━━━━━━━━━━━━━━━━\u001b[0m\u001b[37m\u001b[0m \u001b[1m0s\u001b[0m 1ms/step - accuracy: 0.8330 - loss: 0.3849\n",
      "Epoch 11/250\n",
      "\u001b[1m46/46\u001b[0m \u001b[32m━━━━━━━━━━━━━━━━━━━━\u001b[0m\u001b[37m\u001b[0m \u001b[1m0s\u001b[0m 1ms/step - accuracy: 0.8330 - loss: 0.3750\n",
      "Epoch 12/250\n",
      "\u001b[1m46/46\u001b[0m \u001b[32m━━━━━━━━━━━━━━━━━━━━\u001b[0m\u001b[37m\u001b[0m \u001b[1m0s\u001b[0m 2ms/step - accuracy: 0.8418 - loss: 0.3750\n",
      "Epoch 13/250\n",
      "\u001b[1m46/46\u001b[0m \u001b[32m━━━━━━━━━━━━━━━━━━━━\u001b[0m\u001b[37m\u001b[0m \u001b[1m0s\u001b[0m 1ms/step - accuracy: 0.8593 - loss: 0.3763\n",
      "Epoch 14/250\n",
      "\u001b[1m46/46\u001b[0m \u001b[32m━━━━━━━━━━━━━━━━━━━━\u001b[0m\u001b[37m\u001b[0m \u001b[1m0s\u001b[0m 1ms/step - accuracy: 0.8396 - loss: 0.3648\n",
      "Epoch 15/250\n",
      "\u001b[1m46/46\u001b[0m \u001b[32m━━━━━━━━━━━━━━━━━━━━\u001b[0m\u001b[37m\u001b[0m \u001b[1m0s\u001b[0m 1ms/step - accuracy: 0.8418 - loss: 0.3619\n",
      "Epoch 16/250\n",
      "\u001b[1m46/46\u001b[0m \u001b[32m━━━━━━━━━━━━━━━━━━━━\u001b[0m\u001b[37m\u001b[0m \u001b[1m0s\u001b[0m 1ms/step - accuracy: 0.8462 - loss: 0.3659\n",
      "Epoch 17/250\n",
      "\u001b[1m46/46\u001b[0m \u001b[32m━━━━━━━━━━━━━━━━━━━━\u001b[0m\u001b[37m\u001b[0m \u001b[1m0s\u001b[0m 1ms/step - accuracy: 0.8593 - loss: 0.3578 \n",
      "Epoch 18/250\n",
      "\u001b[1m46/46\u001b[0m \u001b[32m━━━━━━━━━━━━━━━━━━━━\u001b[0m\u001b[37m\u001b[0m \u001b[1m0s\u001b[0m 2ms/step - accuracy: 0.8484 - loss: 0.3602\n",
      "Epoch 19/250\n",
      "\u001b[1m46/46\u001b[0m \u001b[32m━━━━━━━━━━━━━━━━━━━━\u001b[0m\u001b[37m\u001b[0m \u001b[1m0s\u001b[0m 1ms/step - accuracy: 0.8374 - loss: 0.3776 \n",
      "Epoch 20/250\n",
      "\u001b[1m46/46\u001b[0m \u001b[32m━━━━━━━━━━━━━━━━━━━━\u001b[0m\u001b[37m\u001b[0m \u001b[1m0s\u001b[0m 1ms/step - accuracy: 0.8264 - loss: 0.3977\n",
      "Epoch 21/250\n",
      "\u001b[1m46/46\u001b[0m \u001b[32m━━━━━━━━━━━━━━━━━━━━\u001b[0m\u001b[37m\u001b[0m \u001b[1m0s\u001b[0m 1ms/step - accuracy: 0.8505 - loss: 0.3532\n",
      "Epoch 22/250\n",
      "\u001b[1m46/46\u001b[0m \u001b[32m━━━━━━━━━━━━━━━━━━━━\u001b[0m\u001b[37m\u001b[0m \u001b[1m0s\u001b[0m 1ms/step - accuracy: 0.8571 - loss: 0.3539\n",
      "Epoch 23/250\n",
      "\u001b[1m46/46\u001b[0m \u001b[32m━━━━━━━━━━━━━━━━━━━━\u001b[0m\u001b[37m\u001b[0m \u001b[1m0s\u001b[0m 1ms/step - accuracy: 0.8418 - loss: 0.3646 \n",
      "Epoch 24/250\n",
      "\u001b[1m46/46\u001b[0m \u001b[32m━━━━━━━━━━━━━━━━━━━━\u001b[0m\u001b[37m\u001b[0m \u001b[1m0s\u001b[0m 2ms/step - accuracy: 0.8308 - loss: 0.3735\n",
      "Epoch 25/250\n",
      "\u001b[1m46/46\u001b[0m \u001b[32m━━━━━━━━━━━━━━━━━━━━\u001b[0m\u001b[37m\u001b[0m \u001b[1m0s\u001b[0m 1ms/step - accuracy: 0.8352 - loss: 0.3610\n",
      "Epoch 26/250\n",
      "\u001b[1m46/46\u001b[0m \u001b[32m━━━━━━━━━━━━━━━━━━━━\u001b[0m\u001b[37m\u001b[0m \u001b[1m0s\u001b[0m 1ms/step - accuracy: 0.8462 - loss: 0.3598\n",
      "Epoch 27/250\n",
      "\u001b[1m46/46\u001b[0m \u001b[32m━━━━━━━━━━━━━━━━━━━━\u001b[0m\u001b[37m\u001b[0m \u001b[1m0s\u001b[0m 1ms/step - accuracy: 0.8484 - loss: 0.3489 \n",
      "Epoch 28/250\n",
      "\u001b[1m46/46\u001b[0m \u001b[32m━━━━━━━━━━━━━━━━━━━━\u001b[0m\u001b[37m\u001b[0m \u001b[1m0s\u001b[0m 1ms/step - accuracy: 0.8593 - loss: 0.3518 \n",
      "Epoch 29/250\n",
      "\u001b[1m46/46\u001b[0m \u001b[32m━━━━━━━━━━━━━━━━━━━━\u001b[0m\u001b[37m\u001b[0m \u001b[1m0s\u001b[0m 1ms/step - accuracy: 0.8549 - loss: 0.3524 \n",
      "Epoch 30/250\n",
      "\u001b[1m46/46\u001b[0m \u001b[32m━━━━━━━━━━━━━━━━━━━━\u001b[0m\u001b[37m\u001b[0m \u001b[1m0s\u001b[0m 1ms/step - accuracy: 0.8571 - loss: 0.3427 \n",
      "Epoch 31/250\n",
      "\u001b[1m46/46\u001b[0m \u001b[32m━━━━━━━━━━━━━━━━━━━━\u001b[0m\u001b[37m\u001b[0m \u001b[1m0s\u001b[0m 2ms/step - accuracy: 0.8571 - loss: 0.3493\n",
      "Epoch 32/250\n",
      "\u001b[1m46/46\u001b[0m \u001b[32m━━━━━━━━━━━━━━━━━━━━\u001b[0m\u001b[37m\u001b[0m \u001b[1m0s\u001b[0m 1ms/step - accuracy: 0.8615 - loss: 0.3369\n",
      "Epoch 33/250\n",
      "\u001b[1m46/46\u001b[0m \u001b[32m━━━━━━━━━━━━━━━━━━━━\u001b[0m\u001b[37m\u001b[0m \u001b[1m0s\u001b[0m 2ms/step - accuracy: 0.8659 - loss: 0.3508\n",
      "Epoch 34/250\n",
      "\u001b[1m46/46\u001b[0m \u001b[32m━━━━━━━━━━━━━━━━━━━━\u001b[0m\u001b[37m\u001b[0m \u001b[1m0s\u001b[0m 2ms/step - accuracy: 0.8286 - loss: 0.3602\n",
      "Epoch 35/250\n",
      "\u001b[1m46/46\u001b[0m \u001b[32m━━━━━━━━━━━━━━━━━━━━\u001b[0m\u001b[37m\u001b[0m \u001b[1m0s\u001b[0m 1ms/step - accuracy: 0.8396 - loss: 0.3488\n",
      "Epoch 36/250\n",
      "\u001b[1m46/46\u001b[0m \u001b[32m━━━━━━━━━━━━━━━━━━━━\u001b[0m\u001b[37m\u001b[0m \u001b[1m0s\u001b[0m 1ms/step - accuracy: 0.8549 - loss: 0.3504\n",
      "Epoch 37/250\n",
      "\u001b[1m46/46\u001b[0m \u001b[32m━━━━━━━━━━━━━━━━━━━━\u001b[0m\u001b[37m\u001b[0m \u001b[1m0s\u001b[0m 1ms/step - accuracy: 0.8593 - loss: 0.3376 \n",
      "Epoch 38/250\n",
      "\u001b[1m46/46\u001b[0m \u001b[32m━━━━━━━━━━━━━━━━━━━━\u001b[0m\u001b[37m\u001b[0m \u001b[1m0s\u001b[0m 1ms/step - accuracy: 0.8549 - loss: 0.3365 \n",
      "Epoch 39/250\n",
      "\u001b[1m46/46\u001b[0m \u001b[32m━━━━━━━━━━━━━━━━━━━━\u001b[0m\u001b[37m\u001b[0m \u001b[1m0s\u001b[0m 1ms/step - accuracy: 0.8462 - loss: 0.3485\n",
      "Epoch 40/250\n",
      "\u001b[1m46/46\u001b[0m \u001b[32m━━━━━━━━━━━━━━━━━━━━\u001b[0m\u001b[37m\u001b[0m \u001b[1m0s\u001b[0m 1ms/step - accuracy: 0.8571 - loss: 0.3388 \n",
      "Epoch 41/250\n",
      "\u001b[1m46/46\u001b[0m \u001b[32m━━━━━━━━━━━━━━━━━━━━\u001b[0m\u001b[37m\u001b[0m \u001b[1m0s\u001b[0m 1ms/step - accuracy: 0.8615 - loss: 0.3332 \n",
      "Epoch 42/250\n",
      "\u001b[1m46/46\u001b[0m \u001b[32m━━━━━━━━━━━━━━━━━━━━\u001b[0m\u001b[37m\u001b[0m \u001b[1m0s\u001b[0m 1ms/step - accuracy: 0.8769 - loss: 0.3365 \n",
      "Epoch 43/250\n",
      "\u001b[1m46/46\u001b[0m \u001b[32m━━━━━━━━━━━━━━━━━━━━\u001b[0m\u001b[37m\u001b[0m \u001b[1m0s\u001b[0m 1ms/step - accuracy: 0.8571 - loss: 0.3375\n",
      "Epoch 44/250\n",
      "\u001b[1m46/46\u001b[0m \u001b[32m━━━━━━━━━━━━━━━━━━━━\u001b[0m\u001b[37m\u001b[0m \u001b[1m0s\u001b[0m 1ms/step - accuracy: 0.8549 - loss: 0.3280\n",
      "Epoch 45/250\n",
      "\u001b[1m46/46\u001b[0m \u001b[32m━━━━━━━━━━━━━━━━━━━━\u001b[0m\u001b[37m\u001b[0m \u001b[1m0s\u001b[0m 1ms/step - accuracy: 0.8571 - loss: 0.3361 \n",
      "Epoch 46/250\n",
      "\u001b[1m46/46\u001b[0m \u001b[32m━━━━━━━━━━━━━━━━━━━━\u001b[0m\u001b[37m\u001b[0m \u001b[1m0s\u001b[0m 1ms/step - accuracy: 0.8593 - loss: 0.3466 \n",
      "Epoch 47/250\n",
      "\u001b[1m46/46\u001b[0m \u001b[32m━━━━━━━━━━━━━━━━━━━━\u001b[0m\u001b[37m\u001b[0m \u001b[1m0s\u001b[0m 1ms/step - accuracy: 0.8725 - loss: 0.3270 \n",
      "Epoch 48/250\n",
      "\u001b[1m46/46\u001b[0m \u001b[32m━━━━━━━━━━━━━━━━━━━━\u001b[0m\u001b[37m\u001b[0m \u001b[1m0s\u001b[0m 2ms/step - accuracy: 0.8505 - loss: 0.3377\n",
      "Epoch 49/250\n",
      "\u001b[1m46/46\u001b[0m \u001b[32m━━━━━━━━━━━━━━━━━━━━\u001b[0m\u001b[37m\u001b[0m \u001b[1m0s\u001b[0m 1ms/step - accuracy: 0.8549 - loss: 0.3250 \n",
      "Epoch 50/250\n",
      "\u001b[1m46/46\u001b[0m \u001b[32m━━━━━━━━━━━━━━━━━━━━\u001b[0m\u001b[37m\u001b[0m \u001b[1m0s\u001b[0m 1ms/step - accuracy: 0.8549 - loss: 0.3271\n",
      "Epoch 51/250\n",
      "\u001b[1m46/46\u001b[0m \u001b[32m━━━━━━━━━━━━━━━━━━━━\u001b[0m\u001b[37m\u001b[0m \u001b[1m0s\u001b[0m 1ms/step - accuracy: 0.8637 - loss: 0.3262 \n",
      "Epoch 52/250\n",
      "\u001b[1m46/46\u001b[0m \u001b[32m━━━━━━━━━━━━━━━━━━━━\u001b[0m\u001b[37m\u001b[0m \u001b[1m0s\u001b[0m 1ms/step - accuracy: 0.8615 - loss: 0.3329 \n",
      "Epoch 53/250\n",
      "\u001b[1m46/46\u001b[0m \u001b[32m━━━━━━━━━━━━━━━━━━━━\u001b[0m\u001b[37m\u001b[0m \u001b[1m0s\u001b[0m 1ms/step - accuracy: 0.8703 - loss: 0.3277 \n",
      "Epoch 54/250\n",
      "\u001b[1m46/46\u001b[0m \u001b[32m━━━━━━━━━━━━━━━━━━━━\u001b[0m\u001b[37m\u001b[0m \u001b[1m0s\u001b[0m 1ms/step - accuracy: 0.8637 - loss: 0.3268 \n",
      "Epoch 55/250\n",
      "\u001b[1m46/46\u001b[0m \u001b[32m━━━━━━━━━━━━━━━━━━━━\u001b[0m\u001b[37m\u001b[0m \u001b[1m0s\u001b[0m 1ms/step - accuracy: 0.8725 - loss: 0.3212 \n",
      "Epoch 56/250\n",
      "\u001b[1m46/46\u001b[0m \u001b[32m━━━━━━━━━━━━━━━━━━━━\u001b[0m\u001b[37m\u001b[0m \u001b[1m0s\u001b[0m 1ms/step - accuracy: 0.8615 - loss: 0.3337 \n",
      "Epoch 57/250\n",
      "\u001b[1m46/46\u001b[0m \u001b[32m━━━━━━━━━━━━━━━━━━━━\u001b[0m\u001b[37m\u001b[0m \u001b[1m0s\u001b[0m 1ms/step - accuracy: 0.8505 - loss: 0.3365 \n",
      "Epoch 58/250\n",
      "\u001b[1m46/46\u001b[0m \u001b[32m━━━━━━━━━━━━━━━━━━━━\u001b[0m\u001b[37m\u001b[0m \u001b[1m0s\u001b[0m 1ms/step - accuracy: 0.8791 - loss: 0.3195 \n",
      "Epoch 59/250\n",
      "\u001b[1m46/46\u001b[0m \u001b[32m━━━━━━━━━━━━━━━━━━━━\u001b[0m\u001b[37m\u001b[0m \u001b[1m0s\u001b[0m 1ms/step - accuracy: 0.8681 - loss: 0.3426 \n",
      "Epoch 60/250\n",
      "\u001b[1m46/46\u001b[0m \u001b[32m━━━━━━━━━━━━━━━━━━━━\u001b[0m\u001b[37m\u001b[0m \u001b[1m0s\u001b[0m 2ms/step - accuracy: 0.8659 - loss: 0.3298 \n",
      "Epoch 61/250\n",
      "\u001b[1m46/46\u001b[0m \u001b[32m━━━━━━━━━━━━━━━━━━━━\u001b[0m\u001b[37m\u001b[0m \u001b[1m0s\u001b[0m 1ms/step - accuracy: 0.8571 - loss: 0.3252\n",
      "Epoch 62/250\n",
      "\u001b[1m46/46\u001b[0m \u001b[32m━━━━━━━━━━━━━━━━━━━━\u001b[0m\u001b[37m\u001b[0m \u001b[1m0s\u001b[0m 1ms/step - accuracy: 0.8747 - loss: 0.3198\n",
      "Epoch 63/250\n",
      "\u001b[1m46/46\u001b[0m \u001b[32m━━━━━━━━━━━━━━━━━━━━\u001b[0m\u001b[37m\u001b[0m \u001b[1m0s\u001b[0m 1ms/step - accuracy: 0.8549 - loss: 0.3298 \n",
      "Epoch 64/250\n",
      "\u001b[1m46/46\u001b[0m \u001b[32m━━━━━━━━━━━━━━━━━━━━\u001b[0m\u001b[37m\u001b[0m \u001b[1m0s\u001b[0m 1ms/step - accuracy: 0.8659 - loss: 0.3208 \n",
      "Epoch 65/250\n",
      "\u001b[1m46/46\u001b[0m \u001b[32m━━━━━━━━━━━━━━━━━━━━\u001b[0m\u001b[37m\u001b[0m \u001b[1m0s\u001b[0m 2ms/step - accuracy: 0.8747 - loss: 0.3298\n",
      "Epoch 66/250\n",
      "\u001b[1m46/46\u001b[0m \u001b[32m━━━━━━━━━━━━━━━━━━━━\u001b[0m\u001b[37m\u001b[0m \u001b[1m0s\u001b[0m 1ms/step - accuracy: 0.8659 - loss: 0.3217 \n",
      "Epoch 67/250\n",
      "\u001b[1m46/46\u001b[0m \u001b[32m━━━━━━━━━━━━━━━━━━━━\u001b[0m\u001b[37m\u001b[0m \u001b[1m0s\u001b[0m 2ms/step - accuracy: 0.8571 - loss: 0.3164\n",
      "Epoch 68/250\n",
      "\u001b[1m46/46\u001b[0m \u001b[32m━━━━━━━━━━━━━━━━━━━━\u001b[0m\u001b[37m\u001b[0m \u001b[1m0s\u001b[0m 1ms/step - accuracy: 0.8637 - loss: 0.3320 \n",
      "Epoch 69/250\n",
      "\u001b[1m46/46\u001b[0m \u001b[32m━━━━━━━━━━━━━━━━━━━━\u001b[0m\u001b[37m\u001b[0m \u001b[1m0s\u001b[0m 2ms/step - accuracy: 0.8615 - loss: 0.3274\n",
      "Epoch 70/250\n",
      "\u001b[1m46/46\u001b[0m \u001b[32m━━━━━━━━━━━━━━━━━━━━\u001b[0m\u001b[37m\u001b[0m \u001b[1m0s\u001b[0m 1ms/step - accuracy: 0.8659 - loss: 0.3199 \n",
      "Epoch 71/250\n",
      "\u001b[1m46/46\u001b[0m \u001b[32m━━━━━━━━━━━━━━━━━━━━\u001b[0m\u001b[37m\u001b[0m \u001b[1m0s\u001b[0m 2ms/step - accuracy: 0.8681 - loss: 0.3219\n",
      "Epoch 72/250\n",
      "\u001b[1m46/46\u001b[0m \u001b[32m━━━━━━━━━━━━━━━━━━━━\u001b[0m\u001b[37m\u001b[0m \u001b[1m0s\u001b[0m 2ms/step - accuracy: 0.8571 - loss: 0.3277\n",
      "Epoch 73/250\n",
      "\u001b[1m46/46\u001b[0m \u001b[32m━━━━━━━━━━━━━━━━━━━━\u001b[0m\u001b[37m\u001b[0m \u001b[1m0s\u001b[0m 2ms/step - accuracy: 0.8681 - loss: 0.3259\n",
      "Epoch 74/250\n",
      "\u001b[1m46/46\u001b[0m \u001b[32m━━━━━━━━━━━━━━━━━━━━\u001b[0m\u001b[37m\u001b[0m \u001b[1m0s\u001b[0m 1ms/step - accuracy: 0.8703 - loss: 0.3214 \n",
      "Epoch 75/250\n",
      "\u001b[1m46/46\u001b[0m \u001b[32m━━━━━━━━━━━━━━━━━━━━\u001b[0m\u001b[37m\u001b[0m \u001b[1m0s\u001b[0m 1ms/step - accuracy: 0.8747 - loss: 0.3140 \n",
      "Epoch 76/250\n",
      "\u001b[1m46/46\u001b[0m \u001b[32m━━━━━━━━━━━━━━━━━━━━\u001b[0m\u001b[37m\u001b[0m \u001b[1m0s\u001b[0m 1ms/step - accuracy: 0.8637 - loss: 0.3274 \n",
      "Epoch 77/250\n",
      "\u001b[1m46/46\u001b[0m \u001b[32m━━━━━━━━━━━━━━━━━━━━\u001b[0m\u001b[37m\u001b[0m \u001b[1m0s\u001b[0m 1ms/step - accuracy: 0.8703 - loss: 0.3259 \n",
      "Epoch 78/250\n",
      "\u001b[1m46/46\u001b[0m \u001b[32m━━━━━━━━━━━━━━━━━━━━\u001b[0m\u001b[37m\u001b[0m \u001b[1m0s\u001b[0m 2ms/step - accuracy: 0.8637 - loss: 0.3284\n",
      "Epoch 79/250\n",
      "\u001b[1m46/46\u001b[0m \u001b[32m━━━━━━━━━━━━━━━━━━━━\u001b[0m\u001b[37m\u001b[0m \u001b[1m0s\u001b[0m 1ms/step - accuracy: 0.8571 - loss: 0.3071\n",
      "Epoch 80/250\n",
      "\u001b[1m46/46\u001b[0m \u001b[32m━━━━━━━━━━━━━━━━━━━━\u001b[0m\u001b[37m\u001b[0m \u001b[1m0s\u001b[0m 2ms/step - accuracy: 0.8593 - loss: 0.3274\n",
      "Epoch 81/250\n",
      "\u001b[1m46/46\u001b[0m \u001b[32m━━━━━━━━━━━━━━━━━━━━\u001b[0m\u001b[37m\u001b[0m \u001b[1m0s\u001b[0m 1ms/step - accuracy: 0.8659 - loss: 0.3136 \n",
      "Epoch 82/250\n",
      "\u001b[1m46/46\u001b[0m \u001b[32m━━━━━━━━━━━━━━━━━━━━\u001b[0m\u001b[37m\u001b[0m \u001b[1m0s\u001b[0m 1ms/step - accuracy: 0.8769 - loss: 0.3121 \n",
      "Epoch 83/250\n",
      "\u001b[1m46/46\u001b[0m \u001b[32m━━━━━━━━━━━━━━━━━━━━\u001b[0m\u001b[37m\u001b[0m \u001b[1m0s\u001b[0m 2ms/step - accuracy: 0.8747 - loss: 0.3125\n",
      "Epoch 84/250\n",
      "\u001b[1m46/46\u001b[0m \u001b[32m━━━━━━━━━━━━━━━━━━━━\u001b[0m\u001b[37m\u001b[0m \u001b[1m0s\u001b[0m 1ms/step - accuracy: 0.8571 - loss: 0.3231 \n",
      "Epoch 85/250\n",
      "\u001b[1m46/46\u001b[0m \u001b[32m━━━━━━━━━━━━━━━━━━━━\u001b[0m\u001b[37m\u001b[0m \u001b[1m0s\u001b[0m 1ms/step - accuracy: 0.8637 - loss: 0.3216\n",
      "Epoch 86/250\n",
      "\u001b[1m46/46\u001b[0m \u001b[32m━━━━━━━━━━━━━━━━━━━━\u001b[0m\u001b[37m\u001b[0m \u001b[1m0s\u001b[0m 1ms/step - accuracy: 0.8549 - loss: 0.3228 \n",
      "Epoch 87/250\n",
      "\u001b[1m46/46\u001b[0m \u001b[32m━━━━━━━━━━━━━━━━━━━━\u001b[0m\u001b[37m\u001b[0m \u001b[1m0s\u001b[0m 1ms/step - accuracy: 0.8637 - loss: 0.3156 \n",
      "Epoch 88/250\n",
      "\u001b[1m46/46\u001b[0m \u001b[32m━━━━━━━━━━━━━━━━━━━━\u001b[0m\u001b[37m\u001b[0m \u001b[1m0s\u001b[0m 1ms/step - accuracy: 0.8725 - loss: 0.3213 \n",
      "Epoch 89/250\n",
      "\u001b[1m46/46\u001b[0m \u001b[32m━━━━━━━━━━━━━━━━━━━━\u001b[0m\u001b[37m\u001b[0m \u001b[1m0s\u001b[0m 1ms/step - accuracy: 0.8813 - loss: 0.3100 \n",
      "Epoch 90/250\n",
      "\u001b[1m46/46\u001b[0m \u001b[32m━━━━━━━━━━━━━━━━━━━━\u001b[0m\u001b[37m\u001b[0m \u001b[1m0s\u001b[0m 1ms/step - accuracy: 0.8747 - loss: 0.3159 \n",
      "Epoch 91/250\n",
      "\u001b[1m46/46\u001b[0m \u001b[32m━━━━━━━━━━━━━━━━━━━━\u001b[0m\u001b[37m\u001b[0m \u001b[1m0s\u001b[0m 1ms/step - accuracy: 0.8725 - loss: 0.3144\n",
      "Epoch 92/250\n",
      "\u001b[1m46/46\u001b[0m \u001b[32m━━━━━━━━━━━━━━━━━━━━\u001b[0m\u001b[37m\u001b[0m \u001b[1m0s\u001b[0m 1ms/step - accuracy: 0.8703 - loss: 0.3106 \n",
      "Epoch 93/250\n",
      "\u001b[1m46/46\u001b[0m \u001b[32m━━━━━━━━━━━━━━━━━━━━\u001b[0m\u001b[37m\u001b[0m \u001b[1m0s\u001b[0m 1ms/step - accuracy: 0.8725 - loss: 0.3091 \n",
      "Epoch 94/250\n",
      "\u001b[1m46/46\u001b[0m \u001b[32m━━━━━━━━━━━━━━━━━━━━\u001b[0m\u001b[37m\u001b[0m \u001b[1m0s\u001b[0m 1ms/step - accuracy: 0.8681 - loss: 0.3064 \n",
      "Epoch 95/250\n",
      "\u001b[1m46/46\u001b[0m \u001b[32m━━━━━━━━━━━━━━━━━━━━\u001b[0m\u001b[37m\u001b[0m \u001b[1m0s\u001b[0m 2ms/step - accuracy: 0.8703 - loss: 0.3130\n",
      "Epoch 96/250\n",
      "\u001b[1m46/46\u001b[0m \u001b[32m━━━━━━━━━━━━━━━━━━━━\u001b[0m\u001b[37m\u001b[0m \u001b[1m0s\u001b[0m 1ms/step - accuracy: 0.8593 - loss: 0.3236\n",
      "Epoch 97/250\n",
      "\u001b[1m46/46\u001b[0m \u001b[32m━━━━━━━━━━━━━━━━━━━━\u001b[0m\u001b[37m\u001b[0m \u001b[1m0s\u001b[0m 1ms/step - accuracy: 0.8659 - loss: 0.3222\n",
      "Epoch 98/250\n",
      "\u001b[1m46/46\u001b[0m \u001b[32m━━━━━━━━━━━━━━━━━━━━\u001b[0m\u001b[37m\u001b[0m \u001b[1m0s\u001b[0m 2ms/step - accuracy: 0.8527 - loss: 0.3116\n",
      "Epoch 99/250\n",
      "\u001b[1m46/46\u001b[0m \u001b[32m━━━━━━━━━━━━━━━━━━━━\u001b[0m\u001b[37m\u001b[0m \u001b[1m0s\u001b[0m 1ms/step - accuracy: 0.8747 - loss: 0.3140 \n",
      "Epoch 100/250\n",
      "\u001b[1m46/46\u001b[0m \u001b[32m━━━━━━━━━━━━━━━━━━━━\u001b[0m\u001b[37m\u001b[0m \u001b[1m0s\u001b[0m 1ms/step - accuracy: 0.8703 - loss: 0.3160\n",
      "Epoch 101/250\n",
      "\u001b[1m46/46\u001b[0m \u001b[32m━━━━━━━━━━━━━━━━━━━━\u001b[0m\u001b[37m\u001b[0m \u001b[1m0s\u001b[0m 1ms/step - accuracy: 0.8703 - loss: 0.3053\n",
      "Epoch 102/250\n",
      "\u001b[1m46/46\u001b[0m \u001b[32m━━━━━━━━━━━━━━━━━━━━\u001b[0m\u001b[37m\u001b[0m \u001b[1m0s\u001b[0m 1ms/step - accuracy: 0.8615 - loss: 0.3157 \n",
      "Epoch 103/250\n",
      "\u001b[1m46/46\u001b[0m \u001b[32m━━━━━━━━━━━━━━━━━━━━\u001b[0m\u001b[37m\u001b[0m \u001b[1m0s\u001b[0m 1ms/step - accuracy: 0.8527 - loss: 0.3332\n",
      "Epoch 104/250\n",
      "\u001b[1m46/46\u001b[0m \u001b[32m━━━━━━━━━━━━━━━━━━━━\u001b[0m\u001b[37m\u001b[0m \u001b[1m0s\u001b[0m 1ms/step - accuracy: 0.8813 - loss: 0.3073\n",
      "Epoch 105/250\n",
      "\u001b[1m46/46\u001b[0m \u001b[32m━━━━━━━━━━━━━━━━━━━━\u001b[0m\u001b[37m\u001b[0m \u001b[1m0s\u001b[0m 1ms/step - accuracy: 0.8505 - loss: 0.3462 \n",
      "Epoch 106/250\n",
      "\u001b[1m46/46\u001b[0m \u001b[32m━━━━━━━━━━━━━━━━━━━━\u001b[0m\u001b[37m\u001b[0m \u001b[1m0s\u001b[0m 2ms/step - accuracy: 0.8769 - loss: 0.3080\n",
      "Epoch 107/250\n",
      "\u001b[1m46/46\u001b[0m \u001b[32m━━━━━━━━━━━━━━━━━━━━\u001b[0m\u001b[37m\u001b[0m \u001b[1m0s\u001b[0m 1ms/step - accuracy: 0.8505 - loss: 0.3330 \n",
      "Epoch 108/250\n",
      "\u001b[1m46/46\u001b[0m \u001b[32m━━━━━━━━━━━━━━━━━━━━\u001b[0m\u001b[37m\u001b[0m \u001b[1m0s\u001b[0m 1ms/step - accuracy: 0.8725 - loss: 0.3142\n",
      "Epoch 109/250\n",
      "\u001b[1m46/46\u001b[0m \u001b[32m━━━━━━━━━━━━━━━━━━━━\u001b[0m\u001b[37m\u001b[0m \u001b[1m0s\u001b[0m 1ms/step - accuracy: 0.8813 - loss: 0.3078\n",
      "Epoch 110/250\n",
      "\u001b[1m46/46\u001b[0m \u001b[32m━━━━━━━━━━━━━━━━━━━━\u001b[0m\u001b[37m\u001b[0m \u001b[1m0s\u001b[0m 1ms/step - accuracy: 0.8549 - loss: 0.3344 \n",
      "Epoch 111/250\n",
      "\u001b[1m46/46\u001b[0m \u001b[32m━━━━━━━━━━━━━━━━━━━━\u001b[0m\u001b[37m\u001b[0m \u001b[1m0s\u001b[0m 1ms/step - accuracy: 0.8659 - loss: 0.3209\n",
      "Epoch 112/250\n",
      "\u001b[1m46/46\u001b[0m \u001b[32m━━━━━━━━━━━━━━━━━━━━\u001b[0m\u001b[37m\u001b[0m \u001b[1m0s\u001b[0m 1ms/step - accuracy: 0.8659 - loss: 0.3237 \n",
      "Epoch 113/250\n",
      "\u001b[1m46/46\u001b[0m \u001b[32m━━━━━━━━━━━━━━━━━━━━\u001b[0m\u001b[37m\u001b[0m \u001b[1m0s\u001b[0m 1ms/step - accuracy: 0.8703 - loss: 0.3200\n",
      "Epoch 114/250\n",
      "\u001b[1m46/46\u001b[0m \u001b[32m━━━━━━━━━━━━━━━━━━━━\u001b[0m\u001b[37m\u001b[0m \u001b[1m0s\u001b[0m 1ms/step - accuracy: 0.8769 - loss: 0.3080 \n",
      "Epoch 115/250\n",
      "\u001b[1m46/46\u001b[0m \u001b[32m━━━━━━━━━━━━━━━━━━━━\u001b[0m\u001b[37m\u001b[0m \u001b[1m0s\u001b[0m 1ms/step - accuracy: 0.8637 - loss: 0.3206 \n",
      "Epoch 116/250\n",
      "\u001b[1m46/46\u001b[0m \u001b[32m━━━━━━━━━━━━━━━━━━━━\u001b[0m\u001b[37m\u001b[0m \u001b[1m0s\u001b[0m 1ms/step - accuracy: 0.8791 - loss: 0.3083\n",
      "Epoch 117/250\n",
      "\u001b[1m46/46\u001b[0m \u001b[32m━━━━━━━━━━━━━━━━━━━━\u001b[0m\u001b[37m\u001b[0m \u001b[1m0s\u001b[0m 1ms/step - accuracy: 0.8659 - loss: 0.3197 \n",
      "Epoch 118/250\n",
      "\u001b[1m46/46\u001b[0m \u001b[32m━━━━━━━━━━━━━━━━━━━━\u001b[0m\u001b[37m\u001b[0m \u001b[1m0s\u001b[0m 1ms/step - accuracy: 0.8681 - loss: 0.3160\n",
      "Epoch 119/250\n",
      "\u001b[1m46/46\u001b[0m \u001b[32m━━━━━━━━━━━━━━━━━━━━\u001b[0m\u001b[37m\u001b[0m \u001b[1m0s\u001b[0m 1ms/step - accuracy: 0.8681 - loss: 0.3089 \n",
      "Epoch 120/250\n",
      "\u001b[1m46/46\u001b[0m \u001b[32m━━━━━━━━━━━━━━━━━━━━\u001b[0m\u001b[37m\u001b[0m \u001b[1m0s\u001b[0m 1ms/step - accuracy: 0.8725 - loss: 0.3053 \n",
      "Epoch 121/250\n",
      "\u001b[1m46/46\u001b[0m \u001b[32m━━━━━━━━━━━━━━━━━━━━\u001b[0m\u001b[37m\u001b[0m \u001b[1m0s\u001b[0m 1ms/step - accuracy: 0.8791 - loss: 0.3148 \n",
      "Epoch 122/250\n",
      "\u001b[1m46/46\u001b[0m \u001b[32m━━━━━━━━━━━━━━━━━━━━\u001b[0m\u001b[37m\u001b[0m \u001b[1m0s\u001b[0m 1ms/step - accuracy: 0.8703 - loss: 0.3078 \n",
      "Epoch 123/250\n",
      "\u001b[1m46/46\u001b[0m \u001b[32m━━━━━━━━━━━━━━━━━━━━\u001b[0m\u001b[37m\u001b[0m \u001b[1m0s\u001b[0m 1ms/step - accuracy: 0.8659 - loss: 0.3104 \n",
      "Epoch 124/250\n",
      "\u001b[1m46/46\u001b[0m \u001b[32m━━━━━━━━━━━━━━━━━━━━\u001b[0m\u001b[37m\u001b[0m \u001b[1m0s\u001b[0m 1ms/step - accuracy: 0.8813 - loss: 0.3042 \n",
      "Epoch 125/250\n",
      "\u001b[1m46/46\u001b[0m \u001b[32m━━━━━━━━━━━━━━━━━━━━\u001b[0m\u001b[37m\u001b[0m \u001b[1m0s\u001b[0m 1ms/step - accuracy: 0.8681 - loss: 0.3207\n",
      "Epoch 126/250\n",
      "\u001b[1m46/46\u001b[0m \u001b[32m━━━━━━━━━━━━━━━━━━━━\u001b[0m\u001b[37m\u001b[0m \u001b[1m0s\u001b[0m 2ms/step - accuracy: 0.8703 - loss: 0.3030\n",
      "Epoch 127/250\n",
      "\u001b[1m46/46\u001b[0m \u001b[32m━━━━━━━━━━━━━━━━━━━━\u001b[0m\u001b[37m\u001b[0m \u001b[1m0s\u001b[0m 2ms/step - accuracy: 0.8725 - loss: 0.3155\n",
      "Epoch 128/250\n",
      "\u001b[1m46/46\u001b[0m \u001b[32m━━━━━━━━━━━━━━━━━━━━\u001b[0m\u001b[37m\u001b[0m \u001b[1m0s\u001b[0m 1ms/step - accuracy: 0.8747 - loss: 0.3071 \n",
      "Epoch 129/250\n",
      "\u001b[1m46/46\u001b[0m \u001b[32m━━━━━━━━━━━━━━━━━━━━\u001b[0m\u001b[37m\u001b[0m \u001b[1m0s\u001b[0m 1ms/step - accuracy: 0.8659 - loss: 0.3121 \n",
      "Epoch 130/250\n",
      "\u001b[1m46/46\u001b[0m \u001b[32m━━━━━━━━━━━━━━━━━━━━\u001b[0m\u001b[37m\u001b[0m \u001b[1m0s\u001b[0m 1ms/step - accuracy: 0.8813 - loss: 0.3051 \n",
      "Epoch 131/250\n",
      "\u001b[1m46/46\u001b[0m \u001b[32m━━━━━━━━━━━━━━━━━━━━\u001b[0m\u001b[37m\u001b[0m \u001b[1m0s\u001b[0m 1ms/step - accuracy: 0.8637 - loss: 0.3173 \n",
      "Epoch 132/250\n",
      "\u001b[1m46/46\u001b[0m \u001b[32m━━━━━━━━━━━━━━━━━━━━\u001b[0m\u001b[37m\u001b[0m \u001b[1m0s\u001b[0m 1ms/step - accuracy: 0.8747 - loss: 0.3037 \n",
      "Epoch 133/250\n",
      "\u001b[1m46/46\u001b[0m \u001b[32m━━━━━━━━━━━━━━━━━━━━\u001b[0m\u001b[37m\u001b[0m \u001b[1m0s\u001b[0m 1ms/step - accuracy: 0.8659 - loss: 0.3127 \n",
      "Epoch 134/250\n",
      "\u001b[1m46/46\u001b[0m \u001b[32m━━━━━━━━━━━━━━━━━━━━\u001b[0m\u001b[37m\u001b[0m \u001b[1m0s\u001b[0m 1ms/step - accuracy: 0.8637 - loss: 0.3242 \n",
      "Epoch 135/250\n",
      "\u001b[1m46/46\u001b[0m \u001b[32m━━━━━━━━━━━━━━━━━━━━\u001b[0m\u001b[37m\u001b[0m \u001b[1m0s\u001b[0m 1ms/step - accuracy: 0.8593 - loss: 0.3139 \n",
      "Epoch 136/250\n",
      "\u001b[1m46/46\u001b[0m \u001b[32m━━━━━━━━━━━━━━━━━━━━\u001b[0m\u001b[37m\u001b[0m \u001b[1m0s\u001b[0m 1ms/step - accuracy: 0.8637 - loss: 0.3202\n",
      "Epoch 137/250\n",
      "\u001b[1m46/46\u001b[0m \u001b[32m━━━━━━━━━━━━━━━━━━━━\u001b[0m\u001b[37m\u001b[0m \u001b[1m0s\u001b[0m 1ms/step - accuracy: 0.8725 - loss: 0.3074\n",
      "Epoch 138/250\n",
      "\u001b[1m46/46\u001b[0m \u001b[32m━━━━━━━━━━━━━━━━━━━━\u001b[0m\u001b[37m\u001b[0m \u001b[1m0s\u001b[0m 1ms/step - accuracy: 0.8725 - loss: 0.3144 \n",
      "Epoch 139/250\n",
      "\u001b[1m46/46\u001b[0m \u001b[32m━━━━━━━━━━━━━━━━━━━━\u001b[0m\u001b[37m\u001b[0m \u001b[1m0s\u001b[0m 1ms/step - accuracy: 0.8659 - loss: 0.3097 \n",
      "Epoch 140/250\n",
      "\u001b[1m46/46\u001b[0m \u001b[32m━━━━━━━━━━━━━━━━━━━━\u001b[0m\u001b[37m\u001b[0m \u001b[1m0s\u001b[0m 1ms/step - accuracy: 0.8703 - loss: 0.3078 \n",
      "Epoch 141/250\n",
      "\u001b[1m46/46\u001b[0m \u001b[32m━━━━━━━━━━━━━━━━━━━━\u001b[0m\u001b[37m\u001b[0m \u001b[1m0s\u001b[0m 1ms/step - accuracy: 0.8769 - loss: 0.3092 \n",
      "Epoch 142/250\n",
      "\u001b[1m46/46\u001b[0m \u001b[32m━━━━━━━━━━━━━━━━━━━━\u001b[0m\u001b[37m\u001b[0m \u001b[1m0s\u001b[0m 1ms/step - accuracy: 0.8659 - loss: 0.3059 \n",
      "Epoch 143/250\n",
      "\u001b[1m46/46\u001b[0m \u001b[32m━━━━━━━━━━━━━━━━━━━━\u001b[0m\u001b[37m\u001b[0m \u001b[1m0s\u001b[0m 1ms/step - accuracy: 0.8681 - loss: 0.3169\n",
      "Epoch 144/250\n",
      "\u001b[1m46/46\u001b[0m \u001b[32m━━━━━━━━━━━━━━━━━━━━\u001b[0m\u001b[37m\u001b[0m \u001b[1m0s\u001b[0m 1ms/step - accuracy: 0.8747 - loss: 0.3111 \n",
      "Epoch 145/250\n",
      "\u001b[1m46/46\u001b[0m \u001b[32m━━━━━━━━━━━━━━━━━━━━\u001b[0m\u001b[37m\u001b[0m \u001b[1m0s\u001b[0m 1ms/step - accuracy: 0.8813 - loss: 0.3071 \n",
      "Epoch 146/250\n",
      "\u001b[1m46/46\u001b[0m \u001b[32m━━━━━━━━━━━━━━━━━━━━\u001b[0m\u001b[37m\u001b[0m \u001b[1m0s\u001b[0m 1ms/step - accuracy: 0.8725 - loss: 0.3027 \n",
      "Epoch 147/250\n",
      "\u001b[1m46/46\u001b[0m \u001b[32m━━━━━━━━━━━━━━━━━━━━\u001b[0m\u001b[37m\u001b[0m \u001b[1m0s\u001b[0m 1ms/step - accuracy: 0.8637 - loss: 0.3138 \n",
      "Epoch 148/250\n",
      "\u001b[1m46/46\u001b[0m \u001b[32m━━━━━━━━━━━━━━━━━━━━\u001b[0m\u001b[37m\u001b[0m \u001b[1m0s\u001b[0m 2ms/step - accuracy: 0.8681 - loss: 0.3095\n",
      "Epoch 149/250\n",
      "\u001b[1m46/46\u001b[0m \u001b[32m━━━━━━━━━━━━━━━━━━━━\u001b[0m\u001b[37m\u001b[0m \u001b[1m0s\u001b[0m 2ms/step - accuracy: 0.8659 - loss: 0.3123\n",
      "Epoch 150/250\n",
      "\u001b[1m46/46\u001b[0m \u001b[32m━━━━━━━━━━━━━━━━━━━━\u001b[0m\u001b[37m\u001b[0m \u001b[1m0s\u001b[0m 1ms/step - accuracy: 0.8659 - loss: 0.3120\n",
      "Epoch 151/250\n",
      "\u001b[1m46/46\u001b[0m \u001b[32m━━━━━━━━━━━━━━━━━━━━\u001b[0m\u001b[37m\u001b[0m \u001b[1m0s\u001b[0m 1ms/step - accuracy: 0.8725 - loss: 0.3091 \n",
      "Epoch 152/250\n",
      "\u001b[1m46/46\u001b[0m \u001b[32m━━━━━━━━━━━━━━━━━━━━\u001b[0m\u001b[37m\u001b[0m \u001b[1m0s\u001b[0m 1ms/step - accuracy: 0.8703 - loss: 0.3139 \n",
      "Epoch 153/250\n",
      "\u001b[1m46/46\u001b[0m \u001b[32m━━━━━━━━━━━━━━━━━━━━\u001b[0m\u001b[37m\u001b[0m \u001b[1m0s\u001b[0m 1ms/step - accuracy: 0.8791 - loss: 0.3056 \n",
      "Epoch 154/250\n",
      "\u001b[1m46/46\u001b[0m \u001b[32m━━━━━━━━━━━━━━━━━━━━\u001b[0m\u001b[37m\u001b[0m \u001b[1m0s\u001b[0m 1ms/step - accuracy: 0.8703 - loss: 0.3060 \n",
      "Epoch 155/250\n",
      "\u001b[1m46/46\u001b[0m \u001b[32m━━━━━━━━━━━━━━━━━━━━\u001b[0m\u001b[37m\u001b[0m \u001b[1m0s\u001b[0m 1ms/step - accuracy: 0.8813 - loss: 0.3091\n",
      "Epoch 156/250\n",
      "\u001b[1m46/46\u001b[0m \u001b[32m━━━━━━━━━━━━━━━━━━━━\u001b[0m\u001b[37m\u001b[0m \u001b[1m0s\u001b[0m 1ms/step - accuracy: 0.8791 - loss: 0.3131 \n",
      "Epoch 157/250\n",
      "\u001b[1m46/46\u001b[0m \u001b[32m━━━━━━━━━━━━━━━━━━━━\u001b[0m\u001b[37m\u001b[0m \u001b[1m0s\u001b[0m 1ms/step - accuracy: 0.8615 - loss: 0.3089 \n",
      "Epoch 158/250\n",
      "\u001b[1m46/46\u001b[0m \u001b[32m━━━━━━━━━━━━━━━━━━━━\u001b[0m\u001b[37m\u001b[0m \u001b[1m0s\u001b[0m 1ms/step - accuracy: 0.8615 - loss: 0.3294\n",
      "Epoch 159/250\n",
      "\u001b[1m46/46\u001b[0m \u001b[32m━━━━━━━━━━━━━━━━━━━━\u001b[0m\u001b[37m\u001b[0m \u001b[1m0s\u001b[0m 1ms/step - accuracy: 0.8791 - loss: 0.3061\n",
      "Epoch 160/250\n",
      "\u001b[1m46/46\u001b[0m \u001b[32m━━━━━━━━━━━━━━━━━━━━\u001b[0m\u001b[37m\u001b[0m \u001b[1m0s\u001b[0m 1ms/step - accuracy: 0.8835 - loss: 0.3074\n",
      "Epoch 161/250\n",
      "\u001b[1m46/46\u001b[0m \u001b[32m━━━━━━━━━━━━━━━━━━━━\u001b[0m\u001b[37m\u001b[0m \u001b[1m0s\u001b[0m 1ms/step - accuracy: 0.8747 - loss: 0.3044\n",
      "Epoch 162/250\n",
      "\u001b[1m46/46\u001b[0m \u001b[32m━━━━━━━━━━━━━━━━━━━━\u001b[0m\u001b[37m\u001b[0m \u001b[1m0s\u001b[0m 1ms/step - accuracy: 0.8813 - loss: 0.3081\n",
      "Epoch 163/250\n",
      "\u001b[1m46/46\u001b[0m \u001b[32m━━━━━━━━━━━━━━━━━━━━\u001b[0m\u001b[37m\u001b[0m \u001b[1m0s\u001b[0m 2ms/step - accuracy: 0.8725 - loss: 0.3164\n",
      "Epoch 164/250\n",
      "\u001b[1m46/46\u001b[0m \u001b[32m━━━━━━━━━━━━━━━━━━━━\u001b[0m\u001b[37m\u001b[0m \u001b[1m0s\u001b[0m 1ms/step - accuracy: 0.8747 - loss: 0.3157\n",
      "Epoch 165/250\n",
      "\u001b[1m46/46\u001b[0m \u001b[32m━━━━━━━━━━━━━━━━━━━━\u001b[0m\u001b[37m\u001b[0m \u001b[1m0s\u001b[0m 1ms/step - accuracy: 0.8527 - loss: 0.3253\n",
      "Epoch 166/250\n",
      "\u001b[1m46/46\u001b[0m \u001b[32m━━━━━━━━━━━━━━━━━━━━\u001b[0m\u001b[37m\u001b[0m \u001b[1m0s\u001b[0m 2ms/step - accuracy: 0.8681 - loss: 0.3021\n",
      "Epoch 167/250\n",
      "\u001b[1m46/46\u001b[0m \u001b[32m━━━━━━━━━━━━━━━━━━━━\u001b[0m\u001b[37m\u001b[0m \u001b[1m0s\u001b[0m 1ms/step - accuracy: 0.8703 - loss: 0.3166 \n",
      "Epoch 168/250\n",
      "\u001b[1m46/46\u001b[0m \u001b[32m━━━━━━━━━━━━━━━━━━━━\u001b[0m\u001b[37m\u001b[0m \u001b[1m0s\u001b[0m 1ms/step - accuracy: 0.8703 - loss: 0.3130 \n",
      "Epoch 169/250\n",
      "\u001b[1m46/46\u001b[0m \u001b[32m━━━━━━━━━━━━━━━━━━━━\u001b[0m\u001b[37m\u001b[0m \u001b[1m0s\u001b[0m 1ms/step - accuracy: 0.8549 - loss: 0.3146 \n",
      "Epoch 170/250\n",
      "\u001b[1m46/46\u001b[0m \u001b[32m━━━━━━━━━━━━━━━━━━━━\u001b[0m\u001b[37m\u001b[0m \u001b[1m0s\u001b[0m 1ms/step - accuracy: 0.8549 - loss: 0.3177 \n",
      "Epoch 171/250\n",
      "\u001b[1m46/46\u001b[0m \u001b[32m━━━━━━━━━━━━━━━━━━━━\u001b[0m\u001b[37m\u001b[0m \u001b[1m0s\u001b[0m 2ms/step - accuracy: 0.8681 - loss: 0.3046\n",
      "Epoch 172/250\n",
      "\u001b[1m46/46\u001b[0m \u001b[32m━━━━━━━━━━━━━━━━━━━━\u001b[0m\u001b[37m\u001b[0m \u001b[1m0s\u001b[0m 1ms/step - accuracy: 0.8659 - loss: 0.3117\n",
      "Epoch 173/250\n",
      "\u001b[1m46/46\u001b[0m \u001b[32m━━━━━━━━━━━━━━━━━━━━\u001b[0m\u001b[37m\u001b[0m \u001b[1m0s\u001b[0m 1ms/step - accuracy: 0.8769 - loss: 0.3086 \n",
      "Epoch 174/250\n",
      "\u001b[1m46/46\u001b[0m \u001b[32m━━━━━━━━━━━━━━━━━━━━\u001b[0m\u001b[37m\u001b[0m \u001b[1m0s\u001b[0m 1ms/step - accuracy: 0.8747 - loss: 0.3031 \n",
      "Epoch 175/250\n",
      "\u001b[1m46/46\u001b[0m \u001b[32m━━━━━━━━━━━━━━━━━━━━\u001b[0m\u001b[37m\u001b[0m \u001b[1m0s\u001b[0m 1ms/step - accuracy: 0.8703 - loss: 0.3038\n",
      "Epoch 176/250\n",
      "\u001b[1m46/46\u001b[0m \u001b[32m━━━━━━━━━━━━━━━━━━━━\u001b[0m\u001b[37m\u001b[0m \u001b[1m0s\u001b[0m 1ms/step - accuracy: 0.8703 - loss: 0.3011 \n",
      "Epoch 177/250\n",
      "\u001b[1m46/46\u001b[0m \u001b[32m━━━━━━━━━━━━━━━━━━━━\u001b[0m\u001b[37m\u001b[0m \u001b[1m0s\u001b[0m 1ms/step - accuracy: 0.8681 - loss: 0.3097 \n",
      "Epoch 178/250\n",
      "\u001b[1m46/46\u001b[0m \u001b[32m━━━━━━━━━━━━━━━━━━━━\u001b[0m\u001b[37m\u001b[0m \u001b[1m0s\u001b[0m 1ms/step - accuracy: 0.8681 - loss: 0.3158 \n",
      "Epoch 179/250\n",
      "\u001b[1m46/46\u001b[0m \u001b[32m━━━━━━━━━━━━━━━━━━━━\u001b[0m\u001b[37m\u001b[0m \u001b[1m0s\u001b[0m 2ms/step - accuracy: 0.8615 - loss: 0.3109\n",
      "Epoch 180/250\n",
      "\u001b[1m46/46\u001b[0m \u001b[32m━━━━━━━━━━━━━━━━━━━━\u001b[0m\u001b[37m\u001b[0m \u001b[1m0s\u001b[0m 1ms/step - accuracy: 0.8923 - loss: 0.3002 \n",
      "Epoch 181/250\n",
      "\u001b[1m46/46\u001b[0m \u001b[32m━━━━━━━━━━━━━━━━━━━━\u001b[0m\u001b[37m\u001b[0m \u001b[1m0s\u001b[0m 1ms/step - accuracy: 0.8725 - loss: 0.3066 \n",
      "Epoch 182/250\n",
      "\u001b[1m46/46\u001b[0m \u001b[32m━━━━━━━━━━━━━━━━━━━━\u001b[0m\u001b[37m\u001b[0m \u001b[1m0s\u001b[0m 1ms/step - accuracy: 0.8681 - loss: 0.3186\n",
      "Epoch 183/250\n",
      "\u001b[1m46/46\u001b[0m \u001b[32m━━━━━━━━━━━━━━━━━━━━\u001b[0m\u001b[37m\u001b[0m \u001b[1m0s\u001b[0m 1ms/step - accuracy: 0.8703 - loss: 0.3057 \n",
      "Epoch 184/250\n",
      "\u001b[1m46/46\u001b[0m \u001b[32m━━━━━━━━━━━━━━━━━━━━\u001b[0m\u001b[37m\u001b[0m \u001b[1m0s\u001b[0m 1ms/step - accuracy: 0.8703 - loss: 0.3031 \n",
      "Epoch 185/250\n",
      "\u001b[1m46/46\u001b[0m \u001b[32m━━━━━━━━━━━━━━━━━━━━\u001b[0m\u001b[37m\u001b[0m \u001b[1m0s\u001b[0m 2ms/step - accuracy: 0.8637 - loss: 0.3076\n",
      "Epoch 186/250\n",
      "\u001b[1m46/46\u001b[0m \u001b[32m━━━━━━━━━━━━━━━━━━━━\u001b[0m\u001b[37m\u001b[0m \u001b[1m0s\u001b[0m 1ms/step - accuracy: 0.8813 - loss: 0.3041 \n",
      "Epoch 187/250\n",
      "\u001b[1m46/46\u001b[0m \u001b[32m━━━━━━━━━━━━━━━━━━━━\u001b[0m\u001b[37m\u001b[0m \u001b[1m0s\u001b[0m 1ms/step - accuracy: 0.8615 - loss: 0.3300\n",
      "Epoch 188/250\n",
      "\u001b[1m46/46\u001b[0m \u001b[32m━━━━━━━━━━━━━━━━━━━━\u001b[0m\u001b[37m\u001b[0m \u001b[1m0s\u001b[0m 1ms/step - accuracy: 0.8835 - loss: 0.3006\n",
      "Epoch 189/250\n",
      "\u001b[1m46/46\u001b[0m \u001b[32m━━━━━━━━━━━━━━━━━━━━\u001b[0m\u001b[37m\u001b[0m \u001b[1m0s\u001b[0m 1ms/step - accuracy: 0.8791 - loss: 0.3041 \n",
      "Epoch 190/250\n",
      "\u001b[1m46/46\u001b[0m \u001b[32m━━━━━━━━━━━━━━━━━━━━\u001b[0m\u001b[37m\u001b[0m \u001b[1m0s\u001b[0m 1ms/step - accuracy: 0.8769 - loss: 0.3059 \n",
      "Epoch 191/250\n",
      "\u001b[1m46/46\u001b[0m \u001b[32m━━━━━━━━━━━━━━━━━━━━\u001b[0m\u001b[37m\u001b[0m \u001b[1m0s\u001b[0m 1ms/step - accuracy: 0.8615 - loss: 0.3244 \n",
      "Epoch 192/250\n",
      "\u001b[1m46/46\u001b[0m \u001b[32m━━━━━━━━━━━━━━━━━━━━\u001b[0m\u001b[37m\u001b[0m \u001b[1m0s\u001b[0m 1ms/step - accuracy: 0.8571 - loss: 0.3118 \n",
      "Epoch 193/250\n",
      "\u001b[1m46/46\u001b[0m \u001b[32m━━━━━━━━━━━━━━━━━━━━\u001b[0m\u001b[37m\u001b[0m \u001b[1m0s\u001b[0m 1ms/step - accuracy: 0.8549 - loss: 0.3286 \n",
      "Epoch 194/250\n",
      "\u001b[1m46/46\u001b[0m \u001b[32m━━━━━━━━━━━━━━━━━━━━\u001b[0m\u001b[37m\u001b[0m \u001b[1m0s\u001b[0m 2ms/step - accuracy: 0.8791 - loss: 0.3085\n",
      "Epoch 195/250\n",
      "\u001b[1m46/46\u001b[0m \u001b[32m━━━━━━━━━━━━━━━━━━━━\u001b[0m\u001b[37m\u001b[0m \u001b[1m0s\u001b[0m 2ms/step - accuracy: 0.8747 - loss: 0.3003\n",
      "Epoch 196/250\n",
      "\u001b[1m46/46\u001b[0m \u001b[32m━━━━━━━━━━━━━━━━━━━━\u001b[0m\u001b[37m\u001b[0m \u001b[1m0s\u001b[0m 1ms/step - accuracy: 0.8681 - loss: 0.3136 \n",
      "Epoch 197/250\n",
      "\u001b[1m46/46\u001b[0m \u001b[32m━━━━━━━━━━━━━━━━━━━━\u001b[0m\u001b[37m\u001b[0m \u001b[1m0s\u001b[0m 1ms/step - accuracy: 0.8857 - loss: 0.2978 \n",
      "Epoch 198/250\n",
      "\u001b[1m46/46\u001b[0m \u001b[32m━━━━━━━━━━━━━━━━━━━━\u001b[0m\u001b[37m\u001b[0m \u001b[1m0s\u001b[0m 1ms/step - accuracy: 0.8703 - loss: 0.3263 \n",
      "Epoch 199/250\n",
      "\u001b[1m46/46\u001b[0m \u001b[32m━━━━━━━━━━━━━━━━━━━━\u001b[0m\u001b[37m\u001b[0m \u001b[1m0s\u001b[0m 1ms/step - accuracy: 0.8791 - loss: 0.3011 \n",
      "Epoch 200/250\n",
      "\u001b[1m46/46\u001b[0m \u001b[32m━━━━━━━━━━━━━━━━━━━━\u001b[0m\u001b[37m\u001b[0m \u001b[1m0s\u001b[0m 1ms/step - accuracy: 0.8725 - loss: 0.3094 \n",
      "Epoch 201/250\n",
      "\u001b[1m46/46\u001b[0m \u001b[32m━━━━━━━━━━━━━━━━━━━━\u001b[0m\u001b[37m\u001b[0m \u001b[1m0s\u001b[0m 1ms/step - accuracy: 0.8703 - loss: 0.3030 \n",
      "Epoch 202/250\n",
      "\u001b[1m46/46\u001b[0m \u001b[32m━━━━━━━━━━━━━━━━━━━━\u001b[0m\u001b[37m\u001b[0m \u001b[1m0s\u001b[0m 1ms/step - accuracy: 0.8681 - loss: 0.3026 \n",
      "Epoch 203/250\n",
      "\u001b[1m46/46\u001b[0m \u001b[32m━━━━━━━━━━━━━━━━━━━━\u001b[0m\u001b[37m\u001b[0m \u001b[1m0s\u001b[0m 1ms/step - accuracy: 0.8769 - loss: 0.3093\n",
      "Epoch 204/250\n",
      "\u001b[1m46/46\u001b[0m \u001b[32m━━━━━━━━━━━━━━━━━━━━\u001b[0m\u001b[37m\u001b[0m \u001b[1m0s\u001b[0m 2ms/step - accuracy: 0.8593 - loss: 0.3096\n",
      "Epoch 205/250\n",
      "\u001b[1m46/46\u001b[0m \u001b[32m━━━━━━━━━━━━━━━━━━━━\u001b[0m\u001b[37m\u001b[0m \u001b[1m0s\u001b[0m 1ms/step - accuracy: 0.8791 - loss: 0.3092 \n",
      "Epoch 206/250\n",
      "\u001b[1m46/46\u001b[0m \u001b[32m━━━━━━━━━━━━━━━━━━━━\u001b[0m\u001b[37m\u001b[0m \u001b[1m0s\u001b[0m 1ms/step - accuracy: 0.8681 - loss: 0.3007\n",
      "Epoch 207/250\n",
      "\u001b[1m46/46\u001b[0m \u001b[32m━━━━━━━━━━━━━━━━━━━━\u001b[0m\u001b[37m\u001b[0m \u001b[1m0s\u001b[0m 1ms/step - accuracy: 0.8747 - loss: 0.3048 \n",
      "Epoch 208/250\n",
      "\u001b[1m46/46\u001b[0m \u001b[32m━━━━━━━━━━━━━━━━━━━━\u001b[0m\u001b[37m\u001b[0m \u001b[1m0s\u001b[0m 1ms/step - accuracy: 0.8725 - loss: 0.3057\n",
      "Epoch 209/250\n",
      "\u001b[1m46/46\u001b[0m \u001b[32m━━━━━━━━━━━━━━━━━━━━\u001b[0m\u001b[37m\u001b[0m \u001b[1m0s\u001b[0m 1ms/step - accuracy: 0.8747 - loss: 0.3055 \n",
      "Epoch 210/250\n",
      "\u001b[1m46/46\u001b[0m \u001b[32m━━━━━━━━━━━━━━━━━━━━\u001b[0m\u001b[37m\u001b[0m \u001b[1m0s\u001b[0m 1ms/step - accuracy: 0.8703 - loss: 0.3008\n",
      "Epoch 211/250\n",
      "\u001b[1m46/46\u001b[0m \u001b[32m━━━━━━━━━━━━━━━━━━━━\u001b[0m\u001b[37m\u001b[0m \u001b[1m0s\u001b[0m 1ms/step - accuracy: 0.8791 - loss: 0.3062\n",
      "Epoch 212/250\n",
      "\u001b[1m46/46\u001b[0m \u001b[32m━━━━━━━━━━━━━━━━━━━━\u001b[0m\u001b[37m\u001b[0m \u001b[1m0s\u001b[0m 2ms/step - accuracy: 0.8593 - loss: 0.3134\n",
      "Epoch 213/250\n",
      "\u001b[1m46/46\u001b[0m \u001b[32m━━━━━━━━━━━━━━━━━━━━\u001b[0m\u001b[37m\u001b[0m \u001b[1m0s\u001b[0m 1ms/step - accuracy: 0.8703 - loss: 0.3182 \n",
      "Epoch 214/250\n",
      "\u001b[1m46/46\u001b[0m \u001b[32m━━━━━━━━━━━━━━━━━━━━\u001b[0m\u001b[37m\u001b[0m \u001b[1m0s\u001b[0m 1ms/step - accuracy: 0.8571 - loss: 0.3221\n",
      "Epoch 215/250\n",
      "\u001b[1m46/46\u001b[0m \u001b[32m━━━━━━━━━━━━━━━━━━━━\u001b[0m\u001b[37m\u001b[0m \u001b[1m0s\u001b[0m 2ms/step - accuracy: 0.8725 - loss: 0.3071\n",
      "Epoch 216/250\n",
      "\u001b[1m46/46\u001b[0m \u001b[32m━━━━━━━━━━━━━━━━━━━━\u001b[0m\u001b[37m\u001b[0m \u001b[1m0s\u001b[0m 1ms/step - accuracy: 0.8637 - loss: 0.3121\n",
      "Epoch 217/250\n",
      "\u001b[1m46/46\u001b[0m \u001b[32m━━━━━━━━━━━━━━━━━━━━\u001b[0m\u001b[37m\u001b[0m \u001b[1m0s\u001b[0m 1ms/step - accuracy: 0.8637 - loss: 0.3096 \n",
      "Epoch 218/250\n",
      "\u001b[1m46/46\u001b[0m \u001b[32m━━━━━━━━━━━━━━━━━━━━\u001b[0m\u001b[37m\u001b[0m \u001b[1m0s\u001b[0m 1ms/step - accuracy: 0.8725 - loss: 0.3020 \n",
      "Epoch 219/250\n",
      "\u001b[1m46/46\u001b[0m \u001b[32m━━━━━━━━━━━━━━━━━━━━\u001b[0m\u001b[37m\u001b[0m \u001b[1m0s\u001b[0m 1ms/step - accuracy: 0.8769 - loss: 0.2977 \n",
      "Epoch 220/250\n",
      "\u001b[1m46/46\u001b[0m \u001b[32m━━━━━━━━━━━━━━━━━━━━\u001b[0m\u001b[37m\u001b[0m \u001b[1m0s\u001b[0m 1ms/step - accuracy: 0.8637 - loss: 0.3331 \n",
      "Epoch 221/250\n",
      "\u001b[1m46/46\u001b[0m \u001b[32m━━━━━━━━━━━━━━━━━━━━\u001b[0m\u001b[37m\u001b[0m \u001b[1m0s\u001b[0m 1ms/step - accuracy: 0.8659 - loss: 0.3103\n",
      "Epoch 222/250\n",
      "\u001b[1m46/46\u001b[0m \u001b[32m━━━━━━━━━━━━━━━━━━━━\u001b[0m\u001b[37m\u001b[0m \u001b[1m0s\u001b[0m 2ms/step - accuracy: 0.8769 - loss: 0.2991\n",
      "Epoch 223/250\n",
      "\u001b[1m46/46\u001b[0m \u001b[32m━━━━━━━━━━━━━━━━━━━━\u001b[0m\u001b[37m\u001b[0m \u001b[1m0s\u001b[0m 1ms/step - accuracy: 0.8659 - loss: 0.3010 \n",
      "Epoch 224/250\n",
      "\u001b[1m46/46\u001b[0m \u001b[32m━━━━━━━━━━━━━━━━━━━━\u001b[0m\u001b[37m\u001b[0m \u001b[1m0s\u001b[0m 1ms/step - accuracy: 0.8703 - loss: 0.3033 \n",
      "Epoch 225/250\n",
      "\u001b[1m46/46\u001b[0m \u001b[32m━━━━━━━━━━━━━━━━━━━━\u001b[0m\u001b[37m\u001b[0m \u001b[1m0s\u001b[0m 2ms/step - accuracy: 0.8769 - loss: 0.2984\n",
      "Epoch 226/250\n",
      "\u001b[1m46/46\u001b[0m \u001b[32m━━━━━━━━━━━━━━━━━━━━\u001b[0m\u001b[37m\u001b[0m \u001b[1m0s\u001b[0m 1ms/step - accuracy: 0.8725 - loss: 0.3039 \n",
      "Epoch 227/250\n",
      "\u001b[1m46/46\u001b[0m \u001b[32m━━━━━━━━━━━━━━━━━━━━\u001b[0m\u001b[37m\u001b[0m \u001b[1m0s\u001b[0m 1ms/step - accuracy: 0.8725 - loss: 0.3146 \n",
      "Epoch 228/250\n",
      "\u001b[1m46/46\u001b[0m \u001b[32m━━━━━━━━━━━━━━━━━━━━\u001b[0m\u001b[37m\u001b[0m \u001b[1m0s\u001b[0m 2ms/step - accuracy: 0.8703 - loss: 0.3125\n",
      "Epoch 229/250\n",
      "\u001b[1m46/46\u001b[0m \u001b[32m━━━━━━━━━━━━━━━━━━━━\u001b[0m\u001b[37m\u001b[0m \u001b[1m0s\u001b[0m 1ms/step - accuracy: 0.8681 - loss: 0.3134 \n",
      "Epoch 230/250\n",
      "\u001b[1m46/46\u001b[0m \u001b[32m━━━━━━━━━━━━━━━━━━━━\u001b[0m\u001b[37m\u001b[0m \u001b[1m0s\u001b[0m 2ms/step - accuracy: 0.8681 - loss: 0.3046\n",
      "Epoch 231/250\n",
      "\u001b[1m46/46\u001b[0m \u001b[32m━━━━━━━━━━━━━━━━━━━━\u001b[0m\u001b[37m\u001b[0m \u001b[1m0s\u001b[0m 1ms/step - accuracy: 0.8747 - loss: 0.3177 \n",
      "Epoch 232/250\n",
      "\u001b[1m46/46\u001b[0m \u001b[32m━━━━━━━━━━━━━━━━━━━━\u001b[0m\u001b[37m\u001b[0m \u001b[1m0s\u001b[0m 1ms/step - accuracy: 0.8747 - loss: 0.3058\n",
      "Epoch 233/250\n",
      "\u001b[1m46/46\u001b[0m \u001b[32m━━━━━━━━━━━━━━━━━━━━\u001b[0m\u001b[37m\u001b[0m \u001b[1m0s\u001b[0m 1ms/step - accuracy: 0.8637 - loss: 0.3138 \n",
      "Epoch 234/250\n",
      "\u001b[1m46/46\u001b[0m \u001b[32m━━━━━━━━━━━━━━━━━━━━\u001b[0m\u001b[37m\u001b[0m \u001b[1m0s\u001b[0m 2ms/step - accuracy: 0.8703 - loss: 0.3058\n",
      "Epoch 235/250\n",
      "\u001b[1m46/46\u001b[0m \u001b[32m━━━━━━━━━━━━━━━━━━━━\u001b[0m\u001b[37m\u001b[0m \u001b[1m0s\u001b[0m 1ms/step - accuracy: 0.8681 - loss: 0.3162\n",
      "Epoch 236/250\n",
      "\u001b[1m46/46\u001b[0m \u001b[32m━━━━━━━━━━━━━━━━━━━━\u001b[0m\u001b[37m\u001b[0m \u001b[1m0s\u001b[0m 1ms/step - accuracy: 0.8747 - loss: 0.3144\n",
      "Epoch 237/250\n",
      "\u001b[1m46/46\u001b[0m \u001b[32m━━━━━━━━━━━━━━━━━━━━\u001b[0m\u001b[37m\u001b[0m \u001b[1m0s\u001b[0m 1ms/step - accuracy: 0.8791 - loss: 0.3028\n",
      "Epoch 238/250\n",
      "\u001b[1m46/46\u001b[0m \u001b[32m━━━━━━━━━━━━━━━━━━━━\u001b[0m\u001b[37m\u001b[0m \u001b[1m0s\u001b[0m 1ms/step - accuracy: 0.8769 - loss: 0.3011\n",
      "Epoch 239/250\n",
      "\u001b[1m46/46\u001b[0m \u001b[32m━━━━━━━━━━━━━━━━━━━━\u001b[0m\u001b[37m\u001b[0m \u001b[1m0s\u001b[0m 2ms/step - accuracy: 0.8747 - loss: 0.3071\n",
      "Epoch 240/250\n",
      "\u001b[1m46/46\u001b[0m \u001b[32m━━━━━━━━━━━━━━━━━━━━\u001b[0m\u001b[37m\u001b[0m \u001b[1m0s\u001b[0m 1ms/step - accuracy: 0.8791 - loss: 0.3047\n",
      "Epoch 241/250\n",
      "\u001b[1m46/46\u001b[0m \u001b[32m━━━━━━━━━━━━━━━━━━━━\u001b[0m\u001b[37m\u001b[0m \u001b[1m0s\u001b[0m 2ms/step - accuracy: 0.8769 - loss: 0.3004\n",
      "Epoch 242/250\n",
      "\u001b[1m46/46\u001b[0m \u001b[32m━━━━━━━━━━━━━━━━━━━━\u001b[0m\u001b[37m\u001b[0m \u001b[1m0s\u001b[0m 1ms/step - accuracy: 0.8725 - loss: 0.3008 \n",
      "Epoch 243/250\n",
      "\u001b[1m46/46\u001b[0m \u001b[32m━━━━━━━━━━━━━━━━━━━━\u001b[0m\u001b[37m\u001b[0m \u001b[1m0s\u001b[0m 1ms/step - accuracy: 0.8637 - loss: 0.3191 \n",
      "Epoch 244/250\n",
      "\u001b[1m46/46\u001b[0m \u001b[32m━━━━━━━━━━━━━━━━━━━━\u001b[0m\u001b[37m\u001b[0m \u001b[1m0s\u001b[0m 1ms/step - accuracy: 0.8593 - loss: 0.3079 \n",
      "Epoch 245/250\n",
      "\u001b[1m46/46\u001b[0m \u001b[32m━━━━━━━━━━━━━━━━━━━━\u001b[0m\u001b[37m\u001b[0m \u001b[1m0s\u001b[0m 1ms/step - accuracy: 0.8725 - loss: 0.3052\n",
      "Epoch 246/250\n",
      "\u001b[1m46/46\u001b[0m \u001b[32m━━━━━━━━━━━━━━━━━━━━\u001b[0m\u001b[37m\u001b[0m \u001b[1m0s\u001b[0m 1ms/step - accuracy: 0.8791 - loss: 0.3109 \n",
      "Epoch 247/250\n",
      "\u001b[1m46/46\u001b[0m \u001b[32m━━━━━━━━━━━━━━━━━━━━\u001b[0m\u001b[37m\u001b[0m \u001b[1m0s\u001b[0m 1ms/step - accuracy: 0.8659 - loss: 0.3084\n",
      "Epoch 248/250\n",
      "\u001b[1m46/46\u001b[0m \u001b[32m━━━━━━━━━━━━━━━━━━━━\u001b[0m\u001b[37m\u001b[0m \u001b[1m0s\u001b[0m 1ms/step - accuracy: 0.8615 - loss: 0.3065\n",
      "Epoch 249/250\n",
      "\u001b[1m46/46\u001b[0m \u001b[32m━━━━━━━━━━━━━━━━━━━━\u001b[0m\u001b[37m\u001b[0m \u001b[1m0s\u001b[0m 1ms/step - accuracy: 0.8681 - loss: 0.3088 \n",
      "Epoch 250/250\n",
      "\u001b[1m46/46\u001b[0m \u001b[32m━━━━━━━━━━━━━━━━━━━━\u001b[0m\u001b[37m\u001b[0m \u001b[1m0s\u001b[0m 1ms/step - accuracy: 0.8703 - loss: 0.3014\n"
     ]
    },
    {
     "data": {
      "text/plain": [
       "<keras.src.callbacks.history.History at 0x1647638a2d0>"
      ]
     },
     "execution_count": 66,
     "metadata": {},
     "output_type": "execute_result"
    }
   ],
   "source": [
    "# Entrenar el modelo\n",
    "model.fit(X_train, y_train, epochs=250, batch_size=10)"
   ]
  },
  {
   "cell_type": "markdown",
   "metadata": {},
   "source": [
    "## **[26]** Calcule el *score* de su modelo"
   ]
  },
  {
   "cell_type": "code",
   "execution_count": 69,
   "metadata": {
    "tags": []
   },
   "outputs": [
    {
     "name": "stdout",
     "output_type": "stream",
     "text": [
      "\u001b[1m4/4\u001b[0m \u001b[32m━━━━━━━━━━━━━━━━━━━━\u001b[0m\u001b[37m\u001b[0m \u001b[1m0s\u001b[0m 8ms/step - accuracy: 0.9035 - loss: 0.2303  \n",
      "compile_metrics: 90.35%\n"
     ]
    }
   ],
   "source": [
    "scores = model.evaluate(X_test, y_test)\n",
    "print(\"%s: %.2f%%\" % (model.metrics_names[1], scores[1]*100))"
   ]
  },
  {
   "cell_type": "markdown",
   "metadata": {},
   "source": [
    "## **[27]** Realice las predicciones con su modelo utilizando la secuencia de test "
   ]
  },
  {
   "cell_type": "code",
   "execution_count": 71,
   "metadata": {
    "tags": []
   },
   "outputs": [
    {
     "name": "stdout",
     "output_type": "stream",
     "text": [
      "\u001b[1m4/4\u001b[0m \u001b[32m━━━━━━━━━━━━━━━━━━━━\u001b[0m\u001b[37m\u001b[0m \u001b[1m0s\u001b[0m 12ms/step\n"
     ]
    }
   ],
   "source": [
    "prediccion = (model.predict(X_test) > 0.5).astype(\"int32\")"
   ]
  },
  {
   "cell_type": "markdown",
   "metadata": {},
   "source": [
    "## **[28]** Genere la matriz de confusión de los datos de test \n",
    "**Obs.** En este caso para generar la matriz de confusión debe utilizar el método *from_predictions()*, utilizando la lista de predicciones y el valor real de cada instancia. "
   ]
  },
  {
   "cell_type": "code",
   "execution_count": 72,
   "metadata": {
    "tags": []
   },
   "outputs": [
    {
     "data": {
      "image/png": "[encoded data removed]",
      "text/plain": [
       "<Figure size 640x480 with 2 Axes>"
      ]
     },
     "metadata": {},
     "output_type": "display_data"
    }
   ],
   "source": [
    "from sklearn.metrics import ConfusionMatrixDisplay\n",
    "import matplotlib.pyplot as plt\n",
    "\n",
    "# Generar matriz de confusión con las variables CORRECTAS\n",
    "categorias = ['Negativo', 'Positivo']  # 0 = Negativo, 1 = Positivo\n",
    "\n",
    "fig = ConfusionMatrixDisplay.from_predictions(\n",
    "    y_test,                # Valores REALES del test set\n",
    "    prediccion.flatten(),  # Predicciones (aplanar el array 2D a 1D)\n",
    "    display_labels=categorias, \n",
    "    cmap=\"Greens\", \n",
    "    normalize='true'\n",
    ")  \n",
    "\n",
    "fig.figure_.suptitle(\"Matriz de Confusión - Dataset Cáncer de Mama\")\n",
    "plt.show()"
   ]
  },
  {
   "cell_type": "markdown",
   "metadata": {},
   "source": [
    "# Clasificación Multiclase\n",
    "<div class=\"alert alert-info\", role=\"success\">\n",
    "    <h1 style=\"font-size: 2em;\">Entrene un clasificador de la isla de los pinguinos usando todas las columnas del dataset a excepción del año. Use un MLP de TensorFlow </h1>\n",
    "</div>"
   ]
  },
  {
   "cell_type": "markdown",
   "metadata": {},
   "source": [
    "## **[29]** Cargue el dataset y elimine los NaNs de ser necesario"
   ]
  },
  {
   "cell_type": "code",
   "execution_count": 73,
   "metadata": {
    "tags": []
   },
   "outputs": [
    {
     "data": {
      "text/html": [
       "<div>\n",
       "<style scoped>\n",
       "    .dataframe tbody tr th:only-of-type {\n",
       "        vertical-align: middle;\n",
       "    }\n",
       "\n",
       "    .dataframe tbody tr th {\n",
       "        vertical-align: top;\n",
       "    }\n",
       "\n",
       "    .dataframe thead th {\n",
       "        text-align: right;\n",
       "    }\n",
       "</style>\n",
       "<table border=\"1\" class=\"dataframe\">\n",
       "  <thead>\n",
       "    <tr style=\"text-align: right;\">\n",
       "      <th></th>\n",
       "      <th>species</th>\n",
       "      <th>island</th>\n",
       "      <th>culmen_length_mm</th>\n",
       "      <th>culmen_depth_mm</th>\n",
       "      <th>flipper_length_mm</th>\n",
       "      <th>body_mass_g</th>\n",
       "      <th>sex</th>\n",
       "    </tr>\n",
       "  </thead>\n",
       "  <tbody>\n",
       "    <tr>\n",
       "      <th>0</th>\n",
       "      <td>Adelie</td>\n",
       "      <td>Torgersen</td>\n",
       "      <td>39.1</td>\n",
       "      <td>18.7</td>\n",
       "      <td>181.0</td>\n",
       "      <td>3750.0</td>\n",
       "      <td>MALE</td>\n",
       "    </tr>\n",
       "    <tr>\n",
       "      <th>1</th>\n",
       "      <td>Adelie</td>\n",
       "      <td>Torgersen</td>\n",
       "      <td>39.5</td>\n",
       "      <td>17.4</td>\n",
       "      <td>186.0</td>\n",
       "      <td>3800.0</td>\n",
       "      <td>FEMALE</td>\n",
       "    </tr>\n",
       "    <tr>\n",
       "      <th>2</th>\n",
       "      <td>Adelie</td>\n",
       "      <td>Torgersen</td>\n",
       "      <td>40.3</td>\n",
       "      <td>18.0</td>\n",
       "      <td>195.0</td>\n",
       "      <td>3250.0</td>\n",
       "      <td>FEMALE</td>\n",
       "    </tr>\n",
       "    <tr>\n",
       "      <th>3</th>\n",
       "      <td>Adelie</td>\n",
       "      <td>Torgersen</td>\n",
       "      <td>NaN</td>\n",
       "      <td>NaN</td>\n",
       "      <td>NaN</td>\n",
       "      <td>NaN</td>\n",
       "      <td>NaN</td>\n",
       "    </tr>\n",
       "    <tr>\n",
       "      <th>4</th>\n",
       "      <td>Adelie</td>\n",
       "      <td>Torgersen</td>\n",
       "      <td>36.7</td>\n",
       "      <td>19.3</td>\n",
       "      <td>193.0</td>\n",
       "      <td>3450.0</td>\n",
       "      <td>FEMALE</td>\n",
       "    </tr>\n",
       "  </tbody>\n",
       "</table>\n",
       "</div>"
      ],
      "text/plain": [
       "  species     island  culmen_length_mm  culmen_depth_mm  flipper_length_mm  \\\n",
       "0  Adelie  Torgersen              39.1             18.7              181.0   \n",
       "1  Adelie  Torgersen              39.5             17.4              186.0   \n",
       "2  Adelie  Torgersen              40.3             18.0              195.0   \n",
       "3  Adelie  Torgersen               NaN              NaN                NaN   \n",
       "4  Adelie  Torgersen              36.7             19.3              193.0   \n",
       "\n",
       "   body_mass_g     sex  \n",
       "0       3750.0    MALE  \n",
       "1       3800.0  FEMALE  \n",
       "2       3250.0  FEMALE  \n",
       "3          NaN     NaN  \n",
       "4       3450.0  FEMALE  "
      ]
     },
     "execution_count": 73,
     "metadata": {},
     "output_type": "execute_result"
    }
   ],
   "source": [
    "penguins_file = pd.read_csv('penguins_size.csv')\n",
    "penguins_file.head()"
   ]
  },
  {
   "cell_type": "code",
   "execution_count": 74,
   "metadata": {},
   "outputs": [
    {
     "name": "stdout",
     "output_type": "stream",
     "text": [
      "Filas originales: 344\n",
      "Filas después de eliminar nulos(NaN): 334\n"
     ]
    }
   ],
   "source": [
    "penguins_clean_df = penguins_file.dropna()\n",
    "print(f\"Filas originales: {len(penguins_file)}\")\n",
    "print(f\"Filas después de eliminar nulos(NaN): {len(penguins_clean_df)}\") "
   ]
  },
  {
   "cell_type": "code",
   "execution_count": 75,
   "metadata": {},
   "outputs": [
    {
     "name": "stdout",
     "output_type": "stream",
     "text": [
      "La columna 'YEAR' no existe en el dataset\n"
     ]
    }
   ],
   "source": [
    "# Verificar si existe la columna 'YEAR' y quitarla si existe\n",
    "if 'YEAR' in penguins_clean_df.columns:\n",
    "    penguins_clean_df = penguins_clean_df.drop('YEAR', axis=1)\n",
    "    print(\"Columna 'YEAR' eliminada\")\n",
    "else:\n",
    "    print(\"La columna 'YEAR' no existe en el dataset\")"
   ]
  },
  {
   "cell_type": "markdown",
   "metadata": {},
   "source": [
    "## **[30]** Genere el las secuencias X & Y para entrenar el modelo"
   ]
  },
  {
   "cell_type": "code",
   "execution_count": 76,
   "metadata": {},
   "outputs": [],
   "source": [
    "X = penguins_clean_df.drop('species', axis=1)\n",
    "y = penguins_clean_df['species']"
   ]
  },
  {
   "cell_type": "markdown",
   "metadata": {},
   "source": [
    "## **[31]** Aplique el LabelEncoder"
   ]
  },
  {
   "cell_type": "code",
   "execution_count": 81,
   "metadata": {
    "tags": []
   },
   "outputs": [],
   "source": [
    "label_encoder = LabelEncoder()\n",
    "X['island'] = label_encoder.fit_transform(X['island'])\n",
    "X['sex'] = label_encoder.fit_transform(X['sex'])\n"
   ]
  },
  {
   "cell_type": "markdown",
   "metadata": {},
   "source": [
    "## **[32]** Aplicación de Escalado"
   ]
  },
  {
   "cell_type": "code",
   "execution_count": 82,
   "metadata": {
    "tags": []
   },
   "outputs": [],
   "source": [
    "scaler = StandardScaler()\n",
    "X_scaled = scaler.fit_transform(X)\n"
   ]
  },
  {
   "cell_type": "markdown",
   "metadata": {},
   "source": [
    "## **[33]** Aplique One Hot Encoding"
   ]
  },
  {
   "cell_type": "code",
   "execution_count": 90,
   "metadata": {
    "collapsed": true,
    "jupyter": {
     "outputs_hidden": true
    },
    "tags": []
   },
   "outputs": [
    {
     "name": "stdout",
     "output_type": "stream",
     "text": [
      "Ejemplo de categorías o etiquetas en formato OHE: \n",
      "[1. 0. 0.]\n"
     ]
    }
   ],
   "source": [
    "encoder = OneHotEncoder(sparse_output=False)\n",
    "y = encoder.fit_transform(y.values.reshape(-1, 1))\n",
    "print('Ejemplo de categorías o etiquetas en formato OHE: ')\n",
    "print(y[0])"
   ]
  },
  {
   "cell_type": "markdown",
   "metadata": {},
   "source": [
    "## **[34]** Divida el dataset en conjunto de Train y Test"
   ]
  },
  {
   "cell_type": "code",
   "execution_count": 91,
   "metadata": {},
   "outputs": [],
   "source": [
    "X_train, X_test, y_train, y_test = train_test_split(\n",
    "    X_scaled, y_encoded, \n",
    "    test_size=0.2, \n",
    "    random_state=42, \n",
    "    stratify=y_encoded\n",
    ")"
   ]
  },
  {
   "cell_type": "markdown",
   "metadata": {},
   "source": [
    "## **[35]** Defina el modelo de la Arquitectura de la red"
   ]
  },
  {
   "cell_type": "code",
   "execution_count": 92,
   "metadata": {
    "tags": []
   },
   "outputs": [],
   "source": [
    "model = Sequential()\n",
    "model.add(keras.Input(shape=(X_train.shape[1],)))  \n",
    "model.add(Dense(10, activation='relu', name='fc1'))\n",
    "model.add(Dense(10, activation='relu', name='fc2'))\n",
    "model.add(Dense(3, activation='softmax', name='output'))  # 3 neuronas para 3 especies"
   ]
  },
  {
   "cell_type": "markdown",
   "metadata": {},
   "source": [
    "## **[36]** Compile el modelo "
   ]
  },
  {
   "cell_type": "code",
   "execution_count": 94,
   "metadata": {
    "tags": []
   },
   "outputs": [
    {
     "name": "stdout",
     "output_type": "stream",
     "text": [
      "Resumen del modelo de Red Neuronal: \n"
     ]
    },
    {
     "data": {
      "text/html": [
       "<pre style=\"white-space:pre;overflow-x:auto;line-height:normal;font-family:Menlo,'DejaVu Sans Mono',consolas,'Courier New',monospace\"><span style=\"font-weight: bold\">Model: \"sequential_2\"</span>\n",
       "</pre>\n"
      ],
      "text/plain": [
       "\u001b[1mModel: \"sequential_2\"\u001b[0m\n"
      ]
     },
     "metadata": {},
     "output_type": "display_data"
    },
    {
     "data": {
      "text/html": [
       "<pre style=\"white-space:pre;overflow-x:auto;line-height:normal;font-family:Menlo,'DejaVu Sans Mono',consolas,'Courier New',monospace\">┏━━━━━━━━━━━━━━━━━━━━━━━━━━━━━━━━━┳━━━━━━━━━━━━━━━━━━━━━━━━┳━━━━━━━━━━━━━━━┓\n",
       "┃<span style=\"font-weight: bold\"> Layer (type)                    </span>┃<span style=\"font-weight: bold\"> Output Shape           </span>┃<span style=\"font-weight: bold\">       Param # </span>┃\n",
       "┡━━━━━━━━━━━━━━━━━━━━━━━━━━━━━━━━━╇━━━━━━━━━━━━━━━━━━━━━━━━╇━━━━━━━━━━━━━━━┩\n",
       "│ fc1 (<span style=\"color: #0087ff; text-decoration-color: #0087ff\">Dense</span>)                     │ (<span style=\"color: #00d7ff; text-decoration-color: #00d7ff\">None</span>, <span style=\"color: #00af00; text-decoration-color: #00af00\">10</span>)             │            <span style=\"color: #00af00; text-decoration-color: #00af00\">70</span> │\n",
       "├─────────────────────────────────┼────────────────────────┼───────────────┤\n",
       "│ fc2 (<span style=\"color: #0087ff; text-decoration-color: #0087ff\">Dense</span>)                     │ (<span style=\"color: #00d7ff; text-decoration-color: #00d7ff\">None</span>, <span style=\"color: #00af00; text-decoration-color: #00af00\">10</span>)             │           <span style=\"color: #00af00; text-decoration-color: #00af00\">110</span> │\n",
       "├─────────────────────────────────┼────────────────────────┼───────────────┤\n",
       "│ output (<span style=\"color: #0087ff; text-decoration-color: #0087ff\">Dense</span>)                  │ (<span style=\"color: #00d7ff; text-decoration-color: #00d7ff\">None</span>, <span style=\"color: #00af00; text-decoration-color: #00af00\">3</span>)              │            <span style=\"color: #00af00; text-decoration-color: #00af00\">33</span> │\n",
       "└─────────────────────────────────┴────────────────────────┴───────────────┘\n",
       "</pre>\n"
      ],
      "text/plain": [
       "┏━━━━━━━━━━━━━━━━━━━━━━━━━━━━━━━━━┳━━━━━━━━━━━━━━━━━━━━━━━━┳━━━━━━━━━━━━━━━┓\n",
       "┃\u001b[1m \u001b[0m\u001b[1mLayer (type)                   \u001b[0m\u001b[1m \u001b[0m┃\u001b[1m \u001b[0m\u001b[1mOutput Shape          \u001b[0m\u001b[1m \u001b[0m┃\u001b[1m \u001b[0m\u001b[1m      Param #\u001b[0m\u001b[1m \u001b[0m┃\n",
       "┡━━━━━━━━━━━━━━━━━━━━━━━━━━━━━━━━━╇━━━━━━━━━━━━━━━━━━━━━━━━╇━━━━━━━━━━━━━━━┩\n",
       "│ fc1 (\u001b[38;5;33mDense\u001b[0m)                     │ (\u001b[38;5;45mNone\u001b[0m, \u001b[38;5;34m10\u001b[0m)             │            \u001b[38;5;34m70\u001b[0m │\n",
       "├─────────────────────────────────┼────────────────────────┼───────────────┤\n",
       "│ fc2 (\u001b[38;5;33mDense\u001b[0m)                     │ (\u001b[38;5;45mNone\u001b[0m, \u001b[38;5;34m10\u001b[0m)             │           \u001b[38;5;34m110\u001b[0m │\n",
       "├─────────────────────────────────┼────────────────────────┼───────────────┤\n",
       "│ output (\u001b[38;5;33mDense\u001b[0m)                  │ (\u001b[38;5;45mNone\u001b[0m, \u001b[38;5;34m3\u001b[0m)              │            \u001b[38;5;34m33\u001b[0m │\n",
       "└─────────────────────────────────┴────────────────────────┴───────────────┘\n"
      ]
     },
     "metadata": {},
     "output_type": "display_data"
    },
    {
     "data": {
      "text/html": [
       "<pre style=\"white-space:pre;overflow-x:auto;line-height:normal;font-family:Menlo,'DejaVu Sans Mono',consolas,'Courier New',monospace\"><span style=\"font-weight: bold\"> Total params: </span><span style=\"color: #00af00; text-decoration-color: #00af00\">213</span> (852.00 B)\n",
       "</pre>\n"
      ],
      "text/plain": [
       "\u001b[1m Total params: \u001b[0m\u001b[38;5;34m213\u001b[0m (852.00 B)\n"
      ]
     },
     "metadata": {},
     "output_type": "display_data"
    },
    {
     "data": {
      "text/html": [
       "<pre style=\"white-space:pre;overflow-x:auto;line-height:normal;font-family:Menlo,'DejaVu Sans Mono',consolas,'Courier New',monospace\"><span style=\"font-weight: bold\"> Trainable params: </span><span style=\"color: #00af00; text-decoration-color: #00af00\">213</span> (852.00 B)\n",
       "</pre>\n"
      ],
      "text/plain": [
       "\u001b[1m Trainable params: \u001b[0m\u001b[38;5;34m213\u001b[0m (852.00 B)\n"
      ]
     },
     "metadata": {},
     "output_type": "display_data"
    },
    {
     "data": {
      "text/html": [
       "<pre style=\"white-space:pre;overflow-x:auto;line-height:normal;font-family:Menlo,'DejaVu Sans Mono',consolas,'Courier New',monospace\"><span style=\"font-weight: bold\"> Non-trainable params: </span><span style=\"color: #00af00; text-decoration-color: #00af00\">0</span> (0.00 B)\n",
       "</pre>\n"
      ],
      "text/plain": [
       "\u001b[1m Non-trainable params: \u001b[0m\u001b[38;5;34m0\u001b[0m (0.00 B)\n"
      ]
     },
     "metadata": {},
     "output_type": "display_data"
    }
   ],
   "source": [
    "from tensorflow.keras.optimizers import Adam\n",
    "optimizer = Adam(learning_rate=0.001)\n",
    "model.compile(optimizer=optimizer, \n",
    "              loss='categorical_crossentropy', \n",
    "              metrics=['accuracy'])\n",
    "\n",
    "print('Resumen del modelo de Red Neuronal: ')\n",
    "model.summary()"
   ]
  },
  {
   "cell_type": "markdown",
   "metadata": {},
   "source": [
    "## **[37]** Entrene su modelo de MLP"
   ]
  },
  {
   "cell_type": "code",
   "execution_count": 95,
   "metadata": {
    "collapsed": true,
    "jupyter": {
     "outputs_hidden": true
    },
    "tags": []
   },
   "outputs": [
    {
     "name": "stdout",
     "output_type": "stream",
     "text": [
      "Epoch 1/200\n",
      "54/54 - 1s - 18ms/step - accuracy: 0.5581 - loss: 1.1465\n",
      "Epoch 2/200\n",
      "54/54 - 0s - 2ms/step - accuracy: 0.6891 - loss: 0.9269\n",
      "Epoch 3/200\n",
      "54/54 - 0s - 2ms/step - accuracy: 0.8839 - loss: 0.6662\n",
      "Epoch 4/200\n",
      "54/54 - 0s - 2ms/step - accuracy: 0.9551 - loss: 0.4219\n",
      "Epoch 5/200\n",
      "54/54 - 0s - 2ms/step - accuracy: 0.9663 - loss: 0.2669\n",
      "Epoch 6/200\n",
      "54/54 - 0s - 2ms/step - accuracy: 0.9775 - loss: 0.1759\n",
      "Epoch 7/200\n",
      "54/54 - 0s - 2ms/step - accuracy: 0.9850 - loss: 0.1228\n",
      "Epoch 8/200\n",
      "54/54 - 0s - 2ms/step - accuracy: 0.9925 - loss: 0.0904\n",
      "Epoch 9/200\n",
      "54/54 - 0s - 2ms/step - accuracy: 0.9925 - loss: 0.0702\n",
      "Epoch 10/200\n",
      "54/54 - 0s - 2ms/step - accuracy: 0.9925 - loss: 0.0566\n",
      "Epoch 11/200\n",
      "54/54 - 0s - 2ms/step - accuracy: 0.9925 - loss: 0.0473\n",
      "Epoch 12/200\n",
      "54/54 - 0s - 2ms/step - accuracy: 0.9925 - loss: 0.0403\n",
      "Epoch 13/200\n",
      "54/54 - 0s - 2ms/step - accuracy: 0.9925 - loss: 0.0357\n",
      "Epoch 14/200\n",
      "54/54 - 0s - 3ms/step - accuracy: 0.9925 - loss: 0.0316\n",
      "Epoch 15/200\n",
      "54/54 - 0s - 2ms/step - accuracy: 0.9925 - loss: 0.0284\n",
      "Epoch 16/200\n",
      "54/54 - 0s - 2ms/step - accuracy: 0.9963 - loss: 0.0259\n",
      "Epoch 17/200\n",
      "54/54 - 0s - 3ms/step - accuracy: 0.9925 - loss: 0.0236\n",
      "Epoch 18/200\n",
      "54/54 - 0s - 2ms/step - accuracy: 0.9925 - loss: 0.0222\n",
      "Epoch 19/200\n",
      "54/54 - 0s - 2ms/step - accuracy: 0.9963 - loss: 0.0199\n",
      "Epoch 20/200\n",
      "54/54 - 0s - 2ms/step - accuracy: 0.9925 - loss: 0.0189\n",
      "Epoch 21/200\n",
      "54/54 - 0s - 2ms/step - accuracy: 0.9925 - loss: 0.0184\n",
      "Epoch 22/200\n",
      "54/54 - 0s - 1ms/step - accuracy: 0.9963 - loss: 0.0170\n",
      "Epoch 23/200\n",
      "54/54 - 0s - 1ms/step - accuracy: 1.0000 - loss: 0.0159\n",
      "Epoch 24/200\n",
      "54/54 - 0s - 1ms/step - accuracy: 1.0000 - loss: 0.0148\n",
      "Epoch 25/200\n",
      "54/54 - 0s - 1ms/step - accuracy: 0.9925 - loss: 0.0144\n",
      "Epoch 26/200\n",
      "54/54 - 0s - 1ms/step - accuracy: 0.9963 - loss: 0.0135\n",
      "Epoch 27/200\n",
      "54/54 - 0s - 1ms/step - accuracy: 1.0000 - loss: 0.0126\n",
      "Epoch 28/200\n",
      "54/54 - 0s - 1ms/step - accuracy: 1.0000 - loss: 0.0122\n",
      "Epoch 29/200\n",
      "54/54 - 0s - 1ms/step - accuracy: 1.0000 - loss: 0.0120\n",
      "Epoch 30/200\n",
      "54/54 - 0s - 2ms/step - accuracy: 0.9963 - loss: 0.0111\n",
      "Epoch 31/200\n",
      "54/54 - 0s - 1ms/step - accuracy: 1.0000 - loss: 0.0111\n",
      "Epoch 32/200\n",
      "54/54 - 0s - 1ms/step - accuracy: 1.0000 - loss: 0.0103\n",
      "Epoch 33/200\n",
      "54/54 - 0s - 2ms/step - accuracy: 1.0000 - loss: 0.0102\n",
      "Epoch 34/200\n",
      "54/54 - 0s - 1ms/step - accuracy: 1.0000 - loss: 0.0097\n",
      "Epoch 35/200\n",
      "54/54 - 0s - 2ms/step - accuracy: 1.0000 - loss: 0.0094\n",
      "Epoch 36/200\n",
      "54/54 - 0s - 2ms/step - accuracy: 0.9963 - loss: 0.0102\n",
      "Epoch 37/200\n",
      "54/54 - 0s - 2ms/step - accuracy: 1.0000 - loss: 0.0087\n",
      "Epoch 38/200\n",
      "54/54 - 0s - 2ms/step - accuracy: 1.0000 - loss: 0.0086\n",
      "Epoch 39/200\n",
      "54/54 - 0s - 1ms/step - accuracy: 1.0000 - loss: 0.0083\n",
      "Epoch 40/200\n",
      "54/54 - 0s - 1ms/step - accuracy: 1.0000 - loss: 0.0087\n",
      "Epoch 41/200\n",
      "54/54 - 0s - 2ms/step - accuracy: 1.0000 - loss: 0.0075\n",
      "Epoch 42/200\n",
      "54/54 - 0s - 1ms/step - accuracy: 1.0000 - loss: 0.0071\n",
      "Epoch 43/200\n",
      "54/54 - 0s - 1ms/step - accuracy: 1.0000 - loss: 0.0074\n",
      "Epoch 44/200\n",
      "54/54 - 0s - 1ms/step - accuracy: 1.0000 - loss: 0.0070\n",
      "Epoch 45/200\n",
      "54/54 - 0s - 1ms/step - accuracy: 1.0000 - loss: 0.0065\n",
      "Epoch 46/200\n",
      "54/54 - 0s - 1ms/step - accuracy: 1.0000 - loss: 0.0066\n",
      "Epoch 47/200\n",
      "54/54 - 0s - 1ms/step - accuracy: 1.0000 - loss: 0.0065\n",
      "Epoch 48/200\n",
      "54/54 - 0s - 1ms/step - accuracy: 1.0000 - loss: 0.0059\n",
      "Epoch 49/200\n",
      "54/54 - 0s - 1ms/step - accuracy: 1.0000 - loss: 0.0060\n",
      "Epoch 50/200\n",
      "54/54 - 0s - 1ms/step - accuracy: 1.0000 - loss: 0.0056\n",
      "Epoch 51/200\n",
      "54/54 - 0s - 1ms/step - accuracy: 1.0000 - loss: 0.0056\n",
      "Epoch 52/200\n",
      "54/54 - 0s - 1ms/step - accuracy: 1.0000 - loss: 0.0054\n",
      "Epoch 53/200\n",
      "54/54 - 0s - 2ms/step - accuracy: 1.0000 - loss: 0.0051\n",
      "Epoch 54/200\n",
      "54/54 - 0s - 2ms/step - accuracy: 1.0000 - loss: 0.0049\n",
      "Epoch 55/200\n",
      "54/54 - 0s - 1ms/step - accuracy: 1.0000 - loss: 0.0048\n",
      "Epoch 56/200\n",
      "54/54 - 0s - 1ms/step - accuracy: 1.0000 - loss: 0.0047\n",
      "Epoch 57/200\n",
      "54/54 - 0s - 1ms/step - accuracy: 1.0000 - loss: 0.0045\n",
      "Epoch 58/200\n",
      "54/54 - 0s - 2ms/step - accuracy: 1.0000 - loss: 0.0045\n",
      "Epoch 59/200\n",
      "54/54 - 0s - 1ms/step - accuracy: 1.0000 - loss: 0.0049\n",
      "Epoch 60/200\n",
      "54/54 - 0s - 1ms/step - accuracy: 1.0000 - loss: 0.0042\n",
      "Epoch 61/200\n",
      "54/54 - 0s - 2ms/step - accuracy: 1.0000 - loss: 0.0042\n",
      "Epoch 62/200\n",
      "54/54 - 0s - 2ms/step - accuracy: 1.0000 - loss: 0.0042\n",
      "Epoch 63/200\n",
      "54/54 - 0s - 1ms/step - accuracy: 1.0000 - loss: 0.0042\n",
      "Epoch 64/200\n",
      "54/54 - 0s - 1ms/step - accuracy: 1.0000 - loss: 0.0036\n",
      "Epoch 65/200\n",
      "54/54 - 0s - 2ms/step - accuracy: 1.0000 - loss: 0.0035\n",
      "Epoch 66/200\n",
      "54/54 - 0s - 1ms/step - accuracy: 1.0000 - loss: 0.0035\n",
      "Epoch 67/200\n",
      "54/54 - 0s - 1ms/step - accuracy: 1.0000 - loss: 0.0033\n",
      "Epoch 68/200\n",
      "54/54 - 0s - 2ms/step - accuracy: 1.0000 - loss: 0.0034\n",
      "Epoch 69/200\n",
      "54/54 - 0s - 1ms/step - accuracy: 1.0000 - loss: 0.0031\n",
      "Epoch 70/200\n",
      "54/54 - 0s - 1ms/step - accuracy: 1.0000 - loss: 0.0032\n",
      "Epoch 71/200\n",
      "54/54 - 0s - 2ms/step - accuracy: 1.0000 - loss: 0.0031\n",
      "Epoch 72/200\n",
      "54/54 - 0s - 2ms/step - accuracy: 1.0000 - loss: 0.0030\n",
      "Epoch 73/200\n",
      "54/54 - 0s - 1ms/step - accuracy: 1.0000 - loss: 0.0029\n",
      "Epoch 74/200\n",
      "54/54 - 0s - 1ms/step - accuracy: 1.0000 - loss: 0.0029\n",
      "Epoch 75/200\n",
      "54/54 - 0s - 1ms/step - accuracy: 1.0000 - loss: 0.0028\n",
      "Epoch 76/200\n",
      "54/54 - 0s - 2ms/step - accuracy: 1.0000 - loss: 0.0025\n",
      "Epoch 77/200\n",
      "54/54 - 0s - 2ms/step - accuracy: 1.0000 - loss: 0.0026\n",
      "Epoch 78/200\n",
      "54/54 - 0s - 1ms/step - accuracy: 1.0000 - loss: 0.0024\n",
      "Epoch 79/200\n",
      "54/54 - 0s - 1ms/step - accuracy: 1.0000 - loss: 0.0023\n",
      "Epoch 80/200\n",
      "54/54 - 0s - 2ms/step - accuracy: 1.0000 - loss: 0.0023\n",
      "Epoch 81/200\n",
      "54/54 - 0s - 3ms/step - accuracy: 1.0000 - loss: 0.0022\n",
      "Epoch 82/200\n",
      "54/54 - 0s - 1ms/step - accuracy: 1.0000 - loss: 0.0024\n",
      "Epoch 83/200\n",
      "54/54 - 0s - 2ms/step - accuracy: 1.0000 - loss: 0.0021\n",
      "Epoch 84/200\n",
      "54/54 - 0s - 1ms/step - accuracy: 1.0000 - loss: 0.0020\n",
      "Epoch 85/200\n",
      "54/54 - 0s - 1ms/step - accuracy: 1.0000 - loss: 0.0020\n",
      "Epoch 86/200\n",
      "54/54 - 0s - 1ms/step - accuracy: 1.0000 - loss: 0.0020\n",
      "Epoch 87/200\n",
      "54/54 - 0s - 2ms/step - accuracy: 1.0000 - loss: 0.0019\n",
      "Epoch 88/200\n",
      "54/54 - 0s - 2ms/step - accuracy: 1.0000 - loss: 0.0018\n",
      "Epoch 89/200\n",
      "54/54 - 0s - 1ms/step - accuracy: 1.0000 - loss: 0.0017\n",
      "Epoch 90/200\n",
      "54/54 - 0s - 1ms/step - accuracy: 1.0000 - loss: 0.0017\n",
      "Epoch 91/200\n",
      "54/54 - 0s - 1ms/step - accuracy: 1.0000 - loss: 0.0017\n",
      "Epoch 92/200\n",
      "54/54 - 0s - 1ms/step - accuracy: 1.0000 - loss: 0.0017\n",
      "Epoch 93/200\n",
      "54/54 - 0s - 1ms/step - accuracy: 1.0000 - loss: 0.0016\n",
      "Epoch 94/200\n",
      "54/54 - 0s - 1ms/step - accuracy: 1.0000 - loss: 0.0016\n",
      "Epoch 95/200\n",
      "54/54 - 0s - 1ms/step - accuracy: 1.0000 - loss: 0.0015\n",
      "Epoch 96/200\n",
      "54/54 - 0s - 1ms/step - accuracy: 1.0000 - loss: 0.0014\n",
      "Epoch 97/200\n",
      "54/54 - 0s - 1ms/step - accuracy: 1.0000 - loss: 0.0014\n",
      "Epoch 98/200\n",
      "54/54 - 0s - 2ms/step - accuracy: 1.0000 - loss: 0.0013\n",
      "Epoch 99/200\n",
      "54/54 - 0s - 2ms/step - accuracy: 1.0000 - loss: 0.0014\n",
      "Epoch 100/200\n",
      "54/54 - 0s - 1ms/step - accuracy: 1.0000 - loss: 0.0014\n",
      "Epoch 101/200\n",
      "54/54 - 0s - 1ms/step - accuracy: 1.0000 - loss: 0.0012\n",
      "Epoch 102/200\n",
      "54/54 - 0s - 1ms/step - accuracy: 1.0000 - loss: 0.0011\n",
      "Epoch 103/200\n",
      "54/54 - 0s - 1ms/step - accuracy: 1.0000 - loss: 0.0011\n",
      "Epoch 104/200\n",
      "54/54 - 0s - 2ms/step - accuracy: 1.0000 - loss: 0.0011\n",
      "Epoch 105/200\n",
      "54/54 - 0s - 1ms/step - accuracy: 1.0000 - loss: 0.0011\n",
      "Epoch 106/200\n",
      "54/54 - 0s - 1ms/step - accuracy: 1.0000 - loss: 0.0012\n",
      "Epoch 107/200\n",
      "54/54 - 0s - 1ms/step - accuracy: 1.0000 - loss: 0.0011\n",
      "Epoch 108/200\n",
      "54/54 - 0s - 1ms/step - accuracy: 1.0000 - loss: 0.0010\n",
      "Epoch 109/200\n",
      "54/54 - 0s - 1ms/step - accuracy: 1.0000 - loss: 9.6834e-04\n",
      "Epoch 110/200\n",
      "54/54 - 0s - 1ms/step - accuracy: 1.0000 - loss: 9.0369e-04\n",
      "Epoch 111/200\n",
      "54/54 - 0s - 1ms/step - accuracy: 1.0000 - loss: 8.8965e-04\n",
      "Epoch 112/200\n",
      "54/54 - 0s - 1ms/step - accuracy: 1.0000 - loss: 8.4226e-04\n",
      "Epoch 113/200\n",
      "54/54 - 0s - 1ms/step - accuracy: 1.0000 - loss: 8.5093e-04\n",
      "Epoch 114/200\n",
      "54/54 - 0s - 1ms/step - accuracy: 1.0000 - loss: 7.9565e-04\n",
      "Epoch 115/200\n",
      "54/54 - 0s - 1ms/step - accuracy: 1.0000 - loss: 0.0010\n",
      "Epoch 116/200\n",
      "54/54 - 0s - 2ms/step - accuracy: 1.0000 - loss: 0.0013\n",
      "Epoch 117/200\n",
      "54/54 - 0s - 2ms/step - accuracy: 1.0000 - loss: 8.1092e-04\n",
      "Epoch 118/200\n",
      "54/54 - 0s - 1ms/step - accuracy: 1.0000 - loss: 7.7930e-04\n",
      "Epoch 119/200\n",
      "54/54 - 0s - 1ms/step - accuracy: 1.0000 - loss: 6.7789e-04\n",
      "Epoch 120/200\n",
      "54/54 - 0s - 1ms/step - accuracy: 1.0000 - loss: 6.7607e-04\n",
      "Epoch 121/200\n",
      "54/54 - 0s - 1ms/step - accuracy: 1.0000 - loss: 6.6005e-04\n",
      "Epoch 122/200\n",
      "54/54 - 0s - 1ms/step - accuracy: 1.0000 - loss: 6.1492e-04\n",
      "Epoch 123/200\n",
      "54/54 - 0s - 1ms/step - accuracy: 1.0000 - loss: 6.1122e-04\n",
      "Epoch 124/200\n",
      "54/54 - 0s - 1ms/step - accuracy: 1.0000 - loss: 5.8589e-04\n",
      "Epoch 125/200\n",
      "54/54 - 0s - 1ms/step - accuracy: 1.0000 - loss: 5.5945e-04\n",
      "Epoch 126/200\n",
      "54/54 - 0s - 1ms/step - accuracy: 1.0000 - loss: 6.0120e-04\n",
      "Epoch 127/200\n",
      "54/54 - 0s - 1ms/step - accuracy: 1.0000 - loss: 5.2505e-04\n",
      "Epoch 128/200\n",
      "54/54 - 0s - 1ms/step - accuracy: 1.0000 - loss: 5.0802e-04\n",
      "Epoch 129/200\n",
      "54/54 - 0s - 2ms/step - accuracy: 1.0000 - loss: 5.6600e-04\n",
      "Epoch 130/200\n",
      "54/54 - 0s - 1ms/step - accuracy: 1.0000 - loss: 4.8252e-04\n",
      "Epoch 131/200\n",
      "54/54 - 0s - 2ms/step - accuracy: 1.0000 - loss: 4.8579e-04\n",
      "Epoch 132/200\n",
      "54/54 - 0s - 1ms/step - accuracy: 1.0000 - loss: 4.9074e-04\n",
      "Epoch 133/200\n",
      "54/54 - 0s - 1ms/step - accuracy: 1.0000 - loss: 4.8991e-04\n",
      "Epoch 134/200\n",
      "54/54 - 0s - 1ms/step - accuracy: 1.0000 - loss: 4.3678e-04\n",
      "Epoch 135/200\n",
      "54/54 - 0s - 2ms/step - accuracy: 1.0000 - loss: 4.4455e-04\n",
      "Epoch 136/200\n",
      "54/54 - 0s - 1ms/step - accuracy: 1.0000 - loss: 4.0456e-04\n",
      "Epoch 137/200\n",
      "54/54 - 0s - 1ms/step - accuracy: 1.0000 - loss: 4.4782e-04\n",
      "Epoch 138/200\n",
      "54/54 - 0s - 1ms/step - accuracy: 1.0000 - loss: 4.0574e-04\n",
      "Epoch 139/200\n",
      "54/54 - 0s - 1ms/step - accuracy: 1.0000 - loss: 3.9084e-04\n",
      "Epoch 140/200\n",
      "54/54 - 0s - 1ms/step - accuracy: 1.0000 - loss: 3.8699e-04\n",
      "Epoch 141/200\n",
      "54/54 - 0s - 1ms/step - accuracy: 1.0000 - loss: 3.8365e-04\n",
      "Epoch 142/200\n",
      "54/54 - 0s - 1ms/step - accuracy: 1.0000 - loss: 3.5578e-04\n",
      "Epoch 143/200\n",
      "54/54 - 0s - 1ms/step - accuracy: 1.0000 - loss: 3.3562e-04\n",
      "Epoch 144/200\n",
      "54/54 - 0s - 1ms/step - accuracy: 1.0000 - loss: 3.3772e-04\n",
      "Epoch 145/200\n",
      "54/54 - 0s - 1ms/step - accuracy: 1.0000 - loss: 3.3685e-04\n",
      "Epoch 146/200\n",
      "54/54 - 0s - 1ms/step - accuracy: 1.0000 - loss: 3.1556e-04\n",
      "Epoch 147/200\n",
      "54/54 - 0s - 1ms/step - accuracy: 1.0000 - loss: 3.2330e-04\n",
      "Epoch 148/200\n",
      "54/54 - 0s - 1ms/step - accuracy: 1.0000 - loss: 2.9889e-04\n",
      "Epoch 149/200\n",
      "54/54 - 0s - 1ms/step - accuracy: 1.0000 - loss: 2.6632e-04\n",
      "Epoch 150/200\n",
      "54/54 - 0s - 2ms/step - accuracy: 1.0000 - loss: 2.7340e-04\n",
      "Epoch 151/200\n",
      "54/54 - 0s - 1ms/step - accuracy: 1.0000 - loss: 2.5859e-04\n",
      "Epoch 152/200\n",
      "54/54 - 0s - 1ms/step - accuracy: 1.0000 - loss: 2.5477e-04\n",
      "Epoch 153/200\n",
      "54/54 - 0s - 2ms/step - accuracy: 1.0000 - loss: 2.3830e-04\n",
      "Epoch 154/200\n",
      "54/54 - 0s - 1ms/step - accuracy: 1.0000 - loss: 2.4325e-04\n",
      "Epoch 155/200\n",
      "54/54 - 0s - 1ms/step - accuracy: 1.0000 - loss: 2.2942e-04\n",
      "Epoch 156/200\n",
      "54/54 - 0s - 1ms/step - accuracy: 1.0000 - loss: 2.1929e-04\n",
      "Epoch 157/200\n",
      "54/54 - 0s - 1ms/step - accuracy: 1.0000 - loss: 2.1945e-04\n",
      "Epoch 158/200\n",
      "54/54 - 0s - 1ms/step - accuracy: 1.0000 - loss: 2.2163e-04\n",
      "Epoch 159/200\n",
      "54/54 - 0s - 1ms/step - accuracy: 1.0000 - loss: 2.1365e-04\n",
      "Epoch 160/200\n",
      "54/54 - 0s - 1ms/step - accuracy: 1.0000 - loss: 1.9731e-04\n",
      "Epoch 161/200\n",
      "54/54 - 0s - 1ms/step - accuracy: 1.0000 - loss: 1.8700e-04\n",
      "Epoch 162/200\n",
      "54/54 - 0s - 1ms/step - accuracy: 1.0000 - loss: 1.8624e-04\n",
      "Epoch 163/200\n",
      "54/54 - 0s - 1ms/step - accuracy: 1.0000 - loss: 2.0119e-04\n",
      "Epoch 164/200\n",
      "54/54 - 0s - 1ms/step - accuracy: 1.0000 - loss: 1.8271e-04\n",
      "Epoch 165/200\n",
      "54/54 - 0s - 1ms/step - accuracy: 1.0000 - loss: 1.6893e-04\n",
      "Epoch 166/200\n",
      "54/54 - 0s - 1ms/step - accuracy: 1.0000 - loss: 1.6448e-04\n",
      "Epoch 167/200\n",
      "54/54 - 0s - 1ms/step - accuracy: 1.0000 - loss: 1.6257e-04\n",
      "Epoch 168/200\n",
      "54/54 - 0s - 1ms/step - accuracy: 1.0000 - loss: 1.4763e-04\n",
      "Epoch 169/200\n",
      "54/54 - 0s - 1ms/step - accuracy: 1.0000 - loss: 1.5097e-04\n",
      "Epoch 170/200\n",
      "54/54 - 0s - 1ms/step - accuracy: 1.0000 - loss: 1.5516e-04\n",
      "Epoch 171/200\n",
      "54/54 - 0s - 1ms/step - accuracy: 1.0000 - loss: 1.4103e-04\n",
      "Epoch 172/200\n",
      "54/54 - 0s - 1ms/step - accuracy: 1.0000 - loss: 1.3329e-04\n",
      "Epoch 173/200\n",
      "54/54 - 0s - 1ms/step - accuracy: 1.0000 - loss: 1.3760e-04\n",
      "Epoch 174/200\n",
      "54/54 - 0s - 3ms/step - accuracy: 1.0000 - loss: 1.2599e-04\n",
      "Epoch 175/200\n",
      "54/54 - 0s - 1ms/step - accuracy: 1.0000 - loss: 1.2010e-04\n",
      "Epoch 176/200\n",
      "54/54 - 0s - 1ms/step - accuracy: 1.0000 - loss: 1.2195e-04\n",
      "Epoch 177/200\n",
      "54/54 - 0s - 1ms/step - accuracy: 1.0000 - loss: 1.3532e-04\n",
      "Epoch 178/200\n",
      "54/54 - 0s - 1ms/step - accuracy: 1.0000 - loss: 1.4477e-04\n",
      "Epoch 179/200\n",
      "54/54 - 0s - 1ms/step - accuracy: 1.0000 - loss: 1.1348e-04\n",
      "Epoch 180/200\n",
      "54/54 - 0s - 1ms/step - accuracy: 1.0000 - loss: 9.9530e-05\n",
      "Epoch 181/200\n",
      "54/54 - 0s - 1ms/step - accuracy: 1.0000 - loss: 9.7009e-05\n",
      "Epoch 182/200\n",
      "54/54 - 0s - 1ms/step - accuracy: 1.0000 - loss: 9.7426e-05\n",
      "Epoch 183/200\n",
      "54/54 - 0s - 1ms/step - accuracy: 1.0000 - loss: 9.0042e-05\n",
      "Epoch 184/200\n",
      "54/54 - 0s - 1ms/step - accuracy: 1.0000 - loss: 9.0608e-05\n",
      "Epoch 185/200\n",
      "54/54 - 0s - 2ms/step - accuracy: 1.0000 - loss: 8.6761e-05\n",
      "Epoch 186/200\n",
      "54/54 - 0s - 1ms/step - accuracy: 1.0000 - loss: 8.1084e-05\n",
      "Epoch 187/200\n",
      "54/54 - 0s - 1ms/step - accuracy: 1.0000 - loss: 8.3020e-05\n",
      "Epoch 188/200\n",
      "54/54 - 0s - 1ms/step - accuracy: 1.0000 - loss: 8.0042e-05\n",
      "Epoch 189/200\n",
      "54/54 - 0s - 1ms/step - accuracy: 1.0000 - loss: 8.6857e-05\n",
      "Epoch 190/200\n",
      "54/54 - 0s - 2ms/step - accuracy: 1.0000 - loss: 8.7133e-05\n",
      "Epoch 191/200\n",
      "54/54 - 0s - 2ms/step - accuracy: 1.0000 - loss: 7.7256e-05\n",
      "Epoch 192/200\n",
      "54/54 - 0s - 1ms/step - accuracy: 1.0000 - loss: 7.0540e-05\n",
      "Epoch 193/200\n",
      "54/54 - 0s - 1ms/step - accuracy: 1.0000 - loss: 6.8107e-05\n",
      "Epoch 194/200\n",
      "54/54 - 0s - 1ms/step - accuracy: 1.0000 - loss: 6.9319e-05\n",
      "Epoch 195/200\n",
      "54/54 - 0s - 1ms/step - accuracy: 1.0000 - loss: 6.9697e-05\n",
      "Epoch 196/200\n",
      "54/54 - 0s - 1ms/step - accuracy: 1.0000 - loss: 6.0767e-05\n",
      "Epoch 197/200\n",
      "54/54 - 0s - 2ms/step - accuracy: 1.0000 - loss: 6.0270e-05\n",
      "Epoch 198/200\n",
      "54/54 - 0s - 1ms/step - accuracy: 1.0000 - loss: 6.8103e-05\n",
      "Epoch 199/200\n",
      "54/54 - 0s - 1ms/step - accuracy: 1.0000 - loss: 5.6239e-05\n",
      "Epoch 200/200\n",
      "54/54 - 0s - 1ms/step - accuracy: 1.0000 - loss: 5.6759e-05\n"
     ]
    },
    {
     "data": {
      "text/plain": [
       "<keras.src.callbacks.history.History at 0x16478fc2a10>"
      ]
     },
     "execution_count": 95,
     "metadata": {},
     "output_type": "execute_result"
    }
   ],
   "source": [
    "model.fit(X_train, y_train, verbose=2, batch_size=5, epochs=200)"
   ]
  },
  {
   "cell_type": "markdown",
   "metadata": {},
   "source": [
    "## **[38]** Calcule el *score* de su modelo"
   ]
  },
  {
   "cell_type": "code",
   "execution_count": 96,
   "metadata": {
    "tags": []
   },
   "outputs": [
    {
     "name": "stdout",
     "output_type": "stream",
     "text": [
      "\u001b[1m3/3\u001b[0m \u001b[32m━━━━━━━━━━━━━━━━━━━━\u001b[0m\u001b[37m\u001b[0m \u001b[1m0s\u001b[0m 13ms/step - accuracy: 1.0000 - loss: 1.1766e-05 \n",
      "Final test set loss: 0.000012\n",
      "Final test set accuracy: 1.000000\n"
     ]
    }
   ],
   "source": [
    "results = model.evaluate(X_test, y_test)\n",
    "print('Final test set loss: {:4f}'.format(results[0]))\n",
    "print('Final test set accuracy: {:4f}'.format(results[1]))"
   ]
  },
  {
   "cell_type": "markdown",
   "metadata": {},
   "source": [
    "## **[39]** Calcular predicciones para la secuencia de test"
   ]
  },
  {
   "cell_type": "code",
   "execution_count": 97,
   "metadata": {
    "tags": []
   },
   "outputs": [
    {
     "name": "stdout",
     "output_type": "stream",
     "text": [
      "\u001b[1m3/3\u001b[0m \u001b[32m━━━━━━━━━━━━━━━━━━━━\u001b[0m\u001b[37m\u001b[0m \u001b[1m0s\u001b[0m 21ms/step\n"
     ]
    }
   ],
   "source": [
    "predicciones = model.predict(X_test)"
   ]
  },
  {
   "cell_type": "markdown",
   "metadata": {},
   "source": [
    "## **[40]** Procesar listas en OHE a listas de numéricas"
   ]
  },
  {
   "cell_type": "code",
   "execution_count": 98,
   "metadata": {},
   "outputs": [],
   "source": [
    "predList=np.argmax(predicciones, axis=-1)"
   ]
  },
  {
   "cell_type": "markdown",
   "metadata": {},
   "source": [
    "## **[41]** Genere la matriz de confusión de los datos de test "
   ]
  },
  {
   "cell_type": "code",
   "execution_count": 99,
   "metadata": {
    "tags": []
   },
   "outputs": [
    {
     "name": "stdout",
     "output_type": "stream",
     "text": [
      "\u001b[1m3/3\u001b[0m \u001b[32m━━━━━━━━━━━━━━━━━━━━\u001b[0m\u001b[37m\u001b[0m \u001b[1m0s\u001b[0m 11ms/step\n"
     ]
    },
    {
     "data": {
      "image/png": "[encoded data removed]",
      "text/plain": [
       "<Figure size 640x480 with 2 Axes>"
      ]
     },
     "metadata": {},
     "output_type": "display_data"
    }
   ],
   "source": [
    "# Obtener predicciones\n",
    "y_pred = model.predict(X_test)\n",
    "y_pred_classes = np.argmax(y_pred, axis=1)  # Convertir one-hot a labels\n",
    "y_true_classes = np.argmax(y_test, axis=1)   # Convertir one-hot a labels\n",
    "\n",
    "# Obtener nombres de las categorías (especies)\n",
    "categorias = penguins_clean_df['species'].unique()\n",
    "\n",
    "# Generar matriz de confusión\n",
    "fig = ConfusionMatrixDisplay.from_predictions(\n",
    "    y_true_classes, \n",
    "    y_pred_classes,\n",
    "    display_labels=categorias, \n",
    "    cmap=\"Purples\", \n",
    "    normalize='true'\n",
    ") \n",
    "fig.figure_.suptitle(\"Matriz de Confusión - Pingüinos\")\n",
    "plt.xticks(rotation=45)\n",
    "plt.show()"
   ]
  },
  {
   "cell_type": "markdown",
   "metadata": {},
   "source": [
    "# Redes Neuronales Recurrentes\n",
    "<div class=\"alert alert-info\", role=\"success\">\n",
    "    <h1 style=\"font-size: 2em;\">Utilización de Series temporales </h1>\n",
    "</div>"
   ]
  },
  {
   "cell_type": "markdown",
   "metadata": {},
   "source": [
    "## **[42]** Utilizando el Codigo presentado en el ejemplo modique el tamaño de la secuencia y compare los resultados\n",
    "Obs. Puede añadir a esta sección las celdas de código que necesite."
   ]
  },
  {
   "cell_type": "code",
   "execution_count": 100,
   "metadata": {},
   "outputs": [],
   "source": [
    "datosDT = pd.read_csv('daily-minimum-temperatures-in-me.csv')\n",
    "\n",
    "# Extraer la columna con la serie\n",
    "datosTempo = datosDT.iloc[:,1]\n",
    "\n",
    "# Asegurar el tipo de dato flotante \n",
    "datosTempo = pd.to_numeric(datosTempo, errors='coerce', downcast='float')\n",
    "datosTempo = datosTempo.dropna()  # Eliminar valores NaN si los hay"
   ]
  },
  {
   "cell_type": "code",
   "execution_count": 102,
   "metadata": {},
   "outputs": [],
   "source": [
    "# Crear secuencias de entrada y etiquetas\n",
    "sequence_length = 7  # Cambiado de 10 a 7\n",
    "\n",
    "def create_sequences(data, sequence_length):\n",
    "    X, y = [], []\n",
    "    for i in range(len(data) - sequence_length):\n",
    "        X.append(data[i:i + sequence_length])\n",
    "        y.append(data[i + sequence_length])\n",
    "    return np.array(X), np.array(y)\n",
    "\n",
    "X, y = create_sequences(np.array(datosTempo), sequence_length)\n",
    "X = X.reshape((X.shape[0], X.shape[1], 1))  # Añadir dimensión para LSTM"
   ]
  },
  {
   "cell_type": "code",
   "execution_count": 103,
   "metadata": {},
   "outputs": [
    {
     "data": {
      "text/plain": [
       "array([17.4, 21.8, 20. , ..., 13.5, 15.7, 13. ], dtype=float32)"
      ]
     },
     "execution_count": 103,
     "metadata": {},
     "output_type": "execute_result"
    }
   ],
   "source": [
    "y"
   ]
  },
  {
   "cell_type": "code",
   "execution_count": 104,
   "metadata": {},
   "outputs": [],
   "source": [
    "# Dividir en entrenamiento y prueba\n",
    "split = int(len(X) * 0.75)\n",
    "X_train, X_test = X[:split], X[split:]\n",
    "y_train, y_test = y[:split], y[split:]"
   ]
  },
  {
   "cell_type": "code",
   "execution_count": 106,
   "metadata": {},
   "outputs": [
    {
     "data": {
      "text/html": [
       "<pre style=\"white-space:pre;overflow-x:auto;line-height:normal;font-family:Menlo,'DejaVu Sans Mono',consolas,'Courier New',monospace\"><span style=\"font-weight: bold\">Model: \"sequential_3\"</span>\n",
       "</pre>\n"
      ],
      "text/plain": [
       "\u001b[1mModel: \"sequential_3\"\u001b[0m\n"
      ]
     },
     "metadata": {},
     "output_type": "display_data"
    },
    {
     "data": {
      "text/html": [
       "<pre style=\"white-space:pre;overflow-x:auto;line-height:normal;font-family:Menlo,'DejaVu Sans Mono',consolas,'Courier New',monospace\">┏━━━━━━━━━━━━━━━━━━━━━━━━━━━━━━━━━┳━━━━━━━━━━━━━━━━━━━━━━━━┳━━━━━━━━━━━━━━━┓\n",
       "┃<span style=\"font-weight: bold\"> Layer (type)                    </span>┃<span style=\"font-weight: bold\"> Output Shape           </span>┃<span style=\"font-weight: bold\">       Param # </span>┃\n",
       "┡━━━━━━━━━━━━━━━━━━━━━━━━━━━━━━━━━╇━━━━━━━━━━━━━━━━━━━━━━━━╇━━━━━━━━━━━━━━━┩\n",
       "│ lstm (<span style=\"color: #0087ff; text-decoration-color: #0087ff\">LSTM</span>)                     │ (<span style=\"color: #00d7ff; text-decoration-color: #00d7ff\">None</span>, <span style=\"color: #00af00; text-decoration-color: #00af00\">7</span>, <span style=\"color: #00af00; text-decoration-color: #00af00\">50</span>)          │        <span style=\"color: #00af00; text-decoration-color: #00af00\">10,400</span> │\n",
       "├─────────────────────────────────┼────────────────────────┼───────────────┤\n",
       "│ lstm_1 (<span style=\"color: #0087ff; text-decoration-color: #0087ff\">LSTM</span>)                   │ (<span style=\"color: #00d7ff; text-decoration-color: #00d7ff\">None</span>, <span style=\"color: #00af00; text-decoration-color: #00af00\">20</span>)             │         <span style=\"color: #00af00; text-decoration-color: #00af00\">5,680</span> │\n",
       "├─────────────────────────────────┼────────────────────────┼───────────────┤\n",
       "│ dense_6 (<span style=\"color: #0087ff; text-decoration-color: #0087ff\">Dense</span>)                 │ (<span style=\"color: #00d7ff; text-decoration-color: #00d7ff\">None</span>, <span style=\"color: #00af00; text-decoration-color: #00af00\">48</span>)             │         <span style=\"color: #00af00; text-decoration-color: #00af00\">1,008</span> │\n",
       "├─────────────────────────────────┼────────────────────────┼───────────────┤\n",
       "│ dense_7 (<span style=\"color: #0087ff; text-decoration-color: #0087ff\">Dense</span>)                 │ (<span style=\"color: #00d7ff; text-decoration-color: #00d7ff\">None</span>, <span style=\"color: #00af00; text-decoration-color: #00af00\">1</span>)              │            <span style=\"color: #00af00; text-decoration-color: #00af00\">49</span> │\n",
       "└─────────────────────────────────┴────────────────────────┴───────────────┘\n",
       "</pre>\n"
      ],
      "text/plain": [
       "┏━━━━━━━━━━━━━━━━━━━━━━━━━━━━━━━━━┳━━━━━━━━━━━━━━━━━━━━━━━━┳━━━━━━━━━━━━━━━┓\n",
       "┃\u001b[1m \u001b[0m\u001b[1mLayer (type)                   \u001b[0m\u001b[1m \u001b[0m┃\u001b[1m \u001b[0m\u001b[1mOutput Shape          \u001b[0m\u001b[1m \u001b[0m┃\u001b[1m \u001b[0m\u001b[1m      Param #\u001b[0m\u001b[1m \u001b[0m┃\n",
       "┡━━━━━━━━━━━━━━━━━━━━━━━━━━━━━━━━━╇━━━━━━━━━━━━━━━━━━━━━━━━╇━━━━━━━━━━━━━━━┩\n",
       "│ lstm (\u001b[38;5;33mLSTM\u001b[0m)                     │ (\u001b[38;5;45mNone\u001b[0m, \u001b[38;5;34m7\u001b[0m, \u001b[38;5;34m50\u001b[0m)          │        \u001b[38;5;34m10,400\u001b[0m │\n",
       "├─────────────────────────────────┼────────────────────────┼───────────────┤\n",
       "│ lstm_1 (\u001b[38;5;33mLSTM\u001b[0m)                   │ (\u001b[38;5;45mNone\u001b[0m, \u001b[38;5;34m20\u001b[0m)             │         \u001b[38;5;34m5,680\u001b[0m │\n",
       "├─────────────────────────────────┼────────────────────────┼───────────────┤\n",
       "│ dense_6 (\u001b[38;5;33mDense\u001b[0m)                 │ (\u001b[38;5;45mNone\u001b[0m, \u001b[38;5;34m48\u001b[0m)             │         \u001b[38;5;34m1,008\u001b[0m │\n",
       "├─────────────────────────────────┼────────────────────────┼───────────────┤\n",
       "│ dense_7 (\u001b[38;5;33mDense\u001b[0m)                 │ (\u001b[38;5;45mNone\u001b[0m, \u001b[38;5;34m1\u001b[0m)              │            \u001b[38;5;34m49\u001b[0m │\n",
       "└─────────────────────────────────┴────────────────────────┴───────────────┘\n"
      ]
     },
     "metadata": {},
     "output_type": "display_data"
    },
    {
     "data": {
      "text/html": [
       "<pre style=\"white-space:pre;overflow-x:auto;line-height:normal;font-family:Menlo,'DejaVu Sans Mono',consolas,'Courier New',monospace\"><span style=\"font-weight: bold\"> Total params: </span><span style=\"color: #00af00; text-decoration-color: #00af00\">17,137</span> (66.94 KB)\n",
       "</pre>\n"
      ],
      "text/plain": [
       "\u001b[1m Total params: \u001b[0m\u001b[38;5;34m17,137\u001b[0m (66.94 KB)\n"
      ]
     },
     "metadata": {},
     "output_type": "display_data"
    },
    {
     "data": {
      "text/html": [
       "<pre style=\"white-space:pre;overflow-x:auto;line-height:normal;font-family:Menlo,'DejaVu Sans Mono',consolas,'Courier New',monospace\"><span style=\"font-weight: bold\"> Trainable params: </span><span style=\"color: #00af00; text-decoration-color: #00af00\">17,137</span> (66.94 KB)\n",
       "</pre>\n"
      ],
      "text/plain": [
       "\u001b[1m Trainable params: \u001b[0m\u001b[38;5;34m17,137\u001b[0m (66.94 KB)\n"
      ]
     },
     "metadata": {},
     "output_type": "display_data"
    },
    {
     "data": {
      "text/html": [
       "<pre style=\"white-space:pre;overflow-x:auto;line-height:normal;font-family:Menlo,'DejaVu Sans Mono',consolas,'Courier New',monospace\"><span style=\"font-weight: bold\"> Non-trainable params: </span><span style=\"color: #00af00; text-decoration-color: #00af00\">0</span> (0.00 B)\n",
       "</pre>\n"
      ],
      "text/plain": [
       "\u001b[1m Non-trainable params: \u001b[0m\u001b[38;5;34m0\u001b[0m (0.00 B)\n"
      ]
     },
     "metadata": {},
     "output_type": "display_data"
    }
   ],
   "source": [
    "from tensorflow.keras.layers import LSTM, Dense\n",
    "# Construcción del modelo LSTM\n",
    "model = Sequential([\n",
    "    keras.Input(shape=(sequence_length,1)),\n",
    "    LSTM(50, activation='relu', return_sequences=True),\n",
    "    LSTM(20, activation='relu'),\n",
    "    Dense(48),\n",
    "    Dense(1)\n",
    "])\n",
    "\n",
    "model.summary()\n",
    "model.compile(optimizer='adam', loss='mse')"
   ]
  },
  {
   "cell_type": "code",
   "execution_count": 109,
   "metadata": {},
   "outputs": [],
   "source": [
    "from tensorflow import keras\n",
    "from tensorflow.keras.callbacks import ModelCheckpoint\n",
    "\n",
    "\n",
    "# Configurar checkpoints\n",
    "checkpoint = ModelCheckpoint('model_checkpoint_{epoch}.keras', save_best_only=True, monitor='val_loss', mode='min')"
   ]
  },
  {
   "cell_type": "code",
   "execution_count": 110,
   "metadata": {},
   "outputs": [
    {
     "name": "stdout",
     "output_type": "stream",
     "text": [
      "Epoch 1/40\n",
      "\u001b[1m86/86\u001b[0m \u001b[32m━━━━━━━━━━━━━━━━━━━━\u001b[0m\u001b[37m\u001b[0m \u001b[1m4s\u001b[0m 29ms/step - loss: 26.8464 - val_loss: 6.7207\n",
      "Epoch 2/40\n",
      "\u001b[1m86/86\u001b[0m \u001b[32m━━━━━━━━━━━━━━━━━━━━\u001b[0m\u001b[37m\u001b[0m \u001b[1m0s\u001b[0m 5ms/step - loss: 7.1277 - val_loss: 6.1021\n",
      "Epoch 3/40\n",
      "\u001b[1m86/86\u001b[0m \u001b[32m━━━━━━━━━━━━━━━━━━━━\u001b[0m\u001b[37m\u001b[0m \u001b[1m0s\u001b[0m 5ms/step - loss: 6.4981 - val_loss: 5.7144\n",
      "Epoch 4/40\n",
      "\u001b[1m86/86\u001b[0m \u001b[32m━━━━━━━━━━━━━━━━━━━━\u001b[0m\u001b[37m\u001b[0m \u001b[1m0s\u001b[0m 5ms/step - loss: 6.4286 - val_loss: 6.1962\n",
      "Epoch 5/40\n",
      "\u001b[1m86/86\u001b[0m \u001b[32m━━━━━━━━━━━━━━━━━━━━\u001b[0m\u001b[37m\u001b[0m \u001b[1m0s\u001b[0m 5ms/step - loss: 6.3232 - val_loss: 5.9211\n",
      "Epoch 6/40\n",
      "\u001b[1m86/86\u001b[0m \u001b[32m━━━━━━━━━━━━━━━━━━━━\u001b[0m\u001b[37m\u001b[0m \u001b[1m0s\u001b[0m 5ms/step - loss: 6.2198 - val_loss: 5.7498\n",
      "Epoch 7/40\n",
      "\u001b[1m86/86\u001b[0m \u001b[32m━━━━━━━━━━━━━━━━━━━━\u001b[0m\u001b[37m\u001b[0m \u001b[1m0s\u001b[0m 5ms/step - loss: 6.3622 - val_loss: 5.9126\n",
      "Epoch 8/40\n",
      "\u001b[1m86/86\u001b[0m \u001b[32m━━━━━━━━━━━━━━━━━━━━\u001b[0m\u001b[37m\u001b[0m \u001b[1m0s\u001b[0m 6ms/step - loss: 6.2075 - val_loss: 5.4915\n",
      "Epoch 9/40\n",
      "\u001b[1m86/86\u001b[0m \u001b[32m━━━━━━━━━━━━━━━━━━━━\u001b[0m\u001b[37m\u001b[0m \u001b[1m0s\u001b[0m 5ms/step - loss: 6.1325 - val_loss: 5.6133\n",
      "Epoch 10/40\n",
      "\u001b[1m86/86\u001b[0m \u001b[32m━━━━━━━━━━━━━━━━━━━━\u001b[0m\u001b[37m\u001b[0m \u001b[1m0s\u001b[0m 4ms/step - loss: 6.1837 - val_loss: 5.7338\n",
      "Epoch 11/40\n",
      "\u001b[1m86/86\u001b[0m \u001b[32m━━━━━━━━━━━━━━━━━━━━\u001b[0m\u001b[37m\u001b[0m \u001b[1m1s\u001b[0m 14ms/step - loss: 6.2602 - val_loss: 5.4901\n",
      "Epoch 12/40\n",
      "\u001b[1m86/86\u001b[0m \u001b[32m━━━━━━━━━━━━━━━━━━━━\u001b[0m\u001b[37m\u001b[0m \u001b[1m0s\u001b[0m 5ms/step - loss: 6.1747 - val_loss: 5.6515\n",
      "Epoch 13/40\n",
      "\u001b[1m86/86\u001b[0m \u001b[32m━━━━━━━━━━━━━━━━━━━━\u001b[0m\u001b[37m\u001b[0m \u001b[1m0s\u001b[0m 4ms/step - loss: 6.2133 - val_loss: 5.5515\n",
      "Epoch 14/40\n",
      "\u001b[1m86/86\u001b[0m \u001b[32m━━━━━━━━━━━━━━━━━━━━\u001b[0m\u001b[37m\u001b[0m \u001b[1m0s\u001b[0m 4ms/step - loss: 6.2516 - val_loss: 5.6536\n",
      "Epoch 15/40\n",
      "\u001b[1m86/86\u001b[0m \u001b[32m━━━━━━━━━━━━━━━━━━━━\u001b[0m\u001b[37m\u001b[0m \u001b[1m0s\u001b[0m 5ms/step - loss: 6.1537 - val_loss: 5.8624\n",
      "Epoch 16/40\n",
      "\u001b[1m86/86\u001b[0m \u001b[32m━━━━━━━━━━━━━━━━━━━━\u001b[0m\u001b[37m\u001b[0m \u001b[1m1s\u001b[0m 7ms/step - loss: 6.3551 - val_loss: 5.4305\n",
      "Epoch 17/40\n",
      "\u001b[1m86/86\u001b[0m \u001b[32m━━━━━━━━━━━━━━━━━━━━\u001b[0m\u001b[37m\u001b[0m \u001b[1m1s\u001b[0m 7ms/step - loss: 6.2588 - val_loss: 5.7620\n",
      "Epoch 18/40\n",
      "\u001b[1m86/86\u001b[0m \u001b[32m━━━━━━━━━━━━━━━━━━━━\u001b[0m\u001b[37m\u001b[0m \u001b[1m1s\u001b[0m 6ms/step - loss: 6.1559 - val_loss: 5.7782\n",
      "Epoch 19/40\n",
      "\u001b[1m86/86\u001b[0m \u001b[32m━━━━━━━━━━━━━━━━━━━━\u001b[0m\u001b[37m\u001b[0m \u001b[1m0s\u001b[0m 5ms/step - loss: 6.2402 - val_loss: 5.4426\n",
      "Epoch 20/40\n",
      "\u001b[1m86/86\u001b[0m \u001b[32m━━━━━━━━━━━━━━━━━━━━\u001b[0m\u001b[37m\u001b[0m \u001b[1m0s\u001b[0m 5ms/step - loss: 6.1532 - val_loss: 5.4938\n",
      "Epoch 21/40\n",
      "\u001b[1m86/86\u001b[0m \u001b[32m━━━━━━━━━━━━━━━━━━━━\u001b[0m\u001b[37m\u001b[0m \u001b[1m0s\u001b[0m 5ms/step - loss: 6.1358 - val_loss: 5.5288\n",
      "Epoch 22/40\n",
      "\u001b[1m86/86\u001b[0m \u001b[32m━━━━━━━━━━━━━━━━━━━━\u001b[0m\u001b[37m\u001b[0m \u001b[1m0s\u001b[0m 5ms/step - loss: 6.1860 - val_loss: 5.4265\n",
      "Epoch 23/40\n",
      "\u001b[1m86/86\u001b[0m \u001b[32m━━━━━━━━━━━━━━━━━━━━\u001b[0m\u001b[37m\u001b[0m \u001b[1m1s\u001b[0m 6ms/step - loss: 6.2596 - val_loss: 5.4930\n",
      "Epoch 24/40\n",
      "\u001b[1m86/86\u001b[0m \u001b[32m━━━━━━━━━━━━━━━━━━━━\u001b[0m\u001b[37m\u001b[0m \u001b[1m0s\u001b[0m 5ms/step - loss: 6.1170 - val_loss: 5.6477\n",
      "Epoch 25/40\n",
      "\u001b[1m86/86\u001b[0m \u001b[32m━━━━━━━━━━━━━━━━━━━━\u001b[0m\u001b[37m\u001b[0m \u001b[1m0s\u001b[0m 6ms/step - loss: 6.0776 - val_loss: 5.8538\n",
      "Epoch 26/40\n",
      "\u001b[1m86/86\u001b[0m \u001b[32m━━━━━━━━━━━━━━━━━━━━\u001b[0m\u001b[37m\u001b[0m \u001b[1m0s\u001b[0m 6ms/step - loss: 6.1784 - val_loss: 5.4026\n",
      "Epoch 27/40\n",
      "\u001b[1m86/86\u001b[0m \u001b[32m━━━━━━━━━━━━━━━━━━━━\u001b[0m\u001b[37m\u001b[0m \u001b[1m1s\u001b[0m 6ms/step - loss: 6.0674 - val_loss: 5.4424\n",
      "Epoch 28/40\n",
      "\u001b[1m86/86\u001b[0m \u001b[32m━━━━━━━━━━━━━━━━━━━━\u001b[0m\u001b[37m\u001b[0m \u001b[1m0s\u001b[0m 5ms/step - loss: 6.1371 - val_loss: 5.8431\n",
      "Epoch 29/40\n",
      "\u001b[1m86/86\u001b[0m \u001b[32m━━━━━━━━━━━━━━━━━━━━\u001b[0m\u001b[37m\u001b[0m \u001b[1m1s\u001b[0m 6ms/step - loss: 6.1284 - val_loss: 5.6348\n",
      "Epoch 30/40\n",
      "\u001b[1m86/86\u001b[0m \u001b[32m━━━━━━━━━━━━━━━━━━━━\u001b[0m\u001b[37m\u001b[0m \u001b[1m0s\u001b[0m 6ms/step - loss: 6.0073 - val_loss: 5.6516\n",
      "Epoch 31/40\n",
      "\u001b[1m86/86\u001b[0m \u001b[32m━━━━━━━━━━━━━━━━━━━━\u001b[0m\u001b[37m\u001b[0m \u001b[1m0s\u001b[0m 5ms/step - loss: 6.1067 - val_loss: 5.9448\n",
      "Epoch 32/40\n",
      "\u001b[1m86/86\u001b[0m \u001b[32m━━━━━━━━━━━━━━━━━━━━\u001b[0m\u001b[37m\u001b[0m \u001b[1m0s\u001b[0m 6ms/step - loss: 6.0829 - val_loss: 5.3783\n",
      "Epoch 33/40\n",
      "\u001b[1m86/86\u001b[0m \u001b[32m━━━━━━━━━━━━━━━━━━━━\u001b[0m\u001b[37m\u001b[0m \u001b[1m0s\u001b[0m 5ms/step - loss: 6.0259 - val_loss: 5.5592\n",
      "Epoch 34/40\n",
      "\u001b[1m86/86\u001b[0m \u001b[32m━━━━━━━━━━━━━━━━━━━━\u001b[0m\u001b[37m\u001b[0m \u001b[1m0s\u001b[0m 5ms/step - loss: 6.0521 - val_loss: 5.4472\n",
      "Epoch 35/40\n",
      "\u001b[1m86/86\u001b[0m \u001b[32m━━━━━━━━━━━━━━━━━━━━\u001b[0m\u001b[37m\u001b[0m \u001b[1m1s\u001b[0m 6ms/step - loss: 6.0365 - val_loss: 6.0973\n",
      "Epoch 36/40\n",
      "\u001b[1m86/86\u001b[0m \u001b[32m━━━━━━━━━━━━━━━━━━━━\u001b[0m\u001b[37m\u001b[0m \u001b[1m0s\u001b[0m 5ms/step - loss: 6.0811 - val_loss: 5.4547\n",
      "Epoch 37/40\n",
      "\u001b[1m86/86\u001b[0m \u001b[32m━━━━━━━━━━━━━━━━━━━━\u001b[0m\u001b[37m\u001b[0m \u001b[1m0s\u001b[0m 5ms/step - loss: 6.1331 - val_loss: 5.7375\n",
      "Epoch 38/40\n",
      "\u001b[1m86/86\u001b[0m \u001b[32m━━━━━━━━━━━━━━━━━━━━\u001b[0m\u001b[37m\u001b[0m \u001b[1m0s\u001b[0m 5ms/step - loss: 6.3561 - val_loss: 5.3954\n",
      "Epoch 39/40\n",
      "\u001b[1m86/86\u001b[0m \u001b[32m━━━━━━━━━━━━━━━━━━━━\u001b[0m\u001b[37m\u001b[0m \u001b[1m0s\u001b[0m 5ms/step - loss: 6.0822 - val_loss: 5.6279\n",
      "Epoch 40/40\n",
      "\u001b[1m86/86\u001b[0m \u001b[32m━━━━━━━━━━━━━━━━━━━━\u001b[0m\u001b[37m\u001b[0m \u001b[1m0s\u001b[0m 5ms/step - loss: 6.0367 - val_loss: 5.7244\n"
     ]
    },
    {
     "data": {
      "text/plain": [
       "<keras.src.callbacks.history.History at 0x1647a4c2490>"
      ]
     },
     "execution_count": 110,
     "metadata": {},
     "output_type": "execute_result"
    }
   ],
   "source": [
    "# Entrenar el modelo\n",
    "model.fit(X_train, y_train, epochs=40, batch_size=32, validation_data=(X_test, y_test), callbacks=[checkpoint])"
   ]
  },
  {
   "cell_type": "code",
   "execution_count": 111,
   "metadata": {},
   "outputs": [
    {
     "name": "stdout",
     "output_type": "stream",
     "text": [
      "WARNING:tensorflow:5 out of the last 11 calls to <function TensorFlowTrainer.make_predict_function.<locals>.one_step_on_data_distributed at 0x000001647D554360> triggered tf.function retracing. Tracing is expensive and the excessive number of tracings could be due to (1) creating @tf.function repeatedly in a loop, (2) passing tensors with different shapes, (3) passing Python objects instead of tensors. For (1), please define your @tf.function outside of the loop. For (2), @tf.function has reduce_retracing=True option that can avoid unnecessary retracing. For (3), please refer to https://www.tensorflow.org/guide/function#controlling_retracing and https://www.tensorflow.org/api_docs/python/tf/function for  more details.\n",
      "\u001b[1m57/57\u001b[0m \u001b[32m━━━━━━━━━━━━━━━━━━━━\u001b[0m\u001b[37m\u001b[0m \u001b[1m1s\u001b[0m 6ms/step\n"
     ]
    }
   ],
   "source": [
    "# Predicción sobre el conjunto de prueba\n",
    "y_pred = model.predict(X_test, batch_size=16)"
   ]
  },
  {
   "cell_type": "code",
   "execution_count": 113,
   "metadata": {},
   "outputs": [
    {
     "name": "stdout",
     "output_type": "stream",
     "text": [
      "Error cuadrático medio (MSE) con sequence_length=7: 5.72440767288208\n"
     ]
    }
   ],
   "source": [
    "from sklearn.metrics import mean_squared_error\n",
    "# Calcular métrica de evaluación (MSE)\n",
    "mse = mean_squared_error(y_test, y_pred)\n",
    "print(f'Error cuadrático medio (MSE) con sequence_length={sequence_length}: {mse}')"
   ]
  },
  {
   "cell_type": "code",
   "execution_count": 114,
   "metadata": {},
   "outputs": [
    {
     "data": {
      "image/png": "[encoded data removed]",
      "text/plain": [
       "<Figure size 1000x500 with 1 Axes>"
      ]
     },
     "metadata": {},
     "output_type": "display_data"
    }
   ],
   "source": [
    "# Graficar predicciones vs valores reales\n",
    "plt.figure(figsize=(10, 5))\n",
    "plt.plot(y_test, label='Valores reales')\n",
    "plt.plot(y_pred, label='Predicciones')\n",
    "plt.legend()\n",
    "plt.xlabel('Índice de muestra')\n",
    "plt.ylabel('Valor')\n",
    "plt.title(f'Comparación de Predicciones vs Valores Reales (seq_length={sequence_length})')\n",
    "plt.show()"
   ]
  },
  {
   "cell_type": "markdown",
   "metadata": {},
   "source": [
    "## **[43]** Utilizando como modelo el modelo LSTM del ejemplo, seleccione un dataset de la carpeta suministrada y entrene un nuevo modelo, modificando la arquitectura de la red. \n",
    "Obs. Puede añadir a esta sección las celdas de código que necesite."
   ]
  },
  {
   "cell_type": "code",
   "execution_count": null,
   "metadata": {},
   "outputs": [
    {
     "data": {
      "text/html": [
       "<div>\n",
       "<style scoped>\n",
       "    .dataframe tbody tr th:only-of-type {\n",
       "        vertical-align: middle;\n",
       "    }\n",
       "\n",
       "    .dataframe tbody tr th {\n",
       "        vertical-align: top;\n",
       "    }\n",
       "\n",
       "    .dataframe thead th {\n",
       "        text-align: right;\n",
       "    }\n",
       "</style>\n",
       "<table border=\"1\" class=\"dataframe\">\n",
       "  <thead>\n",
       "    <tr style=\"text-align: right;\">\n",
       "      <th></th>\n",
       "      <th>DATE</th>\n",
       "      <th>IPG2211A2N</th>\n",
       "    </tr>\n",
       "  </thead>\n",
       "  <tbody>\n",
       "    <tr>\n",
       "      <th>0</th>\n",
       "      <td>1/1/1985</td>\n",
       "      <td>72.5052</td>\n",
       "    </tr>\n",
       "    <tr>\n",
       "      <th>1</th>\n",
       "      <td>2/1/1985</td>\n",
       "      <td>70.6720</td>\n",
       "    </tr>\n",
       "    <tr>\n",
       "      <th>2</th>\n",
       "      <td>3/1/1985</td>\n",
       "      <td>62.4502</td>\n",
       "    </tr>\n",
       "    <tr>\n",
       "      <th>3</th>\n",
       "      <td>4/1/1985</td>\n",
       "      <td>57.4714</td>\n",
       "    </tr>\n",
       "    <tr>\n",
       "      <th>4</th>\n",
       "      <td>5/1/1985</td>\n",
       "      <td>55.3151</td>\n",
       "    </tr>\n",
       "  </tbody>\n",
       "</table>\n",
       "</div>"
      ],
      "text/plain": [
       "       DATE  IPG2211A2N\n",
       "0  1/1/1985     72.5052\n",
       "1  2/1/1985     70.6720\n",
       "2  3/1/1985     62.4502\n",
       "3  4/1/1985     57.4714\n",
       "4  5/1/1985     55.3151"
      ]
     },
     "execution_count": 118,
     "metadata": {},
     "output_type": "execute_result"
    }
   ],
   "source": [
    "datosEP = pd.read_csv('Electric_Production.csv')\n",
    "datosEP.head()"
   ]
  },
  {
   "cell_type": "code",
   "execution_count": 119,
   "metadata": {},
   "outputs": [],
   "source": [
    "# Extraer la columna con la serie (IPG2211A2N)\n",
    "datosTempo = datosEP.iloc[:, 1]  # Segunda columna con los valores de producción\n",
    "\n",
    "# Asegurar el tipo de dato flotante \n",
    "datosTempo = pd.to_numeric(datosTempo, errors='coerce', downcast='float')\n",
    "datosTempo = datosTempo.dropna()  # Eliminar valores NaN si los hay\n"
   ]
  },
  {
   "cell_type": "code",
   "execution_count": 120,
   "metadata": {},
   "outputs": [],
   "source": [
    "# Crear secuencias de entrada y etiquetas\n",
    "sequence_length = 7  # Tamaño de secuencia\n",
    "\n",
    "def create_sequences(data, sequence_length):\n",
    "    X, y = [], []\n",
    "    for i in range(len(data) - sequence_length):\n",
    "        X.append(data[i:i + sequence_length])\n",
    "        y.append(data[i + sequence_length])\n",
    "    return np.array(X), np.array(y)\n",
    "\n",
    "X, y = create_sequences(np.array(datosTempo), sequence_length)\n",
    "X = X.reshape((X.shape[0], X.shape[1], 1))  # Añadir dimensión para LSTM\n"
   ]
  },
  {
   "cell_type": "code",
   "execution_count": 121,
   "metadata": {},
   "outputs": [],
   "source": [
    "# Dividir en entrenamiento y prueba\n",
    "split = int(len(X) * 0.75)\n",
    "X_train, X_test = X[:split], X[split:]\n",
    "y_train, y_test = y[:split], y[split:]"
   ]
  },
  {
   "cell_type": "code",
   "execution_count": 122,
   "metadata": {},
   "outputs": [],
   "source": [
    "# Construcción del modelo LSTM\n",
    "model = Sequential([\n",
    "    keras.Input(shape=(sequence_length,1)),\n",
    "    LSTM(50, activation='relu', return_sequences=True),\n",
    "    LSTM(20, activation='relu'),\n",
    "    Dense(48),\n",
    "    Dense(1)\n",
    "])"
   ]
  },
  {
   "cell_type": "code",
   "execution_count": 123,
   "metadata": {},
   "outputs": [
    {
     "data": {
      "text/html": [
       "<pre style=\"white-space:pre;overflow-x:auto;line-height:normal;font-family:Menlo,'DejaVu Sans Mono',consolas,'Courier New',monospace\"><span style=\"font-weight: bold\">Model: \"sequential_4\"</span>\n",
       "</pre>\n"
      ],
      "text/plain": [
       "\u001b[1mModel: \"sequential_4\"\u001b[0m\n"
      ]
     },
     "metadata": {},
     "output_type": "display_data"
    },
    {
     "data": {
      "text/html": [
       "<pre style=\"white-space:pre;overflow-x:auto;line-height:normal;font-family:Menlo,'DejaVu Sans Mono',consolas,'Courier New',monospace\">┏━━━━━━━━━━━━━━━━━━━━━━━━━━━━━━━━━┳━━━━━━━━━━━━━━━━━━━━━━━━┳━━━━━━━━━━━━━━━┓\n",
       "┃<span style=\"font-weight: bold\"> Layer (type)                    </span>┃<span style=\"font-weight: bold\"> Output Shape           </span>┃<span style=\"font-weight: bold\">       Param # </span>┃\n",
       "┡━━━━━━━━━━━━━━━━━━━━━━━━━━━━━━━━━╇━━━━━━━━━━━━━━━━━━━━━━━━╇━━━━━━━━━━━━━━━┩\n",
       "│ lstm_2 (<span style=\"color: #0087ff; text-decoration-color: #0087ff\">LSTM</span>)                   │ (<span style=\"color: #00d7ff; text-decoration-color: #00d7ff\">None</span>, <span style=\"color: #00af00; text-decoration-color: #00af00\">7</span>, <span style=\"color: #00af00; text-decoration-color: #00af00\">50</span>)          │        <span style=\"color: #00af00; text-decoration-color: #00af00\">10,400</span> │\n",
       "├─────────────────────────────────┼────────────────────────┼───────────────┤\n",
       "│ lstm_3 (<span style=\"color: #0087ff; text-decoration-color: #0087ff\">LSTM</span>)                   │ (<span style=\"color: #00d7ff; text-decoration-color: #00d7ff\">None</span>, <span style=\"color: #00af00; text-decoration-color: #00af00\">20</span>)             │         <span style=\"color: #00af00; text-decoration-color: #00af00\">5,680</span> │\n",
       "├─────────────────────────────────┼────────────────────────┼───────────────┤\n",
       "│ dense_8 (<span style=\"color: #0087ff; text-decoration-color: #0087ff\">Dense</span>)                 │ (<span style=\"color: #00d7ff; text-decoration-color: #00d7ff\">None</span>, <span style=\"color: #00af00; text-decoration-color: #00af00\">48</span>)             │         <span style=\"color: #00af00; text-decoration-color: #00af00\">1,008</span> │\n",
       "├─────────────────────────────────┼────────────────────────┼───────────────┤\n",
       "│ dense_9 (<span style=\"color: #0087ff; text-decoration-color: #0087ff\">Dense</span>)                 │ (<span style=\"color: #00d7ff; text-decoration-color: #00d7ff\">None</span>, <span style=\"color: #00af00; text-decoration-color: #00af00\">1</span>)              │            <span style=\"color: #00af00; text-decoration-color: #00af00\">49</span> │\n",
       "└─────────────────────────────────┴────────────────────────┴───────────────┘\n",
       "</pre>\n"
      ],
      "text/plain": [
       "┏━━━━━━━━━━━━━━━━━━━━━━━━━━━━━━━━━┳━━━━━━━━━━━━━━━━━━━━━━━━┳━━━━━━━━━━━━━━━┓\n",
       "┃\u001b[1m \u001b[0m\u001b[1mLayer (type)                   \u001b[0m\u001b[1m \u001b[0m┃\u001b[1m \u001b[0m\u001b[1mOutput Shape          \u001b[0m\u001b[1m \u001b[0m┃\u001b[1m \u001b[0m\u001b[1m      Param #\u001b[0m\u001b[1m \u001b[0m┃\n",
       "┡━━━━━━━━━━━━━━━━━━━━━━━━━━━━━━━━━╇━━━━━━━━━━━━━━━━━━━━━━━━╇━━━━━━━━━━━━━━━┩\n",
       "│ lstm_2 (\u001b[38;5;33mLSTM\u001b[0m)                   │ (\u001b[38;5;45mNone\u001b[0m, \u001b[38;5;34m7\u001b[0m, \u001b[38;5;34m50\u001b[0m)          │        \u001b[38;5;34m10,400\u001b[0m │\n",
       "├─────────────────────────────────┼────────────────────────┼───────────────┤\n",
       "│ lstm_3 (\u001b[38;5;33mLSTM\u001b[0m)                   │ (\u001b[38;5;45mNone\u001b[0m, \u001b[38;5;34m20\u001b[0m)             │         \u001b[38;5;34m5,680\u001b[0m │\n",
       "├─────────────────────────────────┼────────────────────────┼───────────────┤\n",
       "│ dense_8 (\u001b[38;5;33mDense\u001b[0m)                 │ (\u001b[38;5;45mNone\u001b[0m, \u001b[38;5;34m48\u001b[0m)             │         \u001b[38;5;34m1,008\u001b[0m │\n",
       "├─────────────────────────────────┼────────────────────────┼───────────────┤\n",
       "│ dense_9 (\u001b[38;5;33mDense\u001b[0m)                 │ (\u001b[38;5;45mNone\u001b[0m, \u001b[38;5;34m1\u001b[0m)              │            \u001b[38;5;34m49\u001b[0m │\n",
       "└─────────────────────────────────┴────────────────────────┴───────────────┘\n"
      ]
     },
     "metadata": {},
     "output_type": "display_data"
    },
    {
     "data": {
      "text/html": [
       "<pre style=\"white-space:pre;overflow-x:auto;line-height:normal;font-family:Menlo,'DejaVu Sans Mono',consolas,'Courier New',monospace\"><span style=\"font-weight: bold\"> Total params: </span><span style=\"color: #00af00; text-decoration-color: #00af00\">17,137</span> (66.94 KB)\n",
       "</pre>\n"
      ],
      "text/plain": [
       "\u001b[1m Total params: \u001b[0m\u001b[38;5;34m17,137\u001b[0m (66.94 KB)\n"
      ]
     },
     "metadata": {},
     "output_type": "display_data"
    },
    {
     "data": {
      "text/html": [
       "<pre style=\"white-space:pre;overflow-x:auto;line-height:normal;font-family:Menlo,'DejaVu Sans Mono',consolas,'Courier New',monospace\"><span style=\"font-weight: bold\"> Trainable params: </span><span style=\"color: #00af00; text-decoration-color: #00af00\">17,137</span> (66.94 KB)\n",
       "</pre>\n"
      ],
      "text/plain": [
       "\u001b[1m Trainable params: \u001b[0m\u001b[38;5;34m17,137\u001b[0m (66.94 KB)\n"
      ]
     },
     "metadata": {},
     "output_type": "display_data"
    },
    {
     "data": {
      "text/html": [
       "<pre style=\"white-space:pre;overflow-x:auto;line-height:normal;font-family:Menlo,'DejaVu Sans Mono',consolas,'Courier New',monospace\"><span style=\"font-weight: bold\"> Non-trainable params: </span><span style=\"color: #00af00; text-decoration-color: #00af00\">0</span> (0.00 B)\n",
       "</pre>\n"
      ],
      "text/plain": [
       "\u001b[1m Non-trainable params: \u001b[0m\u001b[38;5;34m0\u001b[0m (0.00 B)\n"
      ]
     },
     "metadata": {},
     "output_type": "display_data"
    }
   ],
   "source": [
    "model.summary()"
   ]
  },
  {
   "cell_type": "code",
   "execution_count": 124,
   "metadata": {},
   "outputs": [],
   "source": [
    "model.compile(optimizer='adam', loss='mse')"
   ]
  },
  {
   "cell_type": "code",
   "execution_count": 125,
   "metadata": {},
   "outputs": [],
   "source": [
    "# Configurar checkpoints\n",
    "checkpoint = ModelCheckpoint('model_checkpoint_{epoch}.keras', save_best_only=True, monitor='val_loss', mode='min')"
   ]
  },
  {
   "cell_type": "code",
   "execution_count": 126,
   "metadata": {},
   "outputs": [
    {
     "name": "stdout",
     "output_type": "stream",
     "text": [
      "Epoch 1/40\n",
      "\u001b[1m10/10\u001b[0m \u001b[32m━━━━━━━━━━━━━━━━━━━━\u001b[0m\u001b[37m\u001b[0m \u001b[1m4s\u001b[0m 45ms/step - loss: 5108.7466 - val_loss: 3279.8914\n",
      "Epoch 2/40\n",
      "\u001b[1m10/10\u001b[0m \u001b[32m━━━━━━━━━━━━━━━━━━━━\u001b[0m\u001b[37m\u001b[0m \u001b[1m0s\u001b[0m 14ms/step - loss: 833.3514 - val_loss: 644.8978\n",
      "Epoch 3/40\n",
      "\u001b[1m10/10\u001b[0m \u001b[32m━━━━━━━━━━━━━━━━━━━━\u001b[0m\u001b[37m\u001b[0m \u001b[1m0s\u001b[0m 12ms/step - loss: 252.5988 - val_loss: 150.8569\n",
      "Epoch 4/40\n",
      "\u001b[1m10/10\u001b[0m \u001b[32m━━━━━━━━━━━━━━━━━━━━\u001b[0m\u001b[37m\u001b[0m \u001b[1m0s\u001b[0m 12ms/step - loss: 52.8457 - val_loss: 85.0997\n",
      "Epoch 5/40\n",
      "\u001b[1m10/10\u001b[0m \u001b[32m━━━━━━━━━━━━━━━━━━━━\u001b[0m\u001b[37m\u001b[0m \u001b[1m0s\u001b[0m 12ms/step - loss: 43.1872 - val_loss: 57.9498\n",
      "Epoch 6/40\n",
      "\u001b[1m10/10\u001b[0m \u001b[32m━━━━━━━━━━━━━━━━━━━━\u001b[0m\u001b[37m\u001b[0m \u001b[1m0s\u001b[0m 14ms/step - loss: 35.2440 - val_loss: 56.3970\n",
      "Epoch 7/40\n",
      "\u001b[1m10/10\u001b[0m \u001b[32m━━━━━━━━━━━━━━━━━━━━\u001b[0m\u001b[37m\u001b[0m \u001b[1m0s\u001b[0m 12ms/step - loss: 35.6688 - val_loss: 55.0791\n",
      "Epoch 8/40\n",
      "\u001b[1m10/10\u001b[0m \u001b[32m━━━━━━━━━━━━━━━━━━━━\u001b[0m\u001b[37m\u001b[0m \u001b[1m0s\u001b[0m 13ms/step - loss: 32.1180 - val_loss: 49.6043\n",
      "Epoch 9/40\n",
      "\u001b[1m10/10\u001b[0m \u001b[32m━━━━━━━━━━━━━━━━━━━━\u001b[0m\u001b[37m\u001b[0m \u001b[1m0s\u001b[0m 12ms/step - loss: 29.0799 - val_loss: 41.6330\n",
      "Epoch 10/40\n",
      "\u001b[1m10/10\u001b[0m \u001b[32m━━━━━━━━━━━━━━━━━━━━\u001b[0m\u001b[37m\u001b[0m \u001b[1m0s\u001b[0m 13ms/step - loss: 26.5002 - val_loss: 38.4255\n",
      "Epoch 11/40\n",
      "\u001b[1m10/10\u001b[0m \u001b[32m━━━━━━━━━━━━━━━━━━━━\u001b[0m\u001b[37m\u001b[0m \u001b[1m0s\u001b[0m 12ms/step - loss: 26.8370 - val_loss: 35.2617\n",
      "Epoch 12/40\n",
      "\u001b[1m10/10\u001b[0m \u001b[32m━━━━━━━━━━━━━━━━━━━━\u001b[0m\u001b[37m\u001b[0m \u001b[1m0s\u001b[0m 9ms/step - loss: 24.3944 - val_loss: 55.8582\n",
      "Epoch 13/40\n",
      "\u001b[1m10/10\u001b[0m \u001b[32m━━━━━━━━━━━━━━━━━━━━\u001b[0m\u001b[37m\u001b[0m \u001b[1m0s\u001b[0m 9ms/step - loss: 29.1698 - val_loss: 53.0809\n",
      "Epoch 14/40\n",
      "\u001b[1m10/10\u001b[0m \u001b[32m━━━━━━━━━━━━━━━━━━━━\u001b[0m\u001b[37m\u001b[0m \u001b[1m0s\u001b[0m 11ms/step - loss: 32.4932 - val_loss: 58.5237\n",
      "Epoch 15/40\n",
      "\u001b[1m10/10\u001b[0m \u001b[32m━━━━━━━━━━━━━━━━━━━━\u001b[0m\u001b[37m\u001b[0m \u001b[1m0s\u001b[0m 12ms/step - loss: 27.6720 - val_loss: 49.0740\n",
      "Epoch 16/40\n",
      "\u001b[1m10/10\u001b[0m \u001b[32m━━━━━━━━━━━━━━━━━━━━\u001b[0m\u001b[37m\u001b[0m \u001b[1m0s\u001b[0m 10ms/step - loss: 26.8541 - val_loss: 35.7012\n",
      "Epoch 17/40\n",
      "\u001b[1m10/10\u001b[0m \u001b[32m━━━━━━━━━━━━━━━━━━━━\u001b[0m\u001b[37m\u001b[0m \u001b[1m0s\u001b[0m 12ms/step - loss: 23.6530 - val_loss: 28.4940\n",
      "Epoch 18/40\n",
      "\u001b[1m10/10\u001b[0m \u001b[32m━━━━━━━━━━━━━━━━━━━━\u001b[0m\u001b[37m\u001b[0m \u001b[1m0s\u001b[0m 11ms/step - loss: 21.0848 - val_loss: 26.5531\n",
      "Epoch 19/40\n",
      "\u001b[1m10/10\u001b[0m \u001b[32m━━━━━━━━━━━━━━━━━━━━\u001b[0m\u001b[37m\u001b[0m \u001b[1m0s\u001b[0m 9ms/step - loss: 18.2437 - val_loss: 28.0706\n",
      "Epoch 20/40\n",
      "\u001b[1m10/10\u001b[0m \u001b[32m━━━━━━━━━━━━━━━━━━━━\u001b[0m\u001b[37m\u001b[0m \u001b[1m0s\u001b[0m 10ms/step - loss: 17.4778 - val_loss: 36.3748\n",
      "Epoch 21/40\n",
      "\u001b[1m10/10\u001b[0m \u001b[32m━━━━━━━━━━━━━━━━━━━━\u001b[0m\u001b[37m\u001b[0m \u001b[1m0s\u001b[0m 9ms/step - loss: 16.9984 - val_loss: 27.6442\n",
      "Epoch 22/40\n",
      "\u001b[1m10/10\u001b[0m \u001b[32m━━━━━━━━━━━━━━━━━━━━\u001b[0m\u001b[37m\u001b[0m \u001b[1m0s\u001b[0m 12ms/step - loss: 15.5889 - val_loss: 20.6089\n",
      "Epoch 23/40\n",
      "\u001b[1m10/10\u001b[0m \u001b[32m━━━━━━━━━━━━━━━━━━━━\u001b[0m\u001b[37m\u001b[0m \u001b[1m0s\u001b[0m 12ms/step - loss: 15.7554 - val_loss: 20.4684\n",
      "Epoch 24/40\n",
      "\u001b[1m10/10\u001b[0m \u001b[32m━━━━━━━━━━━━━━━━━━━━\u001b[0m\u001b[37m\u001b[0m \u001b[1m0s\u001b[0m 9ms/step - loss: 14.1175 - val_loss: 20.7465\n",
      "Epoch 25/40\n",
      "\u001b[1m10/10\u001b[0m \u001b[32m━━━━━━━━━━━━━━━━━━━━\u001b[0m\u001b[37m\u001b[0m \u001b[1m0s\u001b[0m 9ms/step - loss: 14.5346 - val_loss: 43.0375\n",
      "Epoch 26/40\n",
      "\u001b[1m10/10\u001b[0m \u001b[32m━━━━━━━━━━━━━━━━━━━━\u001b[0m\u001b[37m\u001b[0m \u001b[1m0s\u001b[0m 9ms/step - loss: 18.1080 - val_loss: 40.5429\n",
      "Epoch 27/40\n",
      "\u001b[1m10/10\u001b[0m \u001b[32m━━━━━━━━━━━━━━━━━━━━\u001b[0m\u001b[37m\u001b[0m \u001b[1m0s\u001b[0m 10ms/step - loss: 21.0297 - val_loss: 53.7056\n",
      "Epoch 28/40\n",
      "\u001b[1m10/10\u001b[0m \u001b[32m━━━━━━━━━━━━━━━━━━━━\u001b[0m\u001b[37m\u001b[0m \u001b[1m0s\u001b[0m 9ms/step - loss: 20.4478 - val_loss: 50.7489\n",
      "Epoch 29/40\n",
      "\u001b[1m10/10\u001b[0m \u001b[32m━━━━━━━━━━━━━━━━━━━━\u001b[0m\u001b[37m\u001b[0m \u001b[1m0s\u001b[0m 9ms/step - loss: 19.9653 - val_loss: 28.0765\n",
      "Epoch 30/40\n",
      "\u001b[1m10/10\u001b[0m \u001b[32m━━━━━━━━━━━━━━━━━━━━\u001b[0m\u001b[37m\u001b[0m \u001b[1m0s\u001b[0m 11ms/step - loss: 13.6803 - val_loss: 19.5236\n",
      "Epoch 31/40\n",
      "\u001b[1m10/10\u001b[0m \u001b[32m━━━━━━━━━━━━━━━━━━━━\u001b[0m\u001b[37m\u001b[0m \u001b[1m0s\u001b[0m 11ms/step - loss: 12.9768 - val_loss: 18.3893\n",
      "Epoch 32/40\n",
      "\u001b[1m10/10\u001b[0m \u001b[32m━━━━━━━━━━━━━━━━━━━━\u001b[0m\u001b[37m\u001b[0m \u001b[1m0s\u001b[0m 11ms/step - loss: 11.8902 - val_loss: 18.0522\n",
      "Epoch 33/40\n",
      "\u001b[1m10/10\u001b[0m \u001b[32m━━━━━━━━━━━━━━━━━━━━\u001b[0m\u001b[37m\u001b[0m \u001b[1m0s\u001b[0m 9ms/step - loss: 12.6559 - val_loss: 18.3439\n",
      "Epoch 34/40\n",
      "\u001b[1m10/10\u001b[0m \u001b[32m━━━━━━━━━━━━━━━━━━━━\u001b[0m\u001b[37m\u001b[0m \u001b[1m0s\u001b[0m 9ms/step - loss: 11.4555 - val_loss: 18.9588\n",
      "Epoch 35/40\n",
      "\u001b[1m10/10\u001b[0m \u001b[32m━━━━━━━━━━━━━━━━━━━━\u001b[0m\u001b[37m\u001b[0m \u001b[1m0s\u001b[0m 10ms/step - loss: 11.5169 - val_loss: 18.0835\n",
      "Epoch 36/40\n",
      "\u001b[1m10/10\u001b[0m \u001b[32m━━━━━━━━━━━━━━━━━━━━\u001b[0m\u001b[37m\u001b[0m \u001b[1m0s\u001b[0m 10ms/step - loss: 12.9509 - val_loss: 22.5983\n",
      "Epoch 37/40\n",
      "\u001b[1m10/10\u001b[0m \u001b[32m━━━━━━━━━━━━━━━━━━━━\u001b[0m\u001b[37m\u001b[0m \u001b[1m0s\u001b[0m 10ms/step - loss: 14.3416 - val_loss: 23.9269\n",
      "Epoch 38/40\n",
      "\u001b[1m10/10\u001b[0m \u001b[32m━━━━━━━━━━━━━━━━━━━━\u001b[0m\u001b[37m\u001b[0m \u001b[1m0s\u001b[0m 8ms/step - loss: 13.9436 - val_loss: 18.7512\n",
      "Epoch 39/40\n",
      "\u001b[1m10/10\u001b[0m \u001b[32m━━━━━━━━━━━━━━━━━━━━\u001b[0m\u001b[37m\u001b[0m \u001b[1m0s\u001b[0m 13ms/step - loss: 11.0103 - val_loss: 20.9199\n",
      "Epoch 40/40\n",
      "\u001b[1m10/10\u001b[0m \u001b[32m━━━━━━━━━━━━━━━━━━━━\u001b[0m\u001b[37m\u001b[0m \u001b[1m0s\u001b[0m 10ms/step - loss: 11.0798 - val_loss: 29.8544\n"
     ]
    },
    {
     "data": {
      "text/plain": [
       "<keras.src.callbacks.history.History at 0x1640122d190>"
      ]
     },
     "execution_count": 126,
     "metadata": {},
     "output_type": "execute_result"
    }
   ],
   "source": [
    "# Entrenar el modelo\n",
    "model.fit(X_train, y_train, epochs=40, batch_size=32, validation_data=(X_test, y_test), callbacks=[checkpoint])"
   ]
  },
  {
   "cell_type": "code",
   "execution_count": 127,
   "metadata": {},
   "outputs": [
    {
     "name": "stdout",
     "output_type": "stream",
     "text": [
      "\u001b[1m7/7\u001b[0m \u001b[32m━━━━━━━━━━━━━━━━━━━━\u001b[0m\u001b[37m\u001b[0m \u001b[1m0s\u001b[0m 30ms/step\n"
     ]
    }
   ],
   "source": [
    "# Predicción sobre el conjunto de prueba\n",
    "y_pred = model.predict(X_test, batch_size=16)"
   ]
  },
  {
   "cell_type": "code",
   "execution_count": 128,
   "metadata": {},
   "outputs": [
    {
     "name": "stdout",
     "output_type": "stream",
     "text": [
      "Error cuadrático medio (MSE): 29.854415893554688\n"
     ]
    }
   ],
   "source": [
    "# Calcular métrica de evaluación (MSE)\n",
    "mse = mean_squared_error(y_test, y_pred)\n",
    "print(f'Error cuadrático medio (MSE): {mse}')"
   ]
  },
  {
   "cell_type": "code",
   "execution_count": 129,
   "metadata": {},
   "outputs": [
    {
     "data": {
      "image/png": "[encoded data removed]",
      "text/plain": [
       "<Figure size 1000x500 with 1 Axes>"
      ]
     },
     "metadata": {},
     "output_type": "display_data"
    }
   ],
   "source": [
    "# Graficar predicciones vs valores reales\n",
    "plt.figure(figsize=(10, 5))\n",
    "plt.plot(y_test, label='Valores reales')\n",
    "plt.plot(y_pred, label='Predicciones')\n",
    "plt.legend()\n",
    "plt.xlabel('Índice de muestra')\n",
    "plt.ylabel('Valor')\n",
    "plt.title('Comparación de Predicciones vs Valores Reales')\n",
    "plt.show()\n"
   ]
  },
  {
   "cell_type": "markdown",
   "metadata": {},
   "source": [
    "## **[44]** Conclusiones "
   ]
  },
  {
   "cell_type": "code",
   "execution_count": null,
   "metadata": {},
   "outputs": [],
   "source": []
  }
 ],
 "metadata": {
  "kernelspec": {
   "display_name": "base",
   "language": "python",
   "name": "python3"
  },
  "language_info": {
   "codemirror_mode": {
    "name": "ipython",
    "version": 3
   },
   "file_extension": ".py",
   "mimetype": "text/x-python",
   "name": "python",
   "nbconvert_exporter": "python",
   "pygments_lexer": "ipython3",
   "version": "3.11.7"
  },
  "toc-showmarkdowntxt": false
 },
 "nbformat": 4,
 "nbformat_minor": 4
}
