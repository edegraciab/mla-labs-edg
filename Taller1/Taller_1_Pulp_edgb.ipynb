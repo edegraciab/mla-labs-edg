{
 "cells": [
  {
   "cell_type": "markdown",
   "id": "13f8d047-2c0b-42bd-b230-f68b54f2907d",
   "metadata": {},
   "source": [
    "<h3 style=\"text-align: center;\"> <strong> UNIVERSIDAD TECNOLÓGICA DE PANAMÁ </strong></h3>\n",
    "<h3 style=\"text-align: center;\">FACULTAD DE INGENIERÍA DE SISTEMAS COMPUTACIONALES</h3>\n",
    "<h3 style=\"text-align: center;\">MAESTRÍA EN ANALÍTICA DE DATOS</h3>\n",
    "    \n",
    "<h1 style=\"text-align: center;\"><strong>-----TALLER 1 - OPTIMIZACION CON PYTHON-----</strong></h1>\n",
    "<h3 style=\"text-align: center;\">MACHINE LEARNING Y ANALITICA PRESCRIPTIVA - S108</h3>\n",
    "\n",
    "\n",
    "\n",
    "\n",
    "|  **FACILITADOR** | Dr. José Carlos Rangel Ortiz          |\n",
    "|-----------------|---------------------------------------|\n",
    "| **MÓDULO 3**    | Aplicaciones  |"
   ]
  },
  {
   "cell_type": "markdown",
   "id": "0a39e934-a1b7-4b9a-bf95-a3146def37d8",
   "metadata": {},
   "source": [
    "## Introducción \n",
    "\n",
    "La optimización es la rama de las matemáticas que se dedica a encontrar el mejor elemento (con un criterio definido) dentro de un conjunto de posibilidades. En otras palabras, buscamos la solución que maximice o minimice una función objetivo, ya sea que se trate de encontrar la ruta más corta entre dos puntos, la asignación más eficiente de recursos o la inversión más rentable.\n",
    "\n",
    "### Elementos clave de la optimización:\n",
    "\n",
    "Problema de optimización: Un problema que busca encontrar el valor máximo o mínimo de una función objetivo, sujeto a un conjunto de restricciones.\n",
    "- **Función objetivo**: La función que se quiere maximizar o minimizar en un problema de optimización.\n",
    "- **Restricciones**: Las condiciones que limitan las soluciones posibles del problema de optimización.\n",
    "- **Variable de decisión**: La variable que se puede controlar para encontrar la solución óptima del problema.\n",
    "- **Solución óptima**: El valor de la variable de decisión que maximiza o minimiza la función objetivo, cumpliendo con todas las restricciones.\n",
    "### Tipos de problemas de optimización:\n",
    "\n",
    "- **Programación lineal**: Cuando la función objetivo y las restricciones son funciones lineales de las variables de decisión.\n",
    "- **Programación no lineal**: Cuando la función objetivo o las restricciones no son funciones lineales de las variables de decisión.\n",
    "- **Optimización combinatoria**: Cuando las variables de decisión pueden tomar valores discretos (por ejemplo, 0 o 1) y el número de posibles soluciones es muy grande.\n",
    "\n",
    "\n",
    "### La optimización se aplica en una amplia variedad de campos, incluyendo:\n",
    "\n",
    "- **Ingeniería**: Diseño de estructuras, planificación de rutas, optimización de procesos.\n",
    "- **Economía**: Modelos económicos, asignación de recursos, gestión de inversiones.\n",
    "- **Finanzas**: Optimización de portafolios, análisis de riesgo, valoración de activos.\n",
    "- **Ciencias de la computación**: Algoritmos de búsqueda, redes neuronales, aprendizaje automático.\n",
    "- **Logística**: Planificación de la cadena de suministro, gestión de inventarios, programación de transporte.\n",
    "- **Ciencias naturales**: Modelos físicos, simulaciones científicas, optimización de experimentos."
   ]
  },
  {
   "cell_type": "markdown",
   "id": "8e44c5c0-40ba-42ce-a289-b11500e4b56d",
   "metadata": {},
   "source": [
    "# Primera Parte\n",
    "# Ejemplo de Optimizacion con restricciones mediante Programación Lineal con PuLP\n",
    "\n",
    "## Se tiene el siguiente problema\n",
    "\n",
    "Maximizar \n",
    "$$Z = 3x_1 +5x_2$$\n",
    "\n",
    "## Con las Siguientes Restricciones\n",
    "\n",
    "$$\n",
    "\\begin{equation}\n",
    "\\begin{matrix}\n",
    "x_1 &  & \\leq & 4 \\\\\n",
    " & 2x_2 &\\leq  & 12 \\\\\n",
    " 3x_1&+2x_2  & \\leq & 18 \\\\\n",
    "\\end{matrix} \n",
    "\\end{equation}\n",
    "$$\n",
    "\n",
    "$$x_1 \\geq 0, x_2 \\geq0$$\n",
    "\n",
    "## Encuentre con PuLP el valor óptimo solicitado que cumpla las restricciones"
   ]
  },
  {
   "cell_type": "code",
   "execution_count": null,
   "id": "c8b0a91e",
   "metadata": {},
   "outputs": [
    {
     "name": "stdout",
     "output_type": "stream",
     "text": [
      "Collecting pulp\n",
      "  Downloading pulp-3.2.2-py3-none-any.whl.metadata (6.9 kB)\n",
      "Downloading pulp-3.2.2-py3-none-any.whl (16.4 MB)\n",
      "   ---------------------------------------- 0.0/16.4 MB ? eta -:--:--\n",
      "   ---------------------------------------- 0.0/16.4 MB ? eta -:--:--\n",
      "   ---------------------------------------- 0.0/16.4 MB 320.0 kB/s eta 0:00:52\n",
      "   ---------------------------------------- 0.0/16.4 MB 259.2 kB/s eta 0:01:04\n",
      "   ---------------------------------------- 0.1/16.4 MB 363.1 kB/s eta 0:00:45\n",
      "   ---------------------------------------- 0.1/16.4 MB 490.2 kB/s eta 0:00:34\n",
      "   ---------------------------------------- 0.2/16.4 MB 748.1 kB/s eta 0:00:22\n",
      "    --------------------------------------- 0.3/16.4 MB 871.5 kB/s eta 0:00:19\n",
      "   - -------------------------------------- 0.5/16.4 MB 1.4 MB/s eta 0:00:12\n",
      "   - -------------------------------------- 0.6/16.4 MB 1.7 MB/s eta 0:00:10\n",
      "   -- ------------------------------------- 1.0/16.4 MB 2.5 MB/s eta 0:00:07\n",
      "   -- ------------------------------------- 1.2/16.4 MB 2.5 MB/s eta 0:00:07\n",
      "   ---- ----------------------------------- 2.0/16.4 MB 3.8 MB/s eta 0:00:04\n",
      "   ----- ---------------------------------- 2.4/16.4 MB 4.2 MB/s eta 0:00:04\n",
      "   ------ --------------------------------- 2.8/16.4 MB 4.6 MB/s eta 0:00:03\n",
      "   --------- ------------------------------ 3.8/16.4 MB 5.8 MB/s eta 0:00:03\n",
      "   ----------- ---------------------------- 4.5/16.4 MB 6.6 MB/s eta 0:00:02\n",
      "   ------------ --------------------------- 5.2/16.4 MB 6.9 MB/s eta 0:00:02\n",
      "   ------------- -------------------------- 5.6/16.4 MB 7.2 MB/s eta 0:00:02\n",
      "   -------------- ------------------------- 6.1/16.4 MB 7.3 MB/s eta 0:00:02\n",
      "   ----------------- ---------------------- 7.2/16.4 MB 8.1 MB/s eta 0:00:02\n",
      "   -------------------- ------------------- 8.5/16.4 MB 9.0 MB/s eta 0:00:01\n",
      "   ----------------------- ---------------- 9.4/16.4 MB 9.6 MB/s eta 0:00:01\n",
      "   ----------------------- ---------------- 9.8/16.4 MB 9.5 MB/s eta 0:00:01\n",
      "   ------------------------- -------------- 10.4/16.4 MB 12.3 MB/s eta 0:00:01\n",
      "   --------------------------- ------------ 11.3/16.4 MB 14.9 MB/s eta 0:00:01\n",
      "   ------------------------------ --------- 12.4/16.4 MB 16.0 MB/s eta 0:00:01\n",
      "   --------------------------------- ------ 13.8/16.4 MB 17.7 MB/s eta 0:00:01\n",
      "   ------------------------------------ --- 15.0/16.4 MB 19.3 MB/s eta 0:00:01\n",
      "   ------------------------------------- -- 15.5/16.4 MB 18.2 MB/s eta 0:00:01\n",
      "   ---------------------------------------  16.2/16.4 MB 19.3 MB/s eta 0:00:01\n",
      "   ---------------------------------------  16.4/16.4 MB 19.8 MB/s eta 0:00:01\n",
      "   ---------------------------------------- 16.4/16.4 MB 17.2 MB/s eta 0:00:00\n",
      "Installing collected packages: pulp\n",
      "Successfully installed pulp-3.2.2\n"
     ]
    }
   ],
   "source": [
    "!pip install pulp"
   ]
  },
  {
   "cell_type": "code",
   "execution_count": 4,
   "id": "0bf1b8bb-4024-48a3-a96b-c33bf9ce5925",
   "metadata": {
    "id": "c9a1po_VvOM8",
    "tags": []
   },
   "outputs": [],
   "source": [
    "import pulp as p"
   ]
  },
  {
   "cell_type": "markdown",
   "id": "2bf5819d-3244-4783-8d88-bcaaf2cd32a2",
   "metadata": {},
   "source": [
    "## Se define el problema con un nombre y se indica el tipo de optmización"
   ]
  },
  {
   "cell_type": "code",
   "execution_count": 37,
   "id": "4ed6c2c7-15e5-4a3c-b586-842608025338",
   "metadata": {
    "id": "z7Hrau7SvPbN",
    "tags": []
   },
   "outputs": [],
   "source": [
    "#Crear una instancia para  nuestro modelo\n",
    "modelo = p.LpProblem(\"PL_Max\", p.LpMaximize)"
   ]
  },
  {
   "cell_type": "markdown",
   "id": "2dcf7b4a-a46a-434b-9285-782a6254a7ad",
   "metadata": {},
   "source": [
    "## Se definen las variables de nuestro problema.\n",
    "### Se indica el nombre en nuestro programa y el nombre que usará PuLP para referirse a ellas\n",
    "### El parámetro *lowBound* indica cual es el valor mínimo para la variable\n",
    "### El parámetro *cat* indica el tipo de variable \n"
   ]
  },
  {
   "cell_type": "code",
   "execution_count": 38,
   "id": "d51f512a-95bb-4e8e-849a-d5b912016fe0",
   "metadata": {
    "id": "6FnzeSaRvfRd",
    "tags": []
   },
   "outputs": [],
   "source": [
    "from pulp.constants import LpContinuous\n",
    "#Crear las variables de decision\n",
    "#La variables pueden ser LpInteger LpContinuous y LpBinary\n",
    "x1 = p.LpVariable(\"x1\", lowBound=0, cat=LpContinuous)\n",
    "x2 = p.LpVariable(\"x2\", lowBound=0, cat=LpContinuous)"
   ]
  },
  {
   "cell_type": "markdown",
   "id": "bf34f575-227a-4972-b23d-89c571801328",
   "metadata": {},
   "source": [
    "## Indicamos nuestra función objetivo, con el uso del +="
   ]
  },
  {
   "cell_type": "code",
   "execution_count": 39,
   "id": "edd15594-21a5-4aeb-b161-9703123219c2",
   "metadata": {
    "id": "4YsM4jhEv0u8",
    "tags": []
   },
   "outputs": [],
   "source": [
    "#Definir funcion objetivo\n",
    "modelo += 3*x1+5*x2, \"Funcion objetivo\""
   ]
  },
  {
   "cell_type": "markdown",
   "id": "1c6b002a-7ef9-4817-8058-1524e8aea6b4",
   "metadata": {},
   "source": [
    "## Procedemos a agregar las restricciones\n",
    "### El uso de operadores de comparación indica a PuLP que dichas expresiones son restricciones"
   ]
  },
  {
   "cell_type": "code",
   "execution_count": 40,
   "id": "519de60a-e3b9-40e8-aad6-5d27413fee5a",
   "metadata": {
    "id": "IkzoBIvDwSMN",
    "tags": []
   },
   "outputs": [],
   "source": [
    "#Definir las restricciones\n",
    "modelo += x1 <= 4, \"R1\"\n",
    "modelo += 2*x2 <= 12, \"R2\"\n",
    "modelo += 3*x1 + 2*x2 <= 18, \"R3\""
   ]
  },
  {
   "cell_type": "markdown",
   "id": "c23626cd-b2b2-4aff-b5b3-fd985e4d5e04",
   "metadata": {},
   "source": [
    "## Ver la información del modelo"
   ]
  },
  {
   "cell_type": "code",
   "execution_count": 41,
   "id": "fb35318c-055e-4e40-8777-297cd0a410f4",
   "metadata": {
    "id": "ZBe4y9pxw1Rs",
    "tags": []
   },
   "outputs": [
    {
     "data": {
      "text/plain": [
       "PL_Max:\n",
       "MAXIMIZE\n",
       "3*x1 + 5*x2 + 0\n",
       "SUBJECT TO\n",
       "R1: x1 <= 4\n",
       "\n",
       "R2: 2 x2 <= 12\n",
       "\n",
       "R3: 3 x1 + 2 x2 <= 18\n",
       "\n",
       "VARIABLES\n",
       "x1 Continuous\n",
       "x2 Continuous"
      ]
     },
     "execution_count": 41,
     "metadata": {},
     "output_type": "execute_result"
    }
   ],
   "source": [
    "modelo"
   ]
  },
  {
   "cell_type": "markdown",
   "id": "bb89d974-38b0-4c4d-b354-3c49239def2e",
   "metadata": {},
   "source": [
    "## Se invoca el método solve para resolver el problema"
   ]
  },
  {
   "cell_type": "code",
   "execution_count": 42,
   "id": "edb29846-ed9f-4873-80e0-c0008909ff21",
   "metadata": {
    "id": "HN03l8qiw4Nz",
    "tags": []
   },
   "outputs": [
    {
     "data": {
      "text/plain": [
       "1"
      ]
     },
     "execution_count": 42,
     "metadata": {},
     "output_type": "execute_result"
    }
   ],
   "source": [
    "#Resolver el modelo\n",
    "modelo.solve()"
   ]
  },
  {
   "cell_type": "markdown",
   "id": "5efd58de-f8b4-4576-a229-94bddae3c13d",
   "metadata": {},
   "source": [
    "## Luego de resolver el problema, se imprimen los obtenidos para cada variable"
   ]
  },
  {
   "cell_type": "code",
   "execution_count": 43,
   "id": "9af55d12-dc5b-4a77-94e9-4e4c6fbdb198",
   "metadata": {
    "colab": {
     "base_uri": "https://localhost:8080/"
    },
    "id": "sL8kP7Gyw5mb",
    "outputId": "c46e6164-725b-4499-abc6-ed9a54ebfa75",
    "tags": []
   },
   "outputs": [
    {
     "name": "stdout",
     "output_type": "stream",
     "text": [
      "x1 = 2.0\n",
      "x2 = 6.0\n",
      "Costo = 36.0\n"
     ]
    }
   ],
   "source": [
    "print(\"x1 =\", x1.varValue)\n",
    "print(\"x2 =\", x2.varValue)\n",
    "print(\"Costo =\", p.value(modelo.objective))"
   ]
  },
  {
   "cell_type": "markdown",
   "id": "eab1560e-0c6a-421b-b812-d33a9ed55804",
   "metadata": {},
   "source": [
    "# Problema 1\n",
    "Solucione el siguiente planteamiento."
   ]
  },
  {
   "cell_type": "markdown",
   "id": "b0842489-774a-446a-be05-51e9271ef3f5",
   "metadata": {},
   "source": [
    "Se tiene la siguiente función objetivo. \n",
    "$$z = 950c +1200h$$\n",
    "\n",
    "Sujeto a:\n",
    "\n",
    "$$\n",
    "\\begin{equation}\n",
    "\\begin{matrix}\n",
    "1.4c &  +2.8h & \\leq & 70 \\\\    \n",
    " c & + h &\\leq  & 30 \\\\\n",
    " 3c & +h & \\leq & 65 \\\\\n",
    "\\end{matrix} \n",
    "\\end{equation}\n",
    "$$\n",
    "\n",
    "$$c \\geq 0, h \\geq0$$\n",
    "\n",
    "El objetivo del problema es maximizar los valores de esta ecuaci'on $z$.\n",
    "\n",
    "Encuentre usando PuLP cual es la combinaci'on optima para las resctricciones definidas."
   ]
  },
  {
   "cell_type": "markdown",
   "id": "0cfcb74e-2682-4f20-b584-5866923f43b3",
   "metadata": {},
   "source": [
    "## [1] Solución"
   ]
  },
  {
   "cell_type": "code",
   "execution_count": 5,
   "id": "ba27d0a9",
   "metadata": {},
   "outputs": [],
   "source": [
    "#Crear una instancia para  nuestro modelo\n",
    "modelo2 = p.LpProblem(\"PL_Max\", p.LpMaximize)"
   ]
  },
  {
   "cell_type": "code",
   "execution_count": 8,
   "id": "a66117be",
   "metadata": {},
   "outputs": [],
   "source": [
    "from pulp.constants import LpContinuous\n",
    "#Crear las variables de decision\n",
    "#La variables pueden ser LpInteger LpContinuous y LpBinary\n",
    "c = p.LpVariable(\"c\", lowBound=0, cat=LpContinuous)  # Variable c ≥ 0\n",
    "h = p.LpVariable(\"h\", lowBound=0, cat=LpContinuous)  # Variable h ≥ 0"
   ]
  },
  {
   "cell_type": "code",
   "execution_count": 10,
   "id": "a6b10ec9",
   "metadata": {},
   "outputs": [],
   "source": [
    "# Variables\n",
    "c = p.LpVariable(\"c\", 0)\n",
    "h = p.LpVariable(\"h\", 0)"
   ]
  },
  {
   "cell_type": "code",
   "execution_count": 11,
   "id": "90904869",
   "metadata": {},
   "outputs": [],
   "source": [
    "# Definir función objetivo\n",
    "modelo2 += 950 * c + 1200 * h, \"Z\""
   ]
  },
  {
   "cell_type": "code",
   "execution_count": 12,
   "id": "d15ba74d",
   "metadata": {},
   "outputs": [],
   "source": [
    "# Definir las restricciones\n",
    "modelo2 += 1.4 * c + 2.8 * h <= 70, \"Restriccion_1\"\n",
    "modelo2 += c + h <= 30, \"Restriccion_2\"\n",
    "modelo2 += 3 * c + h <= 65, \"Restriccion_3\""
   ]
  },
  {
   "cell_type": "code",
   "execution_count": 13,
   "id": "d72872d8",
   "metadata": {},
   "outputs": [
    {
     "data": {
      "text/plain": [
       "1"
      ]
     },
     "execution_count": 13,
     "metadata": {},
     "output_type": "execute_result"
    }
   ],
   "source": [
    "# Resolver el modelo\n",
    "modelo2.solve()"
   ]
  },
  {
   "cell_type": "code",
   "execution_count": 16,
   "id": "738af085",
   "metadata": {},
   "outputs": [
    {
     "name": "stdout",
     "output_type": "stream",
     "text": [
      "Solución óptima: c = 10.00, h = 20.00\n",
      "Valor máximo Z = 33500.00\n"
     ]
    }
   ],
   "source": [
    "# Imprimir los resultados\n",
    "print(f\"Solución óptima: c = {c.varValue:.2f}, h = {h.varValue:.2f}\")\n",
    "print(f\"Valor máximo Z = {p.value(modelo2.objective):.2f}\")"
   ]
  },
  {
   "cell_type": "markdown",
   "id": "c23390f6-85c7-41cf-840c-f582a8bea02c",
   "metadata": {},
   "source": [
    "# Segunda Parte\n",
    "# Optimización con el Problema del Transporte\n",
    "\n",
    "Video: https://www.youtube.com/watch?v=MNeDjt8mCCI\n",
    "Libro: INVESTIGACIÓN DE OPERACIONES, Hamdy Taha"
   ]
  },
  {
   "cell_type": "markdown",
   "id": "6abb2326-f293-4e54-bf96-7a11a6f8b615",
   "metadata": {},
   "source": [
    "MG Auto cuenta con tres plantas en Los Ángeles, Detroit y Nueva Orleáns, y dos importantes centros de distribución en Denver y Miami. Las capacidades trimestrales de las tres plantas son 1000, 1500 y 1200 automóviles, y las demandas de los dos centros de distribución durante el mismo periodo son de 2300 y 1400 automóviles. La distancia en millas entre las plantas y los centros de distribución aparece en la tabla siguiente:\n",
    "\n",
    "|                   | **Denver** | **Miami** |\n",
    "|-------------------|:------------:|:-----------:|\n",
    "| **Los Ángeles**   | 100        | 2690      |\n",
    "| **Detroit**       | 1250       | 1350      |\n",
    "| **Nueva Orleáns** | 1275       | 850       |\n",
    "\n",
    "La compañía transportista cobra 8 centavos por milla por automóvil. En la tabla siguiente se dan los costos de transporte por automóvil en las diferentes rutas, redondeados al dólar más cercano. \n",
    "\n",
    "|                       | **Denver (1)** | **Miami (2)** |\n",
    "|-----------------------|:--------------:|:-------------:|\n",
    "| **Los Ángeles (1)**   |       80       |      215      |\n",
    "| **Detroit (2)**       |       100      |      108      |\n",
    "| **Nueva Orleáns (3)** |       102      |       68      |\n",
    "\n",
    "\n",
    "El modelo de PL del problema es\n",
    "Minimizar $z$\n",
    "\n",
    "$$z = 80x_{11} +215x_{12}+100x_{21}+108x_{22}+102x_{31}+68x_{32}$$\n",
    "\n",
    "Esta ecuación se encuentra sujeta a las siguientes restricciones:\n",
    "\n",
    "\\begin{matrix}\n",
    "x_{11} &+ x_{12}  &  &  &  &  & = & 1000 & \\text{Los Angeles}\\\\\n",
    " &  & x_{21} & + x_{22} &  &  & = & 1500 & \\text{Detroit} \\\\\n",
    " &  &  &  &  x_{31}& +x_{32} & = &  1200 & \\text{Nueva Orleans}\\\\\n",
    "x_{11} &  &  + x_{21}&  &  + x_{31}&  & = & 2300 & \\text{Denver}\\\\\n",
    " & x_{12} &  & + x_{22}  &  & + x_{32} & = & 1400 &  \\text{Miami}\\\\\n",
    "\\end{matrix}\n",
    "\n",
    "\n",
    "\n",
    "Todas estas restricciones son ecuaciones porque la oferta total desde los tres orígenes (= 1000 + 1500 + 1200 = 3700 automóviles) es igual a la demanda total en los dos destinos (= 2300 + 1400 = 3700 automóviles).\n",
    "\n",
    "\n",
    "La estructura especial del problema de transporte permite una representación compacta del problema utilizando el formato tabla de transporte que aparece en la tabla siguiente. Este formato permite modelar muchas situaciones que no tienen que ver con bienes de transporte.\n",
    "\n",
    "\n",
    "|                 | Denver  |     | Miami |      | **Oferta** |\n",
    "|-----------------|---------|-----|-------|------|:--------:|\n",
    "| Los Ángeles     |         | 80  |       | 215 |        |\n",
    "|                 | $x_{11}$     |     | $x_{12}$   |      | **100**    |\n",
    "| Detroit         |         | 100 |       | 108 |        |\n",
    "|                 | $x_{21}$     |     | $x_{22}$   |      | **1500**   |\n",
    "| Nueva   Orleáns |         | 102 |       | 68  |        |\n",
    "|                 | $x_{31}$    |     | $x_{32}$   |      | **1200**   |\n",
    "| **Demanda**         | **2300**  |     | **1400**  |      |        |\n",
    "\n",
    "\n",
    "\n",
    "La solución óptima obtenida envía $1000$ automóviles de Los Ángeles a Denver ($x_{11} = 1000$), $1300$ de Detroit a Denver ($x_{21}=1300$), $200$ de Detroit a Miami ( $x_{22} = 200$ ) y $1200$ de Nueva Orleáns a Miami ($x_{32}=1000$). \n",
    "\n",
    "El costo de transporte mínimo asociado se calcula como :\n",
    "\n",
    "$$ z= 1000 \\times 80 + 1300 \\times 100 + 200 \\times 108 + 1200 \\times 68 = 313.200 $$\n",
    "\n",
    "\n",
    "\n"
   ]
  },
  {
   "cell_type": "markdown",
   "id": "7897818a-8dad-4ea4-ab9c-bb994eda5ade",
   "metadata": {},
   "source": [
    "### Desarrollo de la Solución"
   ]
  },
  {
   "cell_type": "code",
   "execution_count": 45,
   "id": "873a5450-6a19-469c-967e-e36dacc9d91e",
   "metadata": {
    "tags": []
   },
   "outputs": [],
   "source": [
    "### Bibliotecas \n",
    "import pandas as np\n",
    "from pulp import *\n",
    "from pandas import DataFrame"
   ]
  },
  {
   "cell_type": "markdown",
   "id": "0d9447c5-584b-474f-ad64-7e2ae7364e42",
   "metadata": {},
   "source": [
    "## Se definen los datos del Problema"
   ]
  },
  {
   "cell_type": "markdown",
   "id": "39955f9b-0018-436d-ba8a-919f17bfc90b",
   "metadata": {},
   "source": [
    "## Las ciudades se definen en 2 arreglos"
   ]
  },
  {
   "cell_type": "code",
   "execution_count": 46,
   "id": "9fdce0f4-b469-4e4f-a31c-9665f55372b8",
   "metadata": {
    "tags": []
   },
   "outputs": [],
   "source": [
    "## Ciudades\n",
    "origen = ['LA','Detroit','New Orleans']\n",
    "destino = ['Denver','Miami']"
   ]
  },
  {
   "cell_type": "markdown",
   "id": "af4d374b-1429-4353-a7d5-bbebe92af017",
   "metadata": {},
   "source": [
    "## La oferta y demanda se definen mediante diccionarios"
   ]
  },
  {
   "cell_type": "code",
   "execution_count": 47,
   "id": "e6ee4eb2-3751-4bdf-a991-34c0c530c494",
   "metadata": {
    "tags": []
   },
   "outputs": [],
   "source": [
    "oferta = {'LA': 1000, 'Detroit' : 1500, 'New Orleans': 1200}\n",
    "demanda = {'Denver': 2300, 'Miami' : 1400}"
   ]
  },
  {
   "cell_type": "markdown",
   "id": "af79b927-0507-4c38-8cd6-a8d8bda40ef8",
   "metadata": {},
   "source": [
    "## El costo de env'io se define mediante una lista de diccionarios"
   ]
  },
  {
   "cell_type": "code",
   "execution_count": 48,
   "id": "3950a413-eabf-4b6c-a785-6ef6c4eaf5e7",
   "metadata": {
    "tags": []
   },
   "outputs": [],
   "source": [
    "costo_envio ={'LA':{'Denver': 80, 'Miami' : 215},\n",
    "             'Detroit':{'Denver': 100, 'Miami' : 108},\n",
    "             'New Orleans': {'Denver': 102, 'Miami' : 68}}"
   ]
  },
  {
   "cell_type": "markdown",
   "id": "fe47e8b0-f421-4d43-a848-2961dfdd5b85",
   "metadata": {},
   "source": [
    "## Creamos la instancia para el  problema\n",
    "La instancia *prob* almacenará todos los datos del problema. En este caso se desea minimizar la función objetivo"
   ]
  },
  {
   "cell_type": "code",
   "execution_count": 49,
   "id": "5cf12aa2-177a-4803-94d8-f457a1afee5c",
   "metadata": {
    "tags": []
   },
   "outputs": [],
   "source": [
    "prob = LpProblem('Transporte', LpMinimize)"
   ]
  },
  {
   "cell_type": "markdown",
   "id": "1a800a08-8920-449b-b3b9-d68d5255180e",
   "metadata": {},
   "source": [
    "Se define la matriz rutas que contiene el pareo entre las ciudades origen y destino"
   ]
  },
  {
   "cell_type": "code",
   "execution_count": 50,
   "id": "433e8608-4cb2-444d-b2b6-6308c3bc75a2",
   "metadata": {
    "tags": []
   },
   "outputs": [],
   "source": [
    "rutas = [(i,j) for i in origen for j in destino]"
   ]
  },
  {
   "cell_type": "code",
   "execution_count": 51,
   "id": "cf918a6f-5a15-4714-b567-0c239319baa8",
   "metadata": {
    "tags": []
   },
   "outputs": [
    {
     "data": {
      "text/plain": [
       "[('LA', 'Denver'),\n",
       " ('LA', 'Miami'),\n",
       " ('Detroit', 'Denver'),\n",
       " ('Detroit', 'Miami'),\n",
       " ('New Orleans', 'Denver'),\n",
       " ('New Orleans', 'Miami')]"
      ]
     },
     "execution_count": 51,
     "metadata": {},
     "output_type": "execute_result"
    }
   ],
   "source": [
    "rutas"
   ]
  },
  {
   "cell_type": "markdown",
   "id": "41967417-2fab-40a3-b80d-a15210104c6f",
   "metadata": {
    "tags": []
   },
   "source": [
    "Las variables del problema se crean mediante la función LpVariable.dicts, esta  recibe 2 arreglos para cruzar los valores y generar las variables.  \n",
    "\n",
    "El primer elemento consiste en una cadena que actuará como prefijo para el nombre de cada variable. Este diccionario contiene las variables $x_{12}, x_{21} \\dots x_{32}$ que se presentan en el planteamiento del problema"
   ]
  },
  {
   "cell_type": "code",
   "execution_count": 52,
   "id": "2febac4b-dbeb-4b64-89f5-021c9b2b274b",
   "metadata": {
    "tags": []
   },
   "outputs": [],
   "source": [
    "# Cantidad de Envio\n",
    "cantidad = LpVariable.dicts('C_Env',(origen,destino),0) "
   ]
  },
  {
   "cell_type": "code",
   "execution_count": 53,
   "id": "2d0c21dc-9805-4f83-8be8-35c16d61ce40",
   "metadata": {
    "tags": []
   },
   "outputs": [
    {
     "data": {
      "text/plain": [
       "{'LA': {'Denver': C_Env_LA_Denver, 'Miami': C_Env_LA_Miami},\n",
       " 'Detroit': {'Denver': C_Env_Detroit_Denver, 'Miami': C_Env_Detroit_Miami},\n",
       " 'New Orleans': {'Denver': C_Env_New_Orleans_Denver,\n",
       "  'Miami': C_Env_New_Orleans_Miami}}"
      ]
     },
     "execution_count": 53,
     "metadata": {},
     "output_type": "execute_result"
    }
   ],
   "source": [
    "cantidad"
   ]
  },
  {
   "cell_type": "markdown",
   "id": "b9f11152-06a2-4a94-93f4-24d41ed9ab07",
   "metadata": {},
   "source": [
    "Para añadir nuestra función objetivo al problema, se usa el operador +=.\n",
    "\n",
    "En este caso nuestra función es una sumatoria de las variables en *cantidad* multiplicadas por el costo de cada ruta que se encuentra en la lista *costo_envio* y esto se hace tomando en cuenta el contenido del objeto *rutas*. \n",
    "\n",
    "lpsum generara la ecuación de nuestra fnución objetivo como una suma en función de las variables"
   ]
  },
  {
   "cell_type": "code",
   "execution_count": 54,
   "id": "4ce9bbe5-4703-4a20-954a-1ebba81870d2",
   "metadata": {
    "tags": []
   },
   "outputs": [],
   "source": [
    "prob += lpSum(cantidad[i][j]*costo_envio[i][j] for (i,j) in rutas)"
   ]
  },
  {
   "cell_type": "markdown",
   "id": "27869b9c-658c-4412-8c33-88810feadc3d",
   "metadata": {},
   "source": [
    "Para agregar las restriciones se utiliza el operador +=, pero en este caso la ecuación debe tener un segundo operador de comparción.\n",
    "Esto le indica a PuLP que la ecuación representa una restricción.\n",
    "\n",
    "Para nuestro problema las restricciones tienen que ver con la oferta y demanda, las cuales se defienen en los respectivos arreglos. \n",
    "Usando lpSum creamos las ecuaciones que representan la restricción como se planteo en el problema.\n",
    "\n",
    "Las restricciones se agregan tanto a las ciudades origen como destino"
   ]
  },
  {
   "cell_type": "code",
   "execution_count": 55,
   "id": "0200f629-a556-4b0a-b755-0eb54131219a",
   "metadata": {
    "tags": []
   },
   "outputs": [],
   "source": [
    "# restricciones para oferta\n",
    "for j in destino:\n",
    "    prob += lpSum(cantidad[i][j] for i in origen) == demanda[j]"
   ]
  },
  {
   "cell_type": "code",
   "execution_count": 56,
   "id": "78d5beef-78c9-4441-86b3-081421af8434",
   "metadata": {
    "tags": []
   },
   "outputs": [],
   "source": [
    "# restricciones para demanda\n",
    "for i in origen:\n",
    "    prob += lpSum(cantidad[i][j] for j in destino) <= oferta[i]"
   ]
  },
  {
   "cell_type": "code",
   "execution_count": 57,
   "id": "af1709dd-79b1-4822-b2f0-7dbac58c287c",
   "metadata": {
    "tags": []
   },
   "outputs": [
    {
     "name": "stdout",
     "output_type": "stream",
     "text": [
      "Status: Optimal\n"
     ]
    }
   ],
   "source": [
    "### Resolvemos e imprimimos el Status, si es Optimo, el problema tiene solución.\n",
    "prob.solve()\n",
    "print(\"Status:\", LpStatus[prob.status])"
   ]
  },
  {
   "cell_type": "markdown",
   "id": "bdcf2319-1030-431f-b577-26c54c04074f",
   "metadata": {},
   "source": [
    "### Luego de la solución se procede a imprimir las variables que obtuvieron algún valor, lo que indica que son las rutas que se deben utlizar para mantener el precio mínimo. "
   ]
  },
  {
   "cell_type": "code",
   "execution_count": 58,
   "id": "8259d2b3-2707-457b-85e8-03570b5678cc",
   "metadata": {
    "tags": []
   },
   "outputs": [
    {
     "name": "stdout",
     "output_type": "stream",
     "text": [
      "C_Env_Detroit_Denver = 1300.0\n",
      "C_Env_Detroit_Miami = 200.0\n",
      "C_Env_LA_Denver = 1000.0\n",
      "C_Env_New_Orleans_Miami = 1200.0\n",
      "El costo mínimo es: 313200.0\n"
     ]
    }
   ],
   "source": [
    "### Imprimimos la solución\n",
    "for v in prob.variables():\n",
    "    if v.varValue > 0:\n",
    "        print(v.name, \"=\", v.varValue)\n",
    "print('El costo mínimo es:', value(prob.objective))"
   ]
  },
  {
   "cell_type": "code",
   "execution_count": 59,
   "id": "650f07c4-2589-42ce-9d8d-eb64eccff4cd",
   "metadata": {
    "tags": []
   },
   "outputs": [
    {
     "data": {
      "text/plain": [
       "313200.0"
      ]
     },
     "execution_count": 59,
     "metadata": {},
     "output_type": "execute_result"
    }
   ],
   "source": [
    "pulp.value(prob.objective)"
   ]
  },
  {
   "cell_type": "code",
   "execution_count": 60,
   "id": "59818088-753c-497b-8f77-c080879627c3",
   "metadata": {
    "tags": []
   },
   "outputs": [
    {
     "data": {
      "text/plain": [
       "Transporte:\n",
       "MINIMIZE\n",
       "100*C_Env_Detroit_Denver + 108*C_Env_Detroit_Miami + 80*C_Env_LA_Denver + 215*C_Env_LA_Miami + 102*C_Env_New_Orleans_Denver + 68*C_Env_New_Orleans_Miami + 0\n",
       "SUBJECT TO\n",
       "_C1: C_Env_Detroit_Denver + C_Env_LA_Denver + C_Env_New_Orleans_Denver = 2300\n",
       "\n",
       "_C2: C_Env_Detroit_Miami + C_Env_LA_Miami + C_Env_New_Orleans_Miami = 1400\n",
       "\n",
       "_C3: C_Env_LA_Denver + C_Env_LA_Miami <= 1000\n",
       "\n",
       "_C4: C_Env_Detroit_Denver + C_Env_Detroit_Miami <= 1500\n",
       "\n",
       "_C5: C_Env_New_Orleans_Denver + C_Env_New_Orleans_Miami <= 1200\n",
       "\n",
       "VARIABLES\n",
       "C_Env_Detroit_Denver Continuous\n",
       "C_Env_Detroit_Miami Continuous\n",
       "C_Env_LA_Denver Continuous\n",
       "C_Env_LA_Miami Continuous\n",
       "C_Env_New_Orleans_Denver Continuous\n",
       "C_Env_New_Orleans_Miami Continuous"
      ]
     },
     "execution_count": 60,
     "metadata": {},
     "output_type": "execute_result"
    }
   ],
   "source": [
    "prob"
   ]
  },
  {
   "cell_type": "markdown",
   "id": "a5f1a510-6629-438a-b9bb-a824839f26d5",
   "metadata": {},
   "source": [
    "# Problema 2 "
   ]
  },
  {
   "cell_type": "markdown",
   "id": "a3afba9f-49c6-4a61-bde1-fd8de01db290",
   "metadata": {},
   "source": []
  },
  {
   "cell_type": "markdown",
   "id": "b7e8b267-1b34-4068-8569-b73a5cd279fc",
   "metadata": {},
   "source": [
    "Desatranques Jaén utiliza un producto químico llamado furoato en las operaciones de producción de sus 5 divisiones. Solo 6 de sus proveedores cumplen con los estándares de control de calidad de desatranques Jaén, y solo estos proveedores pueden producir furoato en cantidades suficientes para satisfacer las necesidades de cada división. Para cada combinación proveedor de división se presenta el costo para satisfacer la demanda.\n",
    "\n",
    "| **Division** | **P1** | **P2** | **P3** | **P4** | **P5** | **P6** |\n",
    "|:------------:|:------:|:------:|:------:|:------:|:------:|:------:|\n",
    "|     **1**    |   614  |   660  |   534  |   680  |   590  |   630  |\n",
    "|     **2**    |   603  |   639  |   702  |   693  |   693  |   630  |\n",
    "|     **3**    |   865  |   830  |   775  |   850  |   900  |   930  |\n",
    "|     **4**    |   532  |   553  |   511  |   581  |   595  |   553  |\n",
    "|     **5**    |   720  |   648  |   684  |   693  |   657  |   747  |\n",
    "\n",
    "Desatranques Jaén considera adecuado distribuir contratos entre sus proveedores, de modo que la empresa se vea menos afectada por problemas en éstos, como por ejemplo las huelgas de trabajadores o la disponibilidad de recursos. La política de la empresa requiere que cada división tenga un proveedor separado.\n",
    "\n",
    "Determine la asignación óptima de proveedores a las divisiones que genere el costo mínimo para la empresa. En este problema se realiza la suposición que cada proveedor tiene una oferta de 1 y que cada división tiene una demanda de 1.\n",
    "\n",
    "Defina el problema de optimización y encuentre cuál es el proveedor óptimo que se debe asignar a cada división. \n"
   ]
  },
  {
   "cell_type": "markdown",
   "id": "4febe0e4-5b3e-413b-b934-cf5b2ae22741",
   "metadata": {
    "tags": []
   },
   "source": [
    "### Tomando este código como base complete los pasos para determinar la signación de proveedores.\n",
    "### Imprima al final cuales son los emparejamientos seleccionados."
   ]
  },
  {
   "cell_type": "code",
   "execution_count": 20,
   "id": "4fb94f62-191c-42f2-98ac-77fb72fb8604",
   "metadata": {
    "tags": []
   },
   "outputs": [],
   "source": [
    "### Bibliotecas \n",
    "import pandas as np\n",
    "from pulp import *\n",
    "from pandas import DataFrame"
   ]
  },
  {
   "cell_type": "markdown",
   "id": "c16d4690-efda-4a75-9999-337979916f3c",
   "metadata": {},
   "source": [
    "Datos del Problema"
   ]
  },
  {
   "cell_type": "code",
   "execution_count": 21,
   "id": "11c89cd7-382c-4da5-bb6c-53922feb0ad4",
   "metadata": {
    "tags": []
   },
   "outputs": [],
   "source": [
    "### Divisiones y Proveedores\n",
    "Division = ['D1','D2','D3','D4','D5']\n",
    "Prov = ['P1','P2','P3','P4','P5','P6']"
   ]
  },
  {
   "cell_type": "code",
   "execution_count": 22,
   "id": "cd8a4a70-223d-4de3-bd41-20252bac20a2",
   "metadata": {
    "tags": []
   },
   "outputs": [],
   "source": [
    "oferta = {'D1': 1, 'D2': 1,'D3': 1,'D4': 1,'D5': 1}\n",
    "demanda = {'P1': 1, 'P2': 1,'P3': 1,'P4': 1,'P5': 1,'P6': 1}"
   ]
  },
  {
   "cell_type": "code",
   "execution_count": 23,
   "id": "7d98e0dd-8373-49a1-b14c-7c3a38da35ec",
   "metadata": {
    "tags": []
   },
   "outputs": [],
   "source": [
    "costo ={'D1': {'P1':614,'P2':660,'P3':534,'P4':680,'P5':590,'P6':630},\n",
    "'D2': {'P1':603,'P2':639,'P3':702,'P4':693,'P5':693,'P6':630},\n",
    "'D3': {'P1':865,'P2':830,'P3':775,'P4':850,'P5':900,'P6':930},\n",
    "'D4': {'P1':532,'P2':553,'P3':511,'P4':581,'P5':595,'P6':553},\n",
    "'D5': {'P1':720,'P2':648,'P3':684,'P4':693,'P5':657,'P6':747}}"
   ]
  },
  {
   "cell_type": "markdown",
   "id": "baacc59e-9391-4c00-b42e-a5af5b2d300a",
   "metadata": {},
   "source": [
    "## [2] Solución"
   ]
  },
  {
   "cell_type": "code",
   "execution_count": 49,
   "id": "06c8f7b4-4727-407f-a72b-4294b0032c57",
   "metadata": {},
   "outputs": [],
   "source": [
    "# Crear la instancia para el problema\n",
    "problema = LpProblem(\"Asignacion_Optima_Proveedores\", LpMinimize)"
   ]
  },
  {
   "cell_type": "code",
   "execution_count": 32,
   "id": "ef320c17-4226-4808-9e84-a160860f8bc1",
   "metadata": {},
   "outputs": [],
   "source": [
    "# Definir matriz de variables de decisión\n",
    "x = LpVariable.dicts(\"Asignacion\", \n",
    "                    [(d, p) for d in Division for p in Prov],\n",
    "                    cat=LpBinary)"
   ]
  },
  {
   "cell_type": "code",
   "execution_count": 33,
   "id": "a9175363",
   "metadata": {},
   "outputs": [],
   "source": [
    "# Definir función objetivo (minimizar costos)\n",
    "problema += lpSum([costo[d][p] * x[(d, p)] for d in Division for p in Prov])"
   ]
  },
  {
   "cell_type": "code",
   "execution_count": 34,
   "id": "40e2de2e",
   "metadata": {},
   "outputs": [],
   "source": [
    "# Definir restricciones\n",
    "# Cada división debe tener exactamente un proveedor\n",
    "for d in Division:\n",
    "    problema += lpSum([x[(d, p)] for p in Prov]) == 1, f\"Oferta_Division_{d}\""
   ]
  },
  {
   "cell_type": "code",
   "execution_count": 35,
   "id": "0c47e03a",
   "metadata": {},
   "outputs": [],
   "source": [
    "# Cada proveedor puede asignarse como máximo a una división\n",
    "for p in Prov:\n",
    "    problema += lpSum([x[(d, p)] for d in Division]) <= 1, f\"Demanda_Proveedor_{p}\""
   ]
  },
  {
   "cell_type": "code",
   "execution_count": 36,
   "id": "0bb86884",
   "metadata": {},
   "outputs": [
    {
     "data": {
      "text/plain": [
       "1"
      ]
     },
     "execution_count": 36,
     "metadata": {},
     "output_type": "execute_result"
    }
   ],
   "source": [
    "# Paso 5: Evaluar el modelo\n",
    "problema.solve()"
   ]
  },
  {
   "cell_type": "code",
   "execution_count": 48,
   "id": "caea6949",
   "metadata": {},
   "outputs": [
    {
     "name": "stdout",
     "output_type": "stream",
     "text": [
      "==================================================\n",
      "SOLUCIÓN ÓPTIMA - ASIGNACIÓN DE PROVEEDORES\n",
      "==================================================\n",
      "Asignacion_('D1',_'P5') = 1.0\n",
      "Asignacion_('D2',_'P1') = 1.0\n",
      "Asignacion_('D3',_'P3') = 1.0\n",
      "Asignacion_('D4',_'P6') = 1.0\n",
      "Asignacion_('D5',_'P2') = 1.0\n",
      "El costo mínimo es: 3169.0\n"
     ]
    }
   ],
   "source": [
    "# Imprimir resultado \n",
    "print(\"=\" * 50)\n",
    "print(\"SOLUCIÓN ÓPTIMA - ASIGNACIÓN DE PROVEEDORES\")\n",
    "print(\"=\" * 50)\n",
    "\n",
    "### Imprimimos la solución\n",
    "for v in problema.variables():\n",
    "    if v.varValue > 0:\n",
    "        print(v.name, \"=\", v.varValue)\n",
    "print('El costo mínimo es:', value(problema.objective))"
   ]
  },
  {
   "cell_type": "code",
   "execution_count": 46,
   "id": "5df2e123",
   "metadata": {},
   "outputs": [
    {
     "data": {
      "text/plain": [
       "3169.0"
      ]
     },
     "execution_count": 46,
     "metadata": {},
     "output_type": "execute_result"
    }
   ],
   "source": [
    "pulp.value(problema.objective)"
   ]
  },
  {
   "cell_type": "code",
   "execution_count": 47,
   "id": "7165eeed",
   "metadata": {},
   "outputs": [
    {
     "data": {
      "text/plain": [
       "Asignacion_Optima_Proveedores:\n",
       "MINIMIZE\n",
       "614*Asignacion_('D1',_'P1') + 660*Asignacion_('D1',_'P2') + 534*Asignacion_('D1',_'P3') + 680*Asignacion_('D1',_'P4') + 590*Asignacion_('D1',_'P5') + 630*Asignacion_('D1',_'P6') + 603*Asignacion_('D2',_'P1') + 639*Asignacion_('D2',_'P2') + 702*Asignacion_('D2',_'P3') + 693*Asignacion_('D2',_'P4') + 693*Asignacion_('D2',_'P5') + 630*Asignacion_('D2',_'P6') + 865*Asignacion_('D3',_'P1') + 830*Asignacion_('D3',_'P2') + 775*Asignacion_('D3',_'P3') + 850*Asignacion_('D3',_'P4') + 900*Asignacion_('D3',_'P5') + 930*Asignacion_('D3',_'P6') + 532*Asignacion_('D4',_'P1') + 553*Asignacion_('D4',_'P2') + 511*Asignacion_('D4',_'P3') + 581*Asignacion_('D4',_'P4') + 595*Asignacion_('D4',_'P5') + 553*Asignacion_('D4',_'P6') + 720*Asignacion_('D5',_'P1') + 648*Asignacion_('D5',_'P2') + 684*Asignacion_('D5',_'P3') + 693*Asignacion_('D5',_'P4') + 657*Asignacion_('D5',_'P5') + 747*Asignacion_('D5',_'P6') + 0.0\n",
       "SUBJECT TO\n",
       "Oferta_Division_D1: Asignacion_('D1',_'P1') + Asignacion_('D1',_'P2')\n",
       " + Asignacion_('D1',_'P3') + Asignacion_('D1',_'P4') + Asignacion_('D1',_'P5')\n",
       " + Asignacion_('D1',_'P6') = 1\n",
       "\n",
       "Oferta_Division_D2: Asignacion_('D2',_'P1') + Asignacion_('D2',_'P2')\n",
       " + Asignacion_('D2',_'P3') + Asignacion_('D2',_'P4') + Asignacion_('D2',_'P5')\n",
       " + Asignacion_('D2',_'P6') = 1\n",
       "\n",
       "Oferta_Division_D3: Asignacion_('D3',_'P1') + Asignacion_('D3',_'P2')\n",
       " + Asignacion_('D3',_'P3') + Asignacion_('D3',_'P4') + Asignacion_('D3',_'P5')\n",
       " + Asignacion_('D3',_'P6') = 1\n",
       "\n",
       "Oferta_Division_D4: Asignacion_('D4',_'P1') + Asignacion_('D4',_'P2')\n",
       " + Asignacion_('D4',_'P3') + Asignacion_('D4',_'P4') + Asignacion_('D4',_'P5')\n",
       " + Asignacion_('D4',_'P6') = 1\n",
       "\n",
       "Oferta_Division_D5: Asignacion_('D5',_'P1') + Asignacion_('D5',_'P2')\n",
       " + Asignacion_('D5',_'P3') + Asignacion_('D5',_'P4') + Asignacion_('D5',_'P5')\n",
       " + Asignacion_('D5',_'P6') = 1\n",
       "\n",
       "Demanda_Proveedor_P1: Asignacion_('D1',_'P1') + Asignacion_('D2',_'P1')\n",
       " + Asignacion_('D3',_'P1') + Asignacion_('D4',_'P1') + Asignacion_('D5',_'P1')\n",
       " <= 1\n",
       "\n",
       "Demanda_Proveedor_P2: Asignacion_('D1',_'P2') + Asignacion_('D2',_'P2')\n",
       " + Asignacion_('D3',_'P2') + Asignacion_('D4',_'P2') + Asignacion_('D5',_'P2')\n",
       " <= 1\n",
       "\n",
       "Demanda_Proveedor_P3: Asignacion_('D1',_'P3') + Asignacion_('D2',_'P3')\n",
       " + Asignacion_('D3',_'P3') + Asignacion_('D4',_'P3') + Asignacion_('D5',_'P3')\n",
       " <= 1\n",
       "\n",
       "Demanda_Proveedor_P4: Asignacion_('D1',_'P4') + Asignacion_('D2',_'P4')\n",
       " + Asignacion_('D3',_'P4') + Asignacion_('D4',_'P4') + Asignacion_('D5',_'P4')\n",
       " <= 1\n",
       "\n",
       "Demanda_Proveedor_P5: Asignacion_('D1',_'P5') + Asignacion_('D2',_'P5')\n",
       " + Asignacion_('D3',_'P5') + Asignacion_('D4',_'P5') + Asignacion_('D5',_'P5')\n",
       " <= 1\n",
       "\n",
       "Demanda_Proveedor_P6: Asignacion_('D1',_'P6') + Asignacion_('D2',_'P6')\n",
       " + Asignacion_('D3',_'P6') + Asignacion_('D4',_'P6') + Asignacion_('D5',_'P6')\n",
       " <= 1\n",
       "\n",
       "VARIABLES\n",
       "0 <= Asignacion_('D1',_'P1') <= 1 Integer\n",
       "0 <= Asignacion_('D1',_'P2') <= 1 Integer\n",
       "0 <= Asignacion_('D1',_'P3') <= 1 Integer\n",
       "0 <= Asignacion_('D1',_'P4') <= 1 Integer\n",
       "0 <= Asignacion_('D1',_'P5') <= 1 Integer\n",
       "0 <= Asignacion_('D1',_'P6') <= 1 Integer\n",
       "0 <= Asignacion_('D2',_'P1') <= 1 Integer\n",
       "0 <= Asignacion_('D2',_'P2') <= 1 Integer\n",
       "0 <= Asignacion_('D2',_'P3') <= 1 Integer\n",
       "0 <= Asignacion_('D2',_'P4') <= 1 Integer\n",
       "0 <= Asignacion_('D2',_'P5') <= 1 Integer\n",
       "0 <= Asignacion_('D2',_'P6') <= 1 Integer\n",
       "0 <= Asignacion_('D3',_'P1') <= 1 Integer\n",
       "0 <= Asignacion_('D3',_'P2') <= 1 Integer\n",
       "0 <= Asignacion_('D3',_'P3') <= 1 Integer\n",
       "0 <= Asignacion_('D3',_'P4') <= 1 Integer\n",
       "0 <= Asignacion_('D3',_'P5') <= 1 Integer\n",
       "0 <= Asignacion_('D3',_'P6') <= 1 Integer\n",
       "0 <= Asignacion_('D4',_'P1') <= 1 Integer\n",
       "0 <= Asignacion_('D4',_'P2') <= 1 Integer\n",
       "0 <= Asignacion_('D4',_'P3') <= 1 Integer\n",
       "0 <= Asignacion_('D4',_'P4') <= 1 Integer\n",
       "0 <= Asignacion_('D4',_'P5') <= 1 Integer\n",
       "0 <= Asignacion_('D4',_'P6') <= 1 Integer\n",
       "0 <= Asignacion_('D5',_'P1') <= 1 Integer\n",
       "0 <= Asignacion_('D5',_'P2') <= 1 Integer\n",
       "0 <= Asignacion_('D5',_'P3') <= 1 Integer\n",
       "0 <= Asignacion_('D5',_'P4') <= 1 Integer\n",
       "0 <= Asignacion_('D5',_'P5') <= 1 Integer\n",
       "0 <= Asignacion_('D5',_'P6') <= 1 Integer"
      ]
     },
     "execution_count": 47,
     "metadata": {},
     "output_type": "execute_result"
    }
   ],
   "source": [
    "problema"
   ]
  }
 ],
 "metadata": {
  "kernelspec": {
   "display_name": "base",
   "language": "python",
   "name": "python3"
  },
  "language_info": {
   "codemirror_mode": {
    "name": "ipython",
    "version": 3
   },
   "file_extension": ".py",
   "mimetype": "text/x-python",
   "name": "python",
   "nbconvert_exporter": "python",
   "pygments_lexer": "ipython3",
   "version": "3.11.7"
  }
 },
 "nbformat": 4,
 "nbformat_minor": 5
}
